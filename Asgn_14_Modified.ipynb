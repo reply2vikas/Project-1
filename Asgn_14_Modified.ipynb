{
  "nbformat": 4,
  "nbformat_minor": 0,
  "metadata": {
    "colab": {
      "name": "Asgn_14_Modified.ipynb",
      "version": "0.3.2",
      "provenance": [],
      "machine_shape": "hm",
      "include_colab_link": true
    },
    "kernelspec": {
      "name": "python3",
      "display_name": "Python 3"
    },
    "accelerator": "GPU"
  },
  "cells": [
    {
      "cell_type": "markdown",
      "metadata": {
        "id": "view-in-github",
        "colab_type": "text"
      },
      "source": [
        "<a href=\"https://colab.research.google.com/github/reply2vikas/Project-1/blob/master/Asgn_14_Modified.ipynb\" target=\"_parent\"><img src=\"https://colab.research.google.com/assets/colab-badge.svg\" alt=\"Open In Colab\"/></a>"
      ]
    },
    {
      "cell_type": "code",
      "metadata": {
        "id": "kOsYqWHvQBrZ",
        "colab_type": "code",
        "colab": {}
      },
      "source": [
        "import numpy as np\n",
        "import time, math\n",
        "from tqdm import tqdm_notebook as tqdm\n",
        "import gc\n",
        "import tensorflow as tf\n",
        "import tensorflow.contrib.eager as tfe"
      ],
      "execution_count": 0,
      "outputs": []
    },
    {
      "cell_type": "code",
      "metadata": {
        "id": "swdcOsuL51ly",
        "colab_type": "code",
        "colab": {}
      },
      "source": [
        "import numpy as np\n",
        "import skimage\n",
        "import time, math\n",
        "from tqdm import tqdm_notebook as tqdm\n",
        "import tensorflow as tf\n",
        "import tensorflow.contrib.eager as t\n",
        "\n",
        "import matplotlib.pyplot as plt\n",
        "% matplotlib inline\n",
        "from IPython.core.interactiveshell import InteractiveShell\n",
        "InteractiveShell.ast_node_interactivity = \"all\"\n",
        "\n",
        "import imgaug.augmenters as iaa\n",
        "\n",
        "from albumentations import (\n",
        "    HorizontalFlip, IAAPerspective, ShiftScaleRotate, CLAHE, RandomRotate90,RandomScale,Rotate,HorizontalFlip,\n",
        "    Transpose, ShiftScaleRotate, Blur, OpticalDistortion, GridDistortion, HueSaturationValue,RandomCrop,PadIfNeeded,\n",
        "    IAAAdditiveGaussianNoise, GaussNoise, MotionBlur, MedianBlur, IAAPiecewiseAffine,GridDistortion,\n",
        "    IAASharpen, IAAEmboss, RandomBrightnessContrast, Flip, OneOf, Compose, ChannelShuffle,RandomContrast\n",
        ")"
      ],
      "execution_count": 0,
      "outputs": []
    },
    {
      "cell_type": "code",
      "metadata": {
        "id": "KcVY1UhnQPDO",
        "colab_type": "code",
        "colab": {}
      },
      "source": [
        "# instead of using graph we are doing imediate execution\n",
        "tf.enable_eager_execution()\n"
      ],
      "execution_count": 0,
      "outputs": []
    },
    {
      "cell_type": "code",
      "metadata": {
        "id": "4LfLeMAyQU7z",
        "colab_type": "code",
        "outputId": "497600b9-1dc7-4252-c0b7-42eea77f2cfb",
        "colab": {
          "base_uri": "https://localhost:8080/",
          "height": 34
        }
      },
      "source": [
        "BATCH_SIZE = 512 #@param {type:\"integer\"}\n",
        "MOMENTUM = 0.91 #@param {type:\"number\"}\n",
        "LEARNING_RATE = 0.45 #@param {type:\"number\"}\n",
        "WEIGHT_DECAY = 5e-4 #@param {type:\"number\"}\n",
        "EPOCHS = 24 #@param {type:\"integer\"}\n",
        "cutout_proba = 0.4\n",
        "shift_proba = 0.2\n",
        "scale_proba = 0.2\n",
        "rotate_proba = 0.2\n",
        "rot90_proba = 0.2\n",
        "grid_proba = 0.25\n",
        "\n",
        "no_aug_proba = 0.6\n",
        "\n",
        "print(cutout_proba + shift_proba + scale_proba + rotate_proba + rot90_proba + grid_proba)\n",
        "\n",
        "max_augs_per_image = 2\n",
        "\n",
        "mixed_precision = False\n",
        "xla_enabled = False"
      ],
      "execution_count": 4,
      "outputs": [
        {
          "output_type": "stream",
          "text": [
            "1.45\n"
          ],
          "name": "stdout"
        }
      ]
    },
    {
      "cell_type": "code",
      "metadata": {
        "id": "KkQkaJut6YPI",
        "colab_type": "code",
        "colab": {}
      },
      "source": [
        "def get_cutout_eraser(p=0.5, s_l=0.05, s_h=0.15, r_1=0.4, r_2=1 / 0.4, \n",
        "                      v_l=-1,v_h=1,\n",
        "                      max_erasures_per_image=1, pixel_level=True):\n",
        "    \"\"\"\n",
        "\n",
        "    :param p:\n",
        "    :param s_l: Minimum Area Proportion of Original that may be cut\n",
        "    :param s_h: Maximum Area Proportion of Original that may be cut\n",
        "    :param r_1: Min Aspect Ratio\n",
        "    :param r_2: Max Aspect Ratio\n",
        "    :param max_erasures_per_image:\n",
        "    :param pixel_level:\n",
        "    :return: Eraser to be used as Preprocessing Function\n",
        "    \"\"\"\n",
        "    assert max_erasures_per_image >= 1\n",
        "\n",
        "    def eraser(input_img):\n",
        "        img_h, img_w, img_c = input_img.shape\n",
        "        shape = input_img.shape\n",
        "        p_1 = np.random.rand()\n",
        "\n",
        "        if p_1 > p:\n",
        "            return input_img\n",
        "        mx = np.random.randint(1, max_erasures_per_image + 1)\n",
        "        for i in range(mx):\n",
        "            while True:\n",
        "                s = np.random.uniform(s_l, s_h) * img_h * img_w\n",
        "                r = np.random.uniform(r_1, r_2)\n",
        "                w = int(np.sqrt(s / r))\n",
        "                h = int(np.sqrt(s * r))\n",
        "                left = np.random.randint(0, img_w)\n",
        "                top = np.random.randint(0, img_h)\n",
        "\n",
        "                if left + w <= img_w and top + h <= img_h:\n",
        "                    break\n",
        "\n",
        "            # print(\"W = \",w,\"H = \",h,end =\", \")\n",
        "\n",
        "            if pixel_level:\n",
        "                c = np.random.uniform(v_l, v_h, (h, w, img_c))\n",
        "            else:\n",
        "                c = np.random.uniform(v_l, v_h)\n",
        "\n",
        "#             input_img = tf.Variable(input_img)\n",
        "#             input_img = input_img[top:top + h, left:left + w, :].assign(tf.constant(c, shape=(h, w, img_c)))\n",
        "            input_img[top:top + h, left:left + w, :] = c\n",
        "#         \n",
        "        return input_img\n",
        "\n",
        "    return eraser"
      ],
      "execution_count": 0,
      "outputs": []
    },
    {
      "cell_type": "code",
      "metadata": {
        "id": "AwS9BRv_QWR0",
        "colab_type": "code",
        "colab": {}
      },
      "source": [
        "def init_pytorch(shape, dtype=tf.float32, partition_info=None):\n",
        "    fan = np.prod(shape[:-1])\n",
        "    bound = 1 / math.sqrt(fan)\n",
        "    return tf.random.uniform(shape, minval=-bound, maxval=bound, dtype=dtype)"
      ],
      "execution_count": 0,
      "outputs": []
    },
    {
      "cell_type": "code",
      "metadata": {
        "id": "gQdPrpJ8QXvy",
        "colab_type": "code",
        "colab": {}
      },
      "source": [
        "class ConvBN(tf.keras.Model):\n",
        "    def __init__(self, c_out):\n",
        "        super().__init__()\n",
        "        self.conv = tf.keras.layers.Conv2D(filters=c_out, kernel_size=3, padding=\"SAME\", kernel_initializer=init_pytorch, use_bias=False)\n",
        "        self.bn = tf.keras.layers.BatchNormalization(momentum=0.95, epsilon=1e-5)\n",
        "\n",
        "    def call(self, inputs):\n",
        "        return tf.nn.relu(self.bn(self.conv(inputs)))"
      ],
      "execution_count": 0,
      "outputs": []
    },
    {
      "cell_type": "code",
      "metadata": {
        "id": "oBuqNlb7QZc9",
        "colab_type": "code",
        "colab": {}
      },
      "source": [
        "class ResBlk(tf.keras.Model):\n",
        "    def __init__(self, c_out, pool, res = False):\n",
        "        super().__init__()\n",
        "        self.conv_bn = ConvBN(c_out)\n",
        "        self.pool = pool\n",
        "        self.res = res\n",
        "        if self.res:\n",
        "            self.res1 = ConvBN(c_out)\n",
        "            self.res2 = ConvBN(c_out)\n",
        "\n",
        "    def call(self, inputs):\n",
        "        h = self.pool(self.conv_bn(inputs))\n",
        "        if self.res:\n",
        "            h = h + self.res2(self.res1(h))\n",
        "        return h"
      ],
      "execution_count": 0,
      "outputs": []
    },
    {
      "cell_type": "code",
      "metadata": {
        "id": "uB5ENbbjQa7r",
        "colab_type": "code",
        "colab": {}
      },
      "source": [
        "\n",
        "class DavidNet(tf.keras.Model):\n",
        "    def __init__(self, c=64, weight=0.125):\n",
        "        super().__init__()\n",
        "        pool = tf.keras.layers.MaxPooling2D()\n",
        "        self.init_conv_bn = ConvBN(c)\n",
        "        self.blk1 = ResBlk(c*2, pool, res = True)\n",
        "        self.blk2 = ResBlk(c*4, pool)\n",
        "        self.blk3 = ResBlk(c*8, pool, res = True)\n",
        "        self.pool = tf.keras.layers.GlobalMaxPool2D()\n",
        "        self.linear = tf.keras.layers.Dense(10, kernel_initializer=init_pytorch, use_bias=False)\n",
        "        self.weight = weight\n",
        "\n",
        "    def call(self, x, y):\n",
        "        h = self.pool(self.blk3(self.blk2(self.blk1(self.init_conv_bn(x)))))\n",
        "        h = self.linear(h) * self.weight\n",
        "        ce = tf.nn.sparse_softmax_cross_entropy_with_logits(logits=h, labels=y)\n",
        "        loss = tf.reduce_sum(ce)\n",
        "        correct = tf.reduce_sum(tf.cast(tf.math.equal(tf.argmax(h, axis = 1), y), tf.float32))\n",
        "        return loss, correct"
      ],
      "execution_count": 0,
      "outputs": []
    },
    {
      "cell_type": "code",
      "metadata": {
        "id": "EQC9BguoQcfp",
        "colab_type": "code",
        "colab": {}
      },
      "source": [
        "(x_train, y_train), (x_test, y_test) = tf.keras.datasets.cifar10.load_data()\n",
        "len_train, len_test = len(x_train), len(x_test)\n",
        "y_train = y_train.astype('int64').reshape(len_train)\n",
        "y_test = y_test.astype('int64').reshape(len_test)\n",
        "\n",
        "train_mean = np.mean(x_train, axis=(0,1,2))\n",
        "train_std = np.std(x_train, axis=(0,1,2))\n",
        "\n",
        "normalize = lambda x: ((x - train_mean) / train_std).astype('float32') # todo: check here\n",
        "pad4 = lambda x: np.pad(x, [(0, 0), (4, 4), (4, 4), (0, 0)], mode='reflect')\n",
        "\n",
        "x_train = normalize(pad4(x_train))\n",
        "x_test = normalize(x_test)"
      ],
      "execution_count": 0,
      "outputs": []
    },
    {
      "cell_type": "code",
      "metadata": {
        "id": "cxZ1katR7f2g",
        "colab_type": "code",
        "outputId": "97fdde10-4f95-42f0-cab4-d95b8614f638",
        "colab": {
          "base_uri": "https://localhost:8080/",
          "height": 34
        }
      },
      "source": [
        "print(gc.collect())\n",
        "\n",
        "model = DavidNet(weight=0.125)\n",
        "batches_per_epoch = len_train//BATCH_SIZE + 1\n",
        "\n",
        "lr_schedule = lambda t: np.interp([t], [0, (EPOCHS+1)//5, EPOCHS], [0, LEARNING_RATE, 0])[0]\n",
        "\n",
        "# lr_schedule = lambda t: np.interp([t], [0.0001, (EPOCHS+1)//5, EPOCHS-3, EPOCHS-2,EPOCHS-1, EPOCHS], [0, LEARNING_RATE, 0.09,0.06,0.03,0.001])[0]\n",
        "\n",
        "\n",
        "\n",
        "global_step = tf.train.get_or_create_global_step()\n",
        "lr_func = lambda: lr_schedule(global_step/batches_per_epoch)/BATCH_SIZE\n",
        "opt = tf.train.MomentumOptimizer(lr_func, momentum=MOMENTUM, use_nesterov=True)\n",
        "\n",
        "if mixed_precision:\n",
        "    opt = tf.train.experimental.enable_mixed_precision_graph_rewrite(opt)\n",
        "\n",
        "data_aug1 = lambda x, y: (tf.image.random_flip_left_right(tf.random_crop(x, [32, 32, 3])), y)\n",
        "# data_aug1 = lambda x,y: (x,y)\n",
        "# data_aug2 = lambda x,y: (tf.image.random_hue(tf.image.random_brightness(x,max_delta=0.1),max_delta=0.1),y)\n",
        "# data_aug2 = lambda x,y: (x,y)\n",
        "# data_aug3 = lambda x, y: (tf.image.random_contrast(tf.image.random_saturation(x, 0.7, 1.3),0.7, 1.3), y)\n",
        "# data_aug3 = lambda x,y: (x,y)\n",
        "# data_aug = lambda x, y:data_aug1(*data_aug2(*data_aug3(x,y)))\n",
        "data_aug = lambda x, y:data_aug1(x,y)\n",
        "\n",
        "# rot90 = lambda x,y: (tf.image.rot90(x, np.random.choice([0,1,3],p=[1-rot90_proba,rot90_proba/2,rot90_proba/2])),y)\n",
        "\n",
        "cutout_fn = get_cutout_eraser(p=1.0, pixel_level=True)\n",
        "\n",
        "rotate_one = lambda x : tf.keras.preprocessing.image.random_rotation(x, rg=45, row_axis=0,col_axis=1,channel_axis=2)\n",
        "\n",
        "\n",
        "\n",
        "ssr = ShiftScaleRotate(shift_limit=0.1, scale_limit=0.1, rotate_limit=30,p=1.0)\n",
        "rotate_one = lambda x: ssr(image=x)['image']\n",
        "\n",
        "# \n",
        "rt = Rotate(limit=30,p=1.0)\n",
        "rotate_one = lambda x: rt(image=x)['image']\n",
        "\n",
        "rs = RandomScale(scale_limit=0.1, p=1.0)\n",
        "scale_one = lambda x: rs(image=x)['image']\n",
        "\n",
        "rshift = ShiftScaleRotate(shift_limit=0.05, scale_limit=0.0, rotate_limit=0,p=1.0)\n",
        "shift_one = lambda x: rshift(image=x)['image']\n",
        "\n",
        "# gds = GridDistortion(num_steps=8, distort_limit=0.3,p=1.0)\n",
        "# gds_one = lambda x: gds(image=x)['image']\n",
        "\n",
        "rcr = RandomCrop(40,40,p=1.0)\n",
        "rcrop_one = lambda x: rcr(image=x)['image']\n",
        "\n",
        "pad = PadIfNeeded(40,40)\n",
        "pad_one = lambda x: pad(image=x)['image']\n",
        "\n",
        "# rot90_one = lambda x:np.rot90(x, k=np.random.choice([1,3]))\n",
        "\n",
        "def constrained_augs(imgs,epoch):\n",
        "    imgs = np.copy(imgs)\n",
        "    fns = [cutout_fn,shift_one,scale_one,rotate_one]\n",
        "    probas = [cutout_proba,shift_proba,scale_proba,rotate_proba]\n",
        "    for i,im in enumerate(imgs):\n",
        "        num_augs = np.random.choice(list(range(max_augs_per_image+1)),p=[no_aug_proba]+[(1-no_aug_proba)/max_augs_per_image]*max_augs_per_image)   \n",
        "        choices = np.random.choice(list(range(4)),size=num_augs,replace=False,p=probas)   \n",
        "        \n",
        "        if 4 in choices:\n",
        "            choices = [4]\n",
        "        \n",
        "#         print(choices)\n",
        "        \n",
        "        for j in choices:\n",
        "            im = fns[j](im)\n",
        "            if im.shape[0]<40:\n",
        "                im = pad_one(im)\n",
        "            if im.shape[0]>40:\n",
        "                im = rcrop_one(im)\n",
        "        imgs[i] = im\n",
        "    \n",
        "    return imgs\n",
        "\n",
        "\n"
      ],
      "execution_count": 11,
      "outputs": [
        {
          "output_type": "stream",
          "text": [
            "321\n"
          ],
          "name": "stdout"
        }
      ]
    },
    {
      "cell_type": "code",
      "metadata": {
        "id": "U-csNfkJLOCF",
        "colab_type": "code",
        "outputId": "ca060fb6-3bf8-4c09-e158-d962a633b5f0",
        "colab": {
          "base_uri": "https://localhost:8080/",
          "height": 34
        }
      },
      "source": [
        "x_train.shape"
      ],
      "execution_count": 12,
      "outputs": [
        {
          "output_type": "execute_result",
          "data": {
            "text/plain": [
              "(50000, 40, 40, 3)"
            ]
          },
          "metadata": {
            "tags": []
          },
          "execution_count": 12
        }
      ]
    },
    {
      "cell_type": "code",
      "metadata": {
        "id": "BEGI__FtLR4S",
        "colab_type": "code",
        "outputId": "c60972e5-2a23-438c-bd62-38fd5063bd83",
        "colab": {
          "base_uri": "https://localhost:8080/",
          "height": 34
        }
      },
      "source": [
        "gc.collect()"
      ],
      "execution_count": 13,
      "outputs": [
        {
          "output_type": "execute_result",
          "data": {
            "text/plain": [
              "0"
            ]
          },
          "metadata": {
            "tags": []
          },
          "execution_count": 13
        }
      ]
    },
    {
      "cell_type": "code",
      "metadata": {
        "id": "QWB8biAG9Fhh",
        "colab_type": "code",
        "outputId": "762ce905-3a0b-4b2f-8d83-03b9b28e8c30",
        "colab": {
          "base_uri": "https://localhost:8080/",
          "height": 255
        }
      },
      "source": [
        "print(gc.collect())\n",
        "t1 = time.time()\n",
        "train_data = {}\n",
        "for epoch in range(EPOCHS):\n",
        "    \n",
        "    if epoch%2==1:\n",
        "        print(\"Epoch = \",epoch,\" Time = \",(time.time()-t1))\n",
        "    xt = constrained_augs(x_train, epoch)\n",
        "    train_set = tf.data.Dataset.from_tensor_slices((xt, y_train)).map(data_aug, num_parallel_calls=tf.data.experimental.AUTOTUNE).shuffle(len_train).batch(len_train).prefetch(len_train)\n",
        "#     train_set = tf.data.Dataset.from_tensor_slices((x_train, y_train)).map(data_aug).shuffle(len_train).batch(BATCH_SIZE).prefetch(1)\n",
        "\n",
        "    i = 0\n",
        "    for x,y in train_set:\n",
        "        assert x.numpy().shape[0]==len_train\n",
        "        train_set = (x.numpy(),y.numpy())\n",
        "        i = i+1\n",
        "    assert i==1\n",
        "    train_data[epoch] = train_set\n",
        "t2 = time.time()\n",
        "\"%.1f\" %(t2-t1)"
      ],
      "execution_count": 14,
      "outputs": [
        {
          "output_type": "stream",
          "text": [
            "79\n",
            "Epoch =  1  Time =  11.442243337631226\n",
            "Epoch =  3  Time =  36.04864311218262\n",
            "Epoch =  5  Time =  60.510441064834595\n",
            "Epoch =  7  Time =  84.6737596988678\n",
            "Epoch =  9  Time =  109.07089376449585\n",
            "Epoch =  11  Time =  133.81232905387878\n",
            "Epoch =  13  Time =  157.95786356925964\n",
            "Epoch =  15  Time =  182.24968576431274\n",
            "Epoch =  17  Time =  206.98028254508972\n",
            "Epoch =  19  Time =  231.29131436347961\n",
            "Epoch =  21  Time =  255.59214448928833\n",
            "Epoch =  23  Time =  280.07941484451294\n"
          ],
          "name": "stdout"
        },
        {
          "output_type": "execute_result",
          "data": {
            "text/plain": [
              "'292.3'"
            ]
          },
          "metadata": {
            "tags": []
          },
          "execution_count": 14
        }
      ]
    },
    {
      "cell_type": "code",
      "metadata": {
        "id": "dXeIH9EQnsgv",
        "colab_type": "code",
        "colab": {
          "base_uri": "https://localhost:8080/",
          "height": 34
        },
        "outputId": "541f01cf-d811-4683-8bd2-f4690725b214"
      },
      "source": [
        "x_train.shape"
      ],
      "execution_count": 15,
      "outputs": [
        {
          "output_type": "execute_result",
          "data": {
            "text/plain": [
              "(50000, 40, 40, 3)"
            ]
          },
          "metadata": {
            "tags": []
          },
          "execution_count": 15
        }
      ]
    },
    {
      "cell_type": "code",
      "metadata": {
        "id": "QLcWfwoKnulE",
        "colab_type": "code",
        "colab": {
          "base_uri": "https://localhost:8080/",
          "height": 34
        },
        "outputId": "470c83d1-5cd5-42fb-f67a-8a310b28f9c1"
      },
      "source": [
        "x_test.shape"
      ],
      "execution_count": 16,
      "outputs": [
        {
          "output_type": "execute_result",
          "data": {
            "text/plain": [
              "(10000, 32, 32, 3)"
            ]
          },
          "metadata": {
            "tags": []
          },
          "execution_count": 16
        }
      ]
    },
    {
      "cell_type": "code",
      "metadata": {
        "id": "KflDskc2Jju8",
        "colab_type": "code",
        "colab": {
          "base_uri": "https://localhost:8080/",
          "height": 34
        },
        "outputId": "6192a70e-47c1-4d1c-ecbc-d282010b0560"
      },
      "source": [
        "x.numpy().shape[0]"
      ],
      "execution_count": 17,
      "outputs": [
        {
          "output_type": "execute_result",
          "data": {
            "text/plain": [
              "50000"
            ]
          },
          "metadata": {
            "tags": []
          },
          "execution_count": 17
        }
      ]
    },
    {
      "cell_type": "code",
      "metadata": {
        "id": "kHcHaUl6Jn-P",
        "colab_type": "code",
        "colab": {
          "base_uri": "https://localhost:8080/",
          "height": 34
        },
        "outputId": "433c50a8-5c97-4906-a31d-b427ecb6701d"
      },
      "source": [
        "len_train"
      ],
      "execution_count": 18,
      "outputs": [
        {
          "output_type": "execute_result",
          "data": {
            "text/plain": [
              "50000"
            ]
          },
          "metadata": {
            "tags": []
          },
          "execution_count": 18
        }
      ]
    },
    {
      "cell_type": "code",
      "metadata": {
        "id": "AjPm5dEz8TG2",
        "colab_type": "code",
        "outputId": "ea726c80-7c28-45ac-e7da-f5c34862e980",
        "colab": {
          "base_uri": "https://localhost:8080/",
          "height": 711
        }
      },
      "source": [
        "print(gc.collect())\n",
        "t = time.time()\n",
        "t_last = time.time()\n",
        "train_accs = []\n",
        "test_accs = []\n",
        "test_set = tf.data.Dataset.from_tensor_slices((x_test, y_test)).batch(BATCH_SIZE).prefetch(1)\n",
        "\n",
        "for epoch in range(EPOCHS):\n",
        "    train_loss = test_loss = train_acc = test_acc = 0.0\n",
        "    train_set = train_data[epoch]\n",
        "    train_set = tf.data.Dataset.from_tensor_slices(train_set).batch(BATCH_SIZE).prefetch(1)\n",
        "    tf.keras.backend.set_learning_phase(1)\n",
        "    for (x, y) in train_set:\n",
        "        with tf.GradientTape() as tape:\n",
        "            loss, correct = model(x, y)\n",
        "\n",
        "        var = model.trainable_variables\n",
        "        grads = tape.gradient(loss, var)\n",
        "        for g, v in zip(grads, var):\n",
        "            g += v * (WEIGHT_DECAY/(epoch+1)) * BATCH_SIZE\n",
        "        opt.apply_gradients(zip(grads, var), global_step=global_step)\n",
        "\n",
        "        train_loss += loss.numpy()\n",
        "        train_acc += correct.numpy()\n",
        "\n",
        "    tf.keras.backend.set_learning_phase(0)\n",
        "    for (x, y) in test_set:\n",
        "        loss, correct = model(x, y)\n",
        "        test_loss += loss.numpy()\n",
        "        test_acc += correct.numpy()\n",
        "\n",
        "    t2 = time.time()\n",
        "    epoch_time = t2 - t_last\n",
        "    t_last = t2\n",
        "    train_accs.append(train_acc / len_train)\n",
        "    test_accs.append(test_acc / len_test)\n",
        "    print(\"epoch = %s\"%(epoch+1),'lr: %.4f' % (lr_schedule(epoch+1)), '| train loss: %.4f' %(train_loss / len_train), 'train acc: %.3f' % (train_acc / len_train), 'val loss: %.4f' % (test_loss / len_test), 'val acc: %.3f' %(test_acc / len_test),\"epoch time: %.2f\"%(epoch_time), 'time: %.2f'%(t2 - t))\n",
        "   \n",
        "  \n",
        "    \n",
        "plt.figure()\n",
        "plt.plot(train_accs[3:])\n",
        "plt.plot(test_accs[3:])\n",
        "plt.show()"
      ],
      "execution_count": 19,
      "outputs": [
        {
          "output_type": "stream",
          "text": [
            "0\n",
            "epoch = 1 lr: 0.0900 | train loss: 1.5918 train acc: 0.423 val loss: 1.5237 val acc: 0.528 epoch time: 72.80 time: 72.80\n",
            "epoch = 2 lr: 0.1800 | train loss: 0.9416 train acc: 0.666 val loss: 1.5221 val acc: 0.600 epoch time: 61.08 time: 133.88\n",
            "epoch = 3 lr: 0.2700 | train loss: 0.7519 train acc: 0.737 val loss: 0.7868 val acc: 0.737 epoch time: 60.99 time: 194.86\n",
            "epoch = 4 lr: 0.3600 | train loss: 0.6620 train acc: 0.770 val loss: 0.7269 val acc: 0.765 epoch time: 60.96 time: 255.82\n",
            "epoch = 5 lr: 0.4500 | train loss: 0.5951 train acc: 0.796 val loss: 0.6455 val acc: 0.788 epoch time: 60.98 time: 316.80\n",
            "epoch = 6 lr: 0.4263 | train loss: 0.4879 train acc: 0.831 val loss: 0.6612 val acc: 0.790 epoch time: 61.29 time: 378.09\n",
            "epoch = 7 lr: 0.4026 | train loss: 0.4127 train acc: 0.857 val loss: 0.6023 val acc: 0.815 epoch time: 61.03 time: 439.12\n",
            "epoch = 8 lr: 0.3789 | train loss: 0.3650 train acc: 0.872 val loss: 0.5425 val acc: 0.824 epoch time: 61.10 time: 500.22\n",
            "epoch = 9 lr: 0.3553 | train loss: 0.3257 train acc: 0.887 val loss: 0.4483 val acc: 0.851 epoch time: 61.16 time: 561.38\n",
            "epoch = 10 lr: 0.3316 | train loss: 0.2981 train acc: 0.897 val loss: 0.4827 val acc: 0.846 epoch time: 61.04 time: 622.41\n",
            "epoch = 11 lr: 0.3079 | train loss: 0.2670 train acc: 0.907 val loss: 0.4003 val acc: 0.869 epoch time: 61.23 time: 683.64\n",
            "epoch = 12 lr: 0.2842 | train loss: 0.2480 train acc: 0.915 val loss: 0.3634 val acc: 0.880 epoch time: 61.04 time: 744.69\n",
            "epoch = 13 lr: 0.2605 | train loss: 0.2228 train acc: 0.923 val loss: 0.3351 val acc: 0.892 epoch time: 60.89 time: 805.58\n",
            "epoch = 14 lr: 0.2368 | train loss: 0.2064 train acc: 0.929 val loss: 0.2959 val acc: 0.906 epoch time: 61.15 time: 866.72\n",
            "epoch = 15 lr: 0.2132 | train loss: 0.1903 train acc: 0.936 val loss: 0.2765 val acc: 0.911 epoch time: 61.08 time: 927.80\n",
            "epoch = 16 lr: 0.1895 | train loss: 0.1730 train acc: 0.941 val loss: 0.3037 val acc: 0.901 epoch time: 61.00 time: 988.81\n",
            "epoch = 17 lr: 0.1658 | train loss: 0.1564 train acc: 0.946 val loss: 0.2733 val acc: 0.912 epoch time: 60.91 time: 1049.72\n",
            "epoch = 18 lr: 0.1421 | train loss: 0.1447 train acc: 0.952 val loss: 0.3329 val acc: 0.902 epoch time: 61.07 time: 1110.79\n",
            "epoch = 19 lr: 0.1184 | train loss: 0.1339 train acc: 0.955 val loss: 0.2749 val acc: 0.913 epoch time: 61.14 time: 1171.93\n",
            "epoch = 20 lr: 0.0947 | train loss: 0.1232 train acc: 0.959 val loss: 0.2561 val acc: 0.923 epoch time: 61.08 time: 1233.01\n",
            "epoch = 21 lr: 0.0711 | train loss: 0.1137 train acc: 0.962 val loss: 0.2342 val acc: 0.928 epoch time: 61.02 time: 1294.03\n",
            "epoch = 22 lr: 0.0474 | train loss: 0.1019 train acc: 0.965 val loss: 0.2194 val acc: 0.932 epoch time: 61.04 time: 1355.07\n",
            "epoch = 23 lr: 0.0237 | train loss: 0.0972 train acc: 0.968 val loss: 0.2110 val acc: 0.934 epoch time: 61.10 time: 1416.17\n",
            "epoch = 24 lr: 0.0000 | train loss: 0.0915 train acc: 0.970 val loss: 0.2064 val acc: 0.935 epoch time: 61.02 time: 1477.19\n"
          ],
          "name": "stdout"
        },
        {
          "output_type": "execute_result",
          "data": {
            "text/plain": [
              "<Figure size 432x288 with 0 Axes>"
            ]
          },
          "metadata": {
            "tags": []
          },
          "execution_count": 19
        },
        {
          "output_type": "execute_result",
          "data": {
            "text/plain": [
              "[<matplotlib.lines.Line2D at 0x7f4672e8c1d0>]"
            ]
          },
          "metadata": {
            "tags": []
          },
          "execution_count": 19
        },
        {
          "output_type": "execute_result",
          "data": {
            "text/plain": [
              "[<matplotlib.lines.Line2D at 0x7f4672f729e8>]"
            ]
          },
          "metadata": {
            "tags": []
          },
          "execution_count": 19
        },
        {
          "output_type": "display_data",
          "data": {
            "image/png": "[encoded data removed]",
            "text/plain": [
              "<Figure size 432x288 with 1 Axes>"
            ]
          },
          "metadata": {
            "tags": []
          }
        }
      ]
    },
    {
      "cell_type": "code",
      "metadata": {
        "id": "YpmzfrxuD36X",
        "colab_type": "code",
        "outputId": "a7270511-b583-44ef-c9f0-4fc456a0ac90",
        "colab": {
          "base_uri": "https://localhost:8080/",
          "height": 371
        }
      },
      "source": [
        "for epoch in range(5):\n",
        "    train_loss = test_loss = train_acc = test_acc = 0.0\n",
        "    train_set = train_data[epoch]\n",
        "    train_set = tf.data.Dataset.from_tensor_slices(train_set).batch(BATCH_SIZE).prefetch(1)\n",
        "    tf.keras.backend.set_learning_phase(1)\n",
        "    for (x, y) in train_set:\n",
        "        with tf.GradientTape() as tape:\n",
        "            loss, correct = model(x, y)\n",
        "\n",
        "        var = model.trainable_variables\n",
        "        grads = tape.gradient(loss, var)\n",
        "        for g, v in zip(grads, var):\n",
        "            g += v * (WEIGHT_DECAY/(epoch+1)) * BATCH_SIZE\n",
        "        opt.apply_gradients(zip(grads, var), global_step=global_step)\n",
        "\n",
        "        train_loss += loss.numpy()\n",
        "        train_acc += correct.numpy()\n",
        "\n",
        "    tf.keras.backend.set_learning_phase(0)\n",
        "    for (x, y) in test_set:\n",
        "        loss, correct = model(x, y)\n",
        "        test_loss += loss.numpy()\n",
        "        test_acc += correct.numpy()\n",
        "\n",
        "    t2 = time.time()\n",
        "    epoch_time = t2 - t_last\n",
        "    t_last = t2\n",
        "    train_accs.append(train_acc / len_train)\n",
        "    test_accs.append(test_acc / len_test)\n",
        "    print(\"epoch = %s\"%(epoch+1),'lr: %.4f' % (lr_schedule(epoch+1)), '| train loss: %.4f' %(train_loss / len_train), 'train acc: %.3f' % (train_acc / len_train), 'val loss: %.4f' % (test_loss / len_test), 'val acc: %.3f' %(test_acc / len_test),\"epoch time: %.2f\"%(epoch_time), 'time: %.2f'%(t2 - t))\n",
        "    \n",
        "    \n",
        "plt.figure()\n",
        "plt.plot(train_accs[3:])\n",
        "plt.plot(test_accs[3:])\n",
        "plt.show()"
      ],
      "execution_count": 20,
      "outputs": [
        {
          "output_type": "stream",
          "text": [
            "epoch = 1 lr: 0.0900 | train loss: 0.0881 train acc: 0.972 val loss: 0.2068 val acc: 0.935 epoch time: 61.45 time: 1538.64\n",
            "epoch = 2 lr: 0.1800 | train loss: 0.0865 train acc: 0.972 val loss: 0.2073 val acc: 0.935 epoch time: 61.03 time: 1599.67\n",
            "epoch = 3 lr: 0.2700 | train loss: 0.0848 train acc: 0.973 val loss: 0.2069 val acc: 0.935 epoch time: 61.21 time: 1660.88\n",
            "epoch = 4 lr: 0.3600 | train loss: 0.0828 train acc: 0.974 val loss: 0.2071 val acc: 0.934 epoch time: 61.08 time: 1721.96\n",
            "epoch = 5 lr: 0.4500 | train loss: 0.0779 train acc: 0.975 val loss: 0.2067 val acc: 0.935 epoch time: 61.22 time: 1783.19\n"
          ],
          "name": "stdout"
        },
        {
          "output_type": "execute_result",
          "data": {
            "text/plain": [
              "<Figure size 432x288 with 0 Axes>"
            ]
          },
          "metadata": {
            "tags": []
          },
          "execution_count": 20
        },
        {
          "output_type": "execute_result",
          "data": {
            "text/plain": [
              "[<matplotlib.lines.Line2D at 0x7f4670e1d860>]"
            ]
          },
          "metadata": {
            "tags": []
          },
          "execution_count": 20
        },
        {
          "output_type": "execute_result",
          "data": {
            "text/plain": [
              "[<matplotlib.lines.Line2D at 0x7f4672e66d68>]"
            ]
          },
          "metadata": {
            "tags": []
          },
          "execution_count": 20
        },
        {
          "output_type": "display_data",
          "data": {
            "image/png": "[encoded data removed]",
            "text/plain": [
              "<Figure size 432x288 with 1 Axes>"
            ]
          },
          "metadata": {
            "tags": []
          }
        }
      ]
    },
    {
      "cell_type": "code",
      "metadata": {
        "id": "MXUe9_7Vf8Ag",
        "colab_type": "code",
        "outputId": "d5bf9afd-d9aa-431b-e2c9-e1fca4e27191",
        "colab": {
          "base_uri": "https://localhost:8080/",
          "height": 34
        }
      },
      "source": [
        "from google.colab import drive\n",
        "drive.mount('/gdrive')"
      ],
      "execution_count": 28,
      "outputs": [
        {
          "output_type": "stream",
          "text": [
            "Drive already mounted at /gdrive; to attempt to forcibly remount, call drive.mount(\"/gdrive\", force_remount=True).\n"
          ],
          "name": "stdout"
        }
      ]
    },
    {
      "cell_type": "code",
      "metadata": {
        "id": "PmkZPrw7gcAV",
        "colab_type": "code",
        "colab": {}
      },
      "source": [
        "#%cd /gdrive/Colab Notebooks/"
      ],
      "execution_count": 0,
      "outputs": []
    },
    {
      "cell_type": "code",
      "metadata": {
        "id": "7c-D_Oisgfx_",
        "colab_type": "code",
        "outputId": "f5306045-2732-4e10-8563-11cd3602dc1e",
        "colab": {
          "base_uri": "https://localhost:8080/",
          "height": 34
        }
      },
      "source": [
        "!ls"
      ],
      "execution_count": 30,
      "outputs": [
        {
          "output_type": "stream",
          "text": [
            "sample_data\n"
          ],
          "name": "stdout"
        }
      ]
    },
    {
      "cell_type": "code",
      "metadata": {
        "id": "iOmmE43Vfn93",
        "colab_type": "code",
        "colab": {}
      },
      "source": [
        "# tf.train.Saver.save(model,\"cifar10_model\")"
      ],
      "execution_count": 0,
      "outputs": []
    },
    {
      "cell_type": "code",
      "metadata": {
        "id": "3PktssIfKKSm",
        "colab_type": "code",
        "outputId": "8e1d8fb7-ab2e-45c6-8fd9-4a013182c550",
        "colab": {
          "base_uri": "https://localhost:8080/",
          "height": 34
        }
      },
      "source": [
        "print(\"epoch = %s\"%(epoch+1),'lr: %.4f' % (lr_schedule(epoch+1)), '| train loss: %.4f' %(train_loss / len_train), 'train acc: %.3f' % (train_acc / len_train), 'val loss: %.4f' % (test_loss / len_test), 'val acc: %.3f' %(test_acc / len_test),\"epoch time: %.2f\"%(epoch_time), 'time: %.2f'%(t2 - t))"
      ],
      "execution_count": 32,
      "outputs": [
        {
          "output_type": "stream",
          "text": [
            "epoch = 5 lr: 0.4500 | train loss: 0.0779 train acc: 0.975 val loss: 0.2067 val acc: 0.935 epoch time: 61.22 time: 1783.19\n"
          ],
          "name": "stdout"
        }
      ]
    },
    {
      "cell_type": "code",
      "metadata": {
        "id": "CozOSW8_W81b",
        "colab_type": "code",
        "colab": {}
      },
      "source": [
        "#observations"
      ],
      "execution_count": 0,
      "outputs": []
    },
    {
      "cell_type": "code",
      "metadata": {
        "id": "0E2SP-ZrzMhh",
        "colab_type": "code",
        "colab": {}
      },
      "source": [
        "#1) adding bias doesn't help\n",
        "#2) using cutout_proba,shift_proba,scale_proba,rotate_proba 0.4,0.2,0.2,0.2 gave 93.2 in 24 epochs\n",
        "#3) using cutout_proba,shift_proba,scale_proba,rotate_proba 0.4,0.1,0.1,0.4 gave 93.5 in 24 epochs\n",
        "#4) using cutout_proba,shift_proba,scale_proba,rotate_proba 0.5,0.05,0.05,0.4 gave 93.2 in 24 epochs and cutout_eraser 0.4\n",
        "#5) using cutout_proba,shift_proba,scale_proba,rotate_proba 0.4,0.1,0.1,0.4 gave 93.5 in 24 epochs and momentum in bn as 0.95\n",
        "#6) using cutout_proba,shift_proba,scale_proba,rotate_proba 0.4,0.2,0.2,0.2 gave 93.9 in 34 epochs\n",
        "#7) using cutout_proba,shift_proba,scale_proba,rotate_proba,rot90_proba 0.4,0.1,0.2,0.2,0.1 gave 93.7 in 35 epochs with momentum 0.95"
      ],
      "execution_count": 0,
      "outputs": []
    },
    {
      "cell_type": "code",
      "metadata": {
        "id": "nKEqxy8KfgT_",
        "colab_type": "code",
        "colab": {}
      },
      "source": [
        ""
      ],
      "execution_count": 0,
      "outputs": []
    }
  ]
}