Assignment 6B
In this assignment we are going to use CIFAR10 dataset where we will have different images e.g. Airplane, Automobile, Bird, Cat etc with resolution of 32 x 32 and we will try to build our model using functional API as till now we were using Sequential API. Also, main objective of this assignment is to get used to different type of convolution.
So we have below objectives in this assignment:
Use a Normal Convolution layer in our model using Functional API
Use a Spatially Separable Convolution layer
Use a Depthwise Separable Convolution
Use a Depthwise Separable Convolution
Use a Grouped Convolution (use 3x3, 5x5 only) layer
Use a Grouped Convolution (use 3x3 only, one with dilation = 1, and another with dilation = 2) layer
So to achieve this goal lets first import keras library and import all pakages and functions from keras with which we are going to build the CNN model¶
