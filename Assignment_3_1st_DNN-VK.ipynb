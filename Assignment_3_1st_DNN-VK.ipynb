{
  "nbformat": 4,
  "nbformat_minor": 0,
  "metadata": {
    "colab": {
      "name": "1st DNN.ipynb",
      "version": "0.3.2",
      "provenance": [],
      "collapsed_sections": [],
      "include_colab_link": true
    },
    "kernelspec": {
      "name": "python3",
      "display_name": "Python 3"
    },
    "accelerator": "GPU"
  },
  "cells": [
    {
      "cell_type": "markdown",
      "metadata": {
        "id": "view-in-github",
        "colab_type": "text"
      },
      "source": [
        "<a href=\"https://colab.research.google.com/github/reply2vikas/Project-1/blob/master/Assignment_3_1st_DNN-VK.ipynb\" target=\"_parent\"><img src=\"https://colab.research.google.com/assets/colab-badge.svg\" alt=\"Open In Colab\"/></a>"
      ]
    },
    {
      "cell_type": "markdown",
      "metadata": {
        "id": "aNyZv-Ec52ot",
        "colab_type": "text"
      },
      "source": [
        "# **Import Libraries and modules**"
      ]
    },
    {
      "cell_type": "code",
      "metadata": {
        "id": "3m3w1Cw49Zkt",
        "colab_type": "code",
        "colab": {
          "base_uri": "https://localhost:8080/",
          "height": 34
        },
        "outputId": "6db8c43f-4e9f-44a3-dbdc-9153d84b915e"
      },
      "source": [
        "#Import necessary libraries and Installing packages\n",
        "# https://keras.io/\n",
        "\n",
        "!pip install -q keras\n",
        "import keras"
      ],
      "execution_count": 1,
      "outputs": [
        {
          "output_type": "stream",
          "text": [
            "Using TensorFlow backend.\n"
          ],
          "name": "stderr"
        }
      ]
    },
    {
      "cell_type": "code",
      "metadata": {
        "id": "Eso6UHE080D4",
        "colab_type": "code",
        "colab": {}
      },
      "source": [
        "#Importing necessary libraries and packages from Keras\n",
        "\n",
        "import numpy as np\n",
        "\n",
        "from keras.models import Sequential\n",
        "from keras.layers import Dense, Dropout, Activation, Flatten, Add\n",
        "from keras.layers import Convolution2D, MaxPooling2D\n",
        "from keras.utils import np_utils\n",
        "\n",
        "from keras.datasets import mnist"
      ],
      "execution_count": 0,
      "outputs": []
    },
    {
      "cell_type": "markdown",
      "metadata": {
        "id": "zByEi95J86RD",
        "colab_type": "text"
      },
      "source": [
        "### Load pre-shuffled MNIST data into train and test sets"
      ]
    },
    {
      "cell_type": "code",
      "metadata": {
        "id": "7eRM0QWN83PV",
        "colab_type": "code",
        "colab": {
          "base_uri": "https://localhost:8080/",
          "height": 51
        },
        "outputId": "78b3e457-7eaa-402b-bd0a-66df8f3b4730"
      },
      "source": [
        "#Loading the dataset\n",
        "#load_data() returns two tuples of Numpy arrays. The first tuple represents the training x-y pairs while the second\n",
        "#tuple represents the testing x-y pairs.\n",
        "(X_train, y_train), (X_test, y_test) = mnist.load_data()"
      ],
      "execution_count": 4,
      "outputs": [
        {
          "output_type": "stream",
          "text": [
            "Downloading data from https://s3.amazonaws.com/img-datasets/mnist.npz\n",
            "11493376/11490434 [==============================] - 1s 0us/step\n"
          ],
          "name": "stdout"
        }
      ]
    },
    {
      "cell_type": "code",
      "metadata": {
        "id": "4a4Be72j8-ZC",
        "colab_type": "code",
        "outputId": "8a134e10-8949-49ac-8a95-37e568afe4ed",
        "colab": {
          "base_uri": "https://localhost:8080/",
          "height": 303
        }
      },
      "source": [
        "#Printing the Mnist image with shape (It is a tuple of integers that describe how many dimensions the tensor has\n",
        "#along each axis. In the Numpy library this attribute is called shape.)\n",
        "#Importing the pyplot package to show the Mnist image\n",
        "print (X_train.shape)\n",
        "from matplotlib import pyplot as plt\n",
        "%matplotlib inline\n",
        "plt.imshow(X_train[0])"
      ],
      "execution_count": 5,
      "outputs": [
        {
          "output_type": "stream",
          "text": [
            "(60000, 28, 28)\n"
          ],
          "name": "stdout"
        },
        {
          "output_type": "execute_result",
          "data": {
            "text/plain": [
              "<matplotlib.image.AxesImage at 0x7f44586ba0b8>"
            ]
          },
          "metadata": {
            "tags": []
          },
          "execution_count": 5
        },
        {
          "output_type": "display_data",
          "data": {
            "image/png": "[encoded data removed]",
            "text/plain": [
              "<Figure size 432x288 with 1 Axes>"
            ]
          },
          "metadata": {
            "tags": []
          }
        }
      ]
    },
    {
      "cell_type": "code",
      "metadata": {
        "id": "dkmprriw9AnZ",
        "colab_type": "code",
        "colab": {}
      },
      "source": [
        "#Reshapping the data (Verifing that x_train.shape takes the form of (60000, 784) and x_test.shape takes the\n",
        "#form of (10000, 784), where the first dimension indexes the image and the second indexes the pixel in each \n",
        "#image now the intensity of the pixel is a value between 0 and 1))\n",
        "\n",
        "X_train = X_train.reshape(X_train.shape[0], 28, 28,1)\n",
        "X_test = X_test.reshape(X_test.shape[0], 28, 28,1)"
      ],
      "execution_count": 0,
      "outputs": []
    },
    {
      "cell_type": "code",
      "metadata": {
        "id": "X2m4YS4E9CRh",
        "colab_type": "code",
        "colab": {}
      },
      "source": [
        "#These MNIST images of 28×28 pixels are represented as an array of numbers whose values range from [0, 255] \n",
        "#of type uint8. But it is usual to scale the input values of neural networks to certain ranges. Here the input values \n",
        "#should be scaled to values of type float32 within the interval [0, 1]. We can achieve this transformation with the\n",
        "#following lines of code:\n",
        "\n",
        "X_train = X_train.astype('float32')\n",
        "X_test = X_test.astype('float32')\n",
        "X_train /= 255\n",
        "X_test /= 255"
      ],
      "execution_count": 0,
      "outputs": []
    },
    {
      "cell_type": "code",
      "metadata": {
        "id": "0Mn0vAYD9DvB",
        "colab_type": "code",
        "outputId": "fcc24975-62eb-4b66-9303-bce9f9694a4a",
        "colab": {
          "base_uri": "https://localhost:8080/",
          "height": 34
        }
      },
      "source": [
        "#To see the effect of the transformation we can see the values before and after applying to_categorical:-\n",
        "\n",
        "y_train[:10]"
      ],
      "execution_count": 8,
      "outputs": [
        {
          "output_type": "execute_result",
          "data": {
            "text/plain": [
              "array([5, 0, 4, 1, 9, 2, 1, 3, 1, 4], dtype=uint8)"
            ]
          },
          "metadata": {
            "tags": []
          },
          "execution_count": 8
        }
      ]
    },
    {
      "cell_type": "code",
      "metadata": {
        "id": "ZG8JiXR39FHC",
        "colab_type": "code",
        "colab": {}
      },
      "source": [
        "# Convert 1-dimensional class arrays to 10-dimensional class matrices\n",
        "# Convert 1-dimensional class arrays to 10-dimensional class matrices\n",
        "# In this example we will use what is known as one-hot encoding, which we have already mentioned, which consists\n",
        "# of transforming the labels into a vector of as many zeros as the number of different labels, and containing the \n",
        "# value of 1 in the index that corresponds to the value of the label. Keras offers many support functions, including \n",
        "# to_categorical to perform precisely this transformation, which we can import from keras.utils-\n",
        "\n",
        "Y_train = np_utils.to_categorical(y_train, 10)\n",
        "Y_test = np_utils.to_categorical(y_test, 10)"
      ],
      "execution_count": 0,
      "outputs": []
    },
    {
      "cell_type": "code",
      "metadata": {
        "id": "fYlFRvKS9HMB",
        "colab_type": "code",
        "outputId": "726476ca-2695-4d36-afc8-645c21511d7d",
        "colab": {
          "base_uri": "https://localhost:8080/",
          "height": 187
        }
      },
      "source": [
        "#Now we will do data ready to be used in our simple model example that we are going to program in Keras in the \n",
        "#next section.\n",
        "\n",
        "Y_train[:10]"
      ],
      "execution_count": 10,
      "outputs": [
        {
          "output_type": "execute_result",
          "data": {
            "text/plain": [
              "array([[0., 0., 0., 0., 0., 1., 0., 0., 0., 0.],\n",
              "       [1., 0., 0., 0., 0., 0., 0., 0., 0., 0.],\n",
              "       [0., 0., 0., 0., 1., 0., 0., 0., 0., 0.],\n",
              "       [0., 1., 0., 0., 0., 0., 0., 0., 0., 0.],\n",
              "       [0., 0., 0., 0., 0., 0., 0., 0., 0., 1.],\n",
              "       [0., 0., 1., 0., 0., 0., 0., 0., 0., 0.],\n",
              "       [0., 1., 0., 0., 0., 0., 0., 0., 0., 0.],\n",
              "       [0., 0., 0., 1., 0., 0., 0., 0., 0., 0.],\n",
              "       [0., 1., 0., 0., 0., 0., 0., 0., 0., 0.],\n",
              "       [0., 0., 0., 0., 1., 0., 0., 0., 0., 0.]], dtype=float32)"
            ]
          },
          "metadata": {
            "tags": []
          },
          "execution_count": 10
        }
      ]
    },
    {
      "cell_type": "code",
      "metadata": {
        "id": "osKqT73Q9JJB",
        "colab_type": "code",
        "outputId": "4300e2fd-6664-4bce-c450-9178b4bea5c6",
        "colab": {
          "base_uri": "https://localhost:8080/",
          "height": 190
        }
      },
      "source": [
        "#Defining the Model\n",
        "#Importing Activation and MaxPooling2D methos from Library/Package Keras\n",
        "\n",
        "# import BatchNormalization\n",
        "from keras.layers.normalization import BatchNormalization\n",
        "from keras.layers import Activation\n",
        "model = Sequential()\n",
        "\n",
        " \n",
        "model.add(Convolution2D(64, 3, 3, activation='relu', input_shape=(28,28,1)))\n",
        "model.add(Convolution2D(16, 1, activation='relu'))\n",
        "model.add(Convolution2D(16, 3, 3, activation='relu'))\n",
        "model.add(BatchNormalization())\n",
        "model.add(MaxPooling2D(2,2))\n",
        "\n",
        "model.add(Convolution2D(32, 3, 3, activation='relu'))\n",
        "model.add(Convolution2D(10, 1, activation='relu'))\n",
        "\n",
        "model.add(Convolution2D(10, 10))\n",
        "model.add(BatchNormalization())\n",
        "\n",
        "model.add(Flatten())\n",
        "\n",
        "model.add(Activation('softmax'))"
      ],
      "execution_count": 11,
      "outputs": [
        {
          "output_type": "stream",
          "text": [
            "WARNING:tensorflow:From /usr/local/lib/python3.6/dist-packages/tensorflow/python/framework/op_def_library.py:263: colocate_with (from tensorflow.python.framework.ops) is deprecated and will be removed in a future version.\n",
            "Instructions for updating:\n",
            "Colocations handled automatically by placer.\n"
          ],
          "name": "stdout"
        },
        {
          "output_type": "stream",
          "text": [
            "/usr/local/lib/python3.6/dist-packages/ipykernel_launcher.py:6: UserWarning: Update your `Conv2D` call to the Keras 2 API: `Conv2D(64, (3, 3), activation=\"relu\", input_shape=(28, 28, 1...)`\n",
            "  \n",
            "/usr/local/lib/python3.6/dist-packages/ipykernel_launcher.py:8: UserWarning: Update your `Conv2D` call to the Keras 2 API: `Conv2D(16, (3, 3), activation=\"relu\")`\n",
            "  \n",
            "/usr/local/lib/python3.6/dist-packages/ipykernel_launcher.py:12: UserWarning: Update your `Conv2D` call to the Keras 2 API: `Conv2D(32, (3, 3), activation=\"relu\")`\n",
            "  if sys.path[0] == '':\n"
          ],
          "name": "stderr"
        }
      ]
    },
    {
      "cell_type": "code",
      "metadata": {
        "id": "TzdAYg1k9K7Z",
        "colab_type": "code",
        "outputId": "1a188f68-2e53-4850-f92f-23f0fdd12841",
        "colab": {
          "base_uri": "https://localhost:8080/",
          "height": 510
        }
      },
      "source": [
        "#A very useful method that Keras provides to check the architecture of our model is summary()\n",
        "\n",
        "model.summary()"
      ],
      "execution_count": 12,
      "outputs": [
        {
          "output_type": "stream",
          "text": [
            "_________________________________________________________________\n",
            "Layer (type)                 Output Shape              Param #   \n",
            "=================================================================\n",
            "conv2d_1 (Conv2D)            (None, 26, 26, 64)        640       \n",
            "_________________________________________________________________\n",
            "conv2d_2 (Conv2D)            (None, 26, 26, 16)        1040      \n",
            "_________________________________________________________________\n",
            "conv2d_3 (Conv2D)            (None, 24, 24, 16)        2320      \n",
            "_________________________________________________________________\n",
            "batch_normalization_1 (Batch (None, 24, 24, 16)        64        \n",
            "_________________________________________________________________\n",
            "max_pooling2d_1 (MaxPooling2 (None, 12, 12, 16)        0         \n",
            "_________________________________________________________________\n",
            "conv2d_4 (Conv2D)            (None, 10, 10, 32)        4640      \n",
            "_________________________________________________________________\n",
            "conv2d_5 (Conv2D)            (None, 10, 10, 10)        330       \n",
            "_________________________________________________________________\n",
            "conv2d_6 (Conv2D)            (None, 1, 1, 10)          10010     \n",
            "_________________________________________________________________\n",
            "batch_normalization_2 (Batch (None, 1, 1, 10)          40        \n",
            "_________________________________________________________________\n",
            "flatten_1 (Flatten)          (None, 10)                0         \n",
            "_________________________________________________________________\n",
            "activation_1 (Activation)    (None, 10)                0         \n",
            "=================================================================\n",
            "Total params: 19,084\n",
            "Trainable params: 19,032\n",
            "Non-trainable params: 52\n",
            "_________________________________________________________________\n"
          ],
          "name": "stdout"
        }
      ]
    },
    {
      "cell_type": "code",
      "metadata": {
        "id": "Zp6SuGrL9M3h",
        "colab_type": "code",
        "colab": {}
      },
      "source": [
        "#Configuration of the learning process\n",
        "#we are specify the following arguments in compile() method to test it on our computer:\n",
        "\n",
        "model.compile(loss='categorical_crossentropy',\n",
        "             optimizer='adam',\n",
        "             metrics=['accuracy'])"
      ],
      "execution_count": 0,
      "outputs": []
    },
    {
      "cell_type": "code",
      "metadata": {
        "id": "4xWoKhPY9Of5",
        "colab_type": "code",
        "outputId": "1106bc60-484b-4a08-883a-d5a9f242277d",
        "colab": {
          "base_uri": "https://localhost:8080/",
          "height": 836
        }
      },
      "source": [
        "#Model training\n",
        "\n",
        "model.fit(X_train, Y_train, batch_size=32, nb_epoch=22, verbose=1)"
      ],
      "execution_count": 27,
      "outputs": [
        {
          "output_type": "stream",
          "text": [
            "Epoch 1/22\n",
            "  704/60000 [..............................] - ETA: 14s - loss: 0.0015 - acc: 1.0000"
          ],
          "name": "stdout"
        },
        {
          "output_type": "stream",
          "text": [
            "/usr/local/lib/python3.6/dist-packages/ipykernel_launcher.py:2: UserWarning: The `nb_epoch` argument in `fit` has been renamed `epochs`.\n",
            "  \n"
          ],
          "name": "stderr"
        },
        {
          "output_type": "stream",
          "text": [
            "60000/60000 [==============================] - 13s 216us/step - loss: 0.0031 - acc: 0.9993\n",
            "Epoch 2/22\n",
            "60000/60000 [==============================] - 13s 217us/step - loss: 0.0040 - acc: 0.9990\n",
            "Epoch 3/22\n",
            "60000/60000 [==============================] - 13s 216us/step - loss: 0.0034 - acc: 0.9992\n",
            "Epoch 4/22\n",
            "60000/60000 [==============================] - 14s 232us/step - loss: 0.0039 - acc: 0.9990\n",
            "Epoch 5/22\n",
            "60000/60000 [==============================] - 13s 215us/step - loss: 0.0033 - acc: 0.9992\n",
            "Epoch 6/22\n",
            "60000/60000 [==============================] - 13s 217us/step - loss: 0.0032 - acc: 0.9991\n",
            "Epoch 7/22\n",
            "60000/60000 [==============================] - 13s 216us/step - loss: 0.0034 - acc: 0.9991\n",
            "Epoch 8/22\n",
            "60000/60000 [==============================] - 13s 218us/step - loss: 0.0031 - acc: 0.9992\n",
            "Epoch 9/22\n",
            "60000/60000 [==============================] - 13s 217us/step - loss: 0.0038 - acc: 0.9989\n",
            "Epoch 10/22\n",
            "60000/60000 [==============================] - 14s 234us/step - loss: 0.0027 - acc: 0.9994\n",
            "Epoch 11/22\n",
            "60000/60000 [==============================] - 13s 222us/step - loss: 0.0034 - acc: 0.9991\n",
            "Epoch 12/22\n",
            "60000/60000 [==============================] - 14s 227us/step - loss: 0.0033 - acc: 0.9992\n",
            "Epoch 13/22\n",
            "60000/60000 [==============================] - 14s 227us/step - loss: 0.0031 - acc: 0.9993\n",
            "Epoch 14/22\n",
            "60000/60000 [==============================] - 13s 224us/step - loss: 0.0031 - acc: 0.9992\n",
            "Epoch 15/22\n",
            "60000/60000 [==============================] - 13s 225us/step - loss: 0.0031 - acc: 0.9992\n",
            "Epoch 16/22\n",
            "60000/60000 [==============================] - 14s 237us/step - loss: 0.0040 - acc: 0.9989\n",
            "Epoch 17/22\n",
            "60000/60000 [==============================] - 13s 223us/step - loss: 0.0027 - acc: 0.9993\n",
            "Epoch 18/22\n",
            "60000/60000 [==============================] - 14s 241us/step - loss: 0.0028 - acc: 0.9993\n",
            "Epoch 19/22\n",
            "60000/60000 [==============================] - 14s 236us/step - loss: 0.0032 - acc: 0.9992\n",
            "Epoch 20/22\n",
            "60000/60000 [==============================] - 14s 229us/step - loss: 0.0027 - acc: 0.9994\n",
            "Epoch 21/22\n",
            "60000/60000 [==============================] - 14s 226us/step - loss: 0.0027 - acc: 0.9993\n",
            "Epoch 22/22\n",
            "60000/60000 [==============================] - 14s 235us/step - loss: 0.0028 - acc: 0.9993\n"
          ],
          "name": "stdout"
        },
        {
          "output_type": "execute_result",
          "data": {
            "text/plain": [
              "<keras.callbacks.History at 0x7f4440c59b38>"
            ]
          },
          "metadata": {
            "tags": []
          },
          "execution_count": 27
        }
      ]
    },
    {
      "cell_type": "code",
      "metadata": {
        "id": "AtsH-lLk-eLb",
        "colab_type": "code",
        "colab": {}
      },
      "source": [
        "#Model evaluation\n",
        "\n",
        "score = model.evaluate(X_test, Y_test, verbose=0)"
      ],
      "execution_count": 0,
      "outputs": []
    },
    {
      "cell_type": "code",
      "metadata": {
        "id": "mkX8JMv79q9r",
        "colab_type": "code",
        "outputId": "c14c780b-761e-4f3a-831c-f316304a22ae",
        "colab": {
          "base_uri": "https://localhost:8080/",
          "height": 34
        }
      },
      "source": [
        "print(score)"
      ],
      "execution_count": 31,
      "outputs": [
        {
          "output_type": "stream",
          "text": [
            "[0.027996132973971816, 0.993]\n"
          ],
          "name": "stdout"
        }
      ]
    },
    {
      "cell_type": "code",
      "metadata": {
        "id": "OCWoJkwE9suh",
        "colab_type": "code",
        "colab": {}
      },
      "source": [
        "y_pred = model.predict(X_test)"
      ],
      "execution_count": 0,
      "outputs": []
    },
    {
      "cell_type": "code",
      "metadata": {
        "id": "Ym7iCFBm9uBs",
        "colab_type": "code",
        "outputId": "9e091061-2586-44de-a3d5-3fdb0bb2b59b",
        "colab": {
          "base_uri": "https://localhost:8080/",
          "height": 493
        }
      },
      "source": [
        "print(y_pred[:9])\n",
        "print(y_test[:9])"
      ],
      "execution_count": 33,
      "outputs": [
        {
          "output_type": "stream",
          "text": [
            "[[6.17161859e-08 1.08259872e-08 6.37698505e-11 2.90906993e-10\n",
            "  1.51162916e-09 1.18099752e-10 3.99720124e-09 9.99999881e-01\n",
            "  2.99952944e-11 4.98085129e-10]\n",
            " [4.85700085e-08 2.03787098e-09 1.00000000e+00 1.20956301e-09\n",
            "  1.89028914e-12 7.23851656e-14 5.82678661e-09 8.23191723e-11\n",
            "  1.38464700e-11 4.94209777e-11]\n",
            " [5.43793055e-09 9.99999881e-01 7.54680940e-09 5.28531041e-09\n",
            "  1.53368145e-08 2.11126121e-08 7.13443082e-09 4.40320136e-08\n",
            "  2.89936235e-08 2.52664023e-09]\n",
            " [9.99994755e-01 1.79455256e-07 4.64479939e-07 5.45189721e-07\n",
            "  1.55147475e-07 3.31311578e-09 2.16939770e-06 9.89184400e-07\n",
            "  6.59265766e-07 6.70390765e-09]\n",
            " [4.05881373e-09 1.50332971e-06 2.85304141e-10 1.03590799e-06\n",
            "  9.99997377e-01 7.10764247e-09 9.02330797e-08 5.24306643e-09\n",
            "  7.44260653e-10 1.32145661e-09]\n",
            " [2.45046579e-08 1.00000000e+00 1.98453840e-08 9.69092029e-10\n",
            "  2.69015921e-09 6.78955170e-10 2.37050513e-09 7.56069962e-09\n",
            "  1.17919150e-08 6.11279916e-11]\n",
            " [1.78385445e-10 6.05243713e-08 6.07307584e-07 2.98258575e-12\n",
            "  9.99340713e-01 5.34172306e-09 1.26961828e-08 2.53968309e-12\n",
            "  6.58532779e-04 6.47468468e-10]\n",
            " [7.77859548e-12 1.89014027e-09 4.50212063e-08 5.80219791e-13\n",
            "  3.19596047e-08 2.94068464e-10 3.58313769e-12 2.13303724e-12\n",
            "  4.14195483e-10 9.99999881e-01]\n",
            " [1.01582173e-05 3.24365544e-07 1.22426812e-07 1.17777375e-07\n",
            "  2.44284557e-08 9.92727280e-01 7.24894833e-03 2.59929189e-10\n",
            "  1.30697572e-05 2.20110774e-09]]\n",
            "[7 2 1 0 4 1 4 9 5]\n"
          ],
          "name": "stdout"
        }
      ]
    },
    {
      "cell_type": "code",
      "metadata": {
        "id": "CT--y98_dr2T",
        "colab_type": "code",
        "colab": {}
      },
      "source": [
        "layer_dict = dict([(layer.name, layer) for layer in model.layers])"
      ],
      "execution_count": 0,
      "outputs": []
    },
    {
      "cell_type": "code",
      "metadata": {
        "id": "2GY4Upv4dsUR",
        "colab_type": "code",
        "colab": {}
      },
      "source": [
        "import numpy as np\n",
        "from matplotlib import pyplot as plt\n",
        "from keras import backend as K\n",
        "%matplotlib inline\n",
        "# util function to convert a tensor into a valid image\n",
        "def deprocess_image(x):\n",
        "    # normalize tensor: center on 0., ensure std is 0.1\n",
        "    x -= x.mean()\n",
        "    x /= (x.std() + 1e-5)\n",
        "    x *= 0.1\n",
        "\n",
        "    # clip to [0, 1]\n",
        "    x += 0.5\n",
        "    x = np.clip(x, 0, 1)\n",
        "\n",
        "    # convert to RGB array\n",
        "    x *= 255\n",
        "    #x = x.transpose((1, 2, 0))\n",
        "    x = np.clip(x, 0, 255).astype('uint8')\n",
        "    return x\n",
        "\n",
        "def vis_img_in_filter(img = np.array(X_train[2]).reshape((1, 28, 28, 1)).astype(np.float64), \n",
        "                      layer_name = 'conv2d_14'):\n",
        "    layer_output = layer_dict[layer_name].output\n",
        "    img_ascs = list()\n",
        "    for filter_index in range(layer_output.shape[3]):\n",
        "        # build a loss function that maximizes the activation\n",
        "        # of the nth filter of the layer considered\n",
        "        loss = K.mean(layer_output[:, :, :, filter_index])\n",
        "\n",
        "        # compute the gradient of the input picture wrt this loss\n",
        "        grads = K.gradients(loss, model.input)[0]\n",
        "\n",
        "        # normalization trick: we normalize the gradient\n",
        "        grads /= (K.sqrt(K.mean(K.square(grads))) + 1e-5)\n",
        "\n",
        "        # this function returns the loss and grads given the input picture\n",
        "        iterate = K.function([model.input], [loss, grads])\n",
        "\n",
        "        # step size for gradient ascent\n",
        "        step = 5.\n",
        "\n",
        "        img_asc = np.array(img)\n",
        "        # run gradient ascent for 20 steps\n",
        "        for i in range(20):\n",
        "            loss_value, grads_value = iterate([img_asc])\n",
        "            img_asc += grads_value * step\n",
        "\n",
        "        img_asc = img_asc[0]\n",
        "        img_ascs.append(deprocess_image(img_asc).reshape((28, 28)))\n",
        "        \n",
        "    if layer_output.shape[3] >= 35:\n",
        "        plot_x, plot_y = 6, 6\n",
        "    elif layer_output.shape[3] >= 23:\n",
        "        plot_x, plot_y = 4, 6\n",
        "    elif layer_output.shape[3] >= 11:\n",
        "        plot_x, plot_y = 2, 6\n",
        "    else:\n",
        "        plot_x, plot_y = 1, 2\n",
        "    fig, ax = plt.subplots(plot_x, plot_y, figsize = (12, 12))\n",
        "    ax[0, 0].imshow(img.reshape((28, 28)), cmap = 'gray')\n",
        "    ax[0, 0].set_title('Input image')\n",
        "    fig.suptitle('Input image and %s filters' % (layer_name,))\n",
        "    fig.tight_layout(pad = 0.3, rect = [0, 0, 0.9, 0.9])\n",
        "    for (x, y) in [(i, j) for i in range(plot_x) for j in range(plot_y)]:\n",
        "        if x == 0 and y == 0:\n",
        "            continue\n",
        "        ax[x, y].imshow(img_ascs[x * plot_y + y - 1], cmap = 'gray')\n",
        "        ax[x, y].set_title('filter %d' % (x * plot_y + y - 1))\n",
        "\n",
        "    vis_img_in_filter()"
      ],
      "execution_count": 0,
      "outputs": []
    },
    {
      "cell_type": "code",
      "metadata": {
        "id": "9tvptcn8dxvp",
        "colab_type": "code",
        "colab": {}
      },
      "source": [
        ""
      ],
      "execution_count": 0,
      "outputs": []
    }
  ]
}