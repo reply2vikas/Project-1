{
  "nbformat": 4,
  "nbformat_minor": 0,
  "metadata": {
    "colab": {
      "name": "EVA_Phase_2Session_1VK.ipynb",
      "provenance": [],
      "collapsed_sections": [],
      "authorship_tag": "ABX9TyOB8AnIshyTQMoj8KvK4aD+",
      "include_colab_link": true
    },
    "kernelspec": {
      "name": "python3",
      "display_name": "Python 3"
    },
    "accelerator": "GPU"
  },
  "cells": [
    {
      "cell_type": "markdown",
      "metadata": {
        "id": "view-in-github",
        "colab_type": "text"
      },
      "source": [
        "<a href=\"https://colab.research.google.com/github/reply2vikas/Project-1/blob/master/EVA_Phase_2Session_1/EVA_Phase_2Session_1VK.ipynb\" target=\"_parent\"><img src=\"https://colab.research.google.com/assets/colab-badge.svg\" alt=\"Open In Colab\"/></a>"
      ]
    },
    {
      "cell_type": "code",
      "metadata": {
        "id": "Lg7mzGCBLFeu",
        "colab_type": "code",
        "colab": {
          "base_uri": "https://localhost:8080/",
          "height": 34
        },
        "outputId": "0cdb95e9-5e13-498a-d36e-609387fb108f"
      },
      "source": [
        "from google.colab import drive\n",
        "drive.mount('/content/drive')"
      ],
      "execution_count": 1,
      "outputs": [
        {
          "output_type": "stream",
          "text": [
            "Drive already mounted at /content/drive; to attempt to forcibly remount, call drive.mount(\"/content/drive\", force_remount=True).\n"
          ],
          "name": "stdout"
        }
      ]
    },
    {
      "cell_type": "code",
      "metadata": {
        "id": "D85cZDEzMBty",
        "colab_type": "code",
        "colab": {}
      },
      "source": [
        "#importing numpy library\n",
        "import numpy as np"
      ],
      "execution_count": 0,
      "outputs": []
    },
    {
      "cell_type": "code",
      "metadata": {
        "id": "kXE3wCjbMHJf",
        "colab_type": "code",
        "colab": {}
      },
      "source": [
        "#each samples is a sentence\n",
        "samples = ['The cat sat on the mat.', 'The dog ate my homework.']"
      ],
      "execution_count": 0,
      "outputs": []
    },
    {
      "cell_type": "code",
      "metadata": {
        "id": "2-LuSnP8MKxG",
        "colab_type": "code",
        "colab": {}
      },
      "source": [
        "#for tokenizing the samples\n",
        "token_index = {}\n",
        "for sample in samples:\n",
        "  for word in sample.split():\n",
        "    if word not in token_index:\n",
        "      token_index[word] = len(token_index) + 1"
      ],
      "execution_count": 0,
      "outputs": []
    },
    {
      "cell_type": "code",
      "metadata": {
        "id": "cz4z8KLhMPTv",
        "colab_type": "code",
        "colab": {}
      },
      "source": [
        "#each sample will have the max length as defined\n",
        "max_length = 10"
      ],
      "execution_count": 0,
      "outputs": []
    },
    {
      "cell_type": "code",
      "metadata": {
        "id": "8zHUEDg0MUAQ",
        "colab_type": "code",
        "colab": {}
      },
      "source": [
        "#for storing the results\n",
        "results = np.zeros(shape=(len(samples),\n",
        "                          max_length,\n",
        "                          max(token_index.values()) + 1))"
      ],
      "execution_count": 0,
      "outputs": []
    },
    {
      "cell_type": "code",
      "metadata": {
        "id": "VR7fTjDpMYjG",
        "colab_type": "code",
        "colab": {}
      },
      "source": [
        "#for creating the matrix\n",
        "for i, sample in enumerate(samples):\n",
        "  for j, word in list(enumerate(sample.split()))[:max_length]:\n",
        "    index = token_index.get(word)\n",
        "    results[i, j, index] = 1."
      ],
      "execution_count": 0,
      "outputs": []
    },
    {
      "cell_type": "code",
      "metadata": {
        "id": "PjbvJw1lMcLK",
        "colab_type": "code",
        "colab": {}
      },
      "source": [
        "import string\n",
        "samples = ['The cat sat on the mat.', 'The dog ate my homework.']"
      ],
      "execution_count": 0,
      "outputs": []
    },
    {
      "cell_type": "code",
      "metadata": {
        "id": "g4V0-BdHMi1e",
        "colab_type": "code",
        "colab": {}
      },
      "source": [
        "#all printable ASCII characters\n",
        "characters = string.printable"
      ],
      "execution_count": 0,
      "outputs": []
    },
    {
      "cell_type": "code",
      "metadata": {
        "id": "1u7jUZ6hMqTs",
        "colab_type": "code",
        "colab": {}
      },
      "source": [
        "token_index = dict(zip(range(1, len(characters) + 1), characters))"
      ],
      "execution_count": 0,
      "outputs": []
    },
    {
      "cell_type": "code",
      "metadata": {
        "id": "T7jAa2WAMvC7",
        "colab_type": "code",
        "colab": {}
      },
      "source": [
        "max_length = 50\n",
        "results = np.zeros((len(samples), max_length, max(token_index.keys()) + 1))\n",
        "for i, sample in enumerate(samples):\n",
        "  for j, character in enumerate(sample):\n",
        "    index = token_index.get(character)\n",
        "    results[i, j, index] = 1."
      ],
      "execution_count": 0,
      "outputs": []
    },
    {
      "cell_type": "code",
      "metadata": {
        "id": "dS2pb9QbMzYr",
        "colab_type": "code",
        "colab": {
          "base_uri": "https://localhost:8080/",
          "height": 80
        },
        "outputId": "715b3c8f-b5e7-43f6-a9fa-0fda2b3bca39"
      },
      "source": [
        "from keras.preprocessing.text import Tokenizer"
      ],
      "execution_count": 12,
      "outputs": [
        {
          "output_type": "stream",
          "text": [
            "Using TensorFlow backend.\n"
          ],
          "name": "stderr"
        },
        {
          "output_type": "display_data",
          "data": {
            "text/html": [
              "<p style=\"color: red;\">\n",
              "The default version of TensorFlow in Colab will soon switch to TensorFlow 2.x.<br>\n",
              "We recommend you <a href=\"https://www.tensorflow.org/guide/migrate\" target=\"_blank\">upgrade</a> now \n",
              "or ensure your notebook will continue to use TensorFlow 1.x via the <code>%tensorflow_version 1.x</code> magic:\n",
              "<a href=\"https://colab.research.google.com/notebooks/tensorflow_version.ipynb\" target=\"_blank\">more info</a>.</p>\n"
            ],
            "text/plain": [
              "<IPython.core.display.HTML object>"
            ]
          },
          "metadata": {
            "tags": []
          }
        }
      ]
    },
    {
      "cell_type": "code",
      "metadata": {
        "id": "kBbbkqtqM6za",
        "colab_type": "code",
        "colab": {}
      },
      "source": [
        "samples = ['The cat sat on the mat.', 'The dog ate my homework.']"
      ],
      "execution_count": 0,
      "outputs": []
    },
    {
      "cell_type": "code",
      "metadata": {
        "id": "Gaskmv7RM_fa",
        "colab_type": "code",
        "colab": {}
      },
      "source": [
        "#for taking only 1000 common words\n",
        "tokenizer = Tokenizer(num_words=1000)"
      ],
      "execution_count": 0,
      "outputs": []
    },
    {
      "cell_type": "code",
      "metadata": {
        "id": "5LH6Ey8-NC55",
        "colab_type": "code",
        "colab": {}
      },
      "source": [
        "#builds the word index\n",
        "tokenizer.fit_on_texts(samples)"
      ],
      "execution_count": 0,
      "outputs": []
    },
    {
      "cell_type": "code",
      "metadata": {
        "id": "KNeY1q6iNHuZ",
        "colab_type": "code",
        "colab": {}
      },
      "source": [
        "#turns strings into lists of integer indices\n",
        "sequences = tokenizer.texts_to_sequences(samples)"
      ],
      "execution_count": 0,
      "outputs": []
    },
    {
      "cell_type": "code",
      "metadata": {
        "id": "x_DLGaPUNN4Z",
        "colab_type": "code",
        "colab": {}
      },
      "source": [
        "one_hot_results = tokenizer.texts_to_matrix(samples, mode='binary')"
      ],
      "execution_count": 0,
      "outputs": []
    },
    {
      "cell_type": "code",
      "metadata": {
        "id": "6IC8G0reNT0b",
        "colab_type": "code",
        "colab": {
          "base_uri": "https://localhost:8080/",
          "height": 34
        },
        "outputId": "7a2627b2-2eec-4439-d449-49f819a43aea"
      },
      "source": [
        "word_index = tokenizer.word_index\n",
        "print('Found %s unique tokens.' % len(word_index))"
      ],
      "execution_count": 18,
      "outputs": [
        {
          "output_type": "stream",
          "text": [
            "Found 9 unique tokens.\n"
          ],
          "name": "stdout"
        }
      ]
    },
    {
      "cell_type": "code",
      "metadata": {
        "id": "0WVyLTY0NX46",
        "colab_type": "code",
        "colab": {}
      },
      "source": [
        "samples = ['The cat sat on the mat.', 'The dog ate my homework.']"
      ],
      "execution_count": 0,
      "outputs": []
    },
    {
      "cell_type": "code",
      "metadata": {
        "id": "u4jFbtaJNfE5",
        "colab_type": "code",
        "colab": {}
      },
      "source": [
        "dimensionality = 1000\n",
        "max_length = 10"
      ],
      "execution_count": 0,
      "outputs": []
    },
    {
      "cell_type": "code",
      "metadata": {
        "id": "M56J3rqINlP5",
        "colab_type": "code",
        "colab": {}
      },
      "source": [
        "results = np.zeros((len(samples), max_length, dimensionality))\n",
        "for i, sample in enumerate(samples):\n",
        "  for j, word in list(enumerate(sample.split()))[:max_length]:\n",
        "    index = abs(hash(word)) % dimensionality\n",
        "    results[i, j, index] = 1."
      ],
      "execution_count": 0,
      "outputs": []
    },
    {
      "cell_type": "code",
      "metadata": {
        "id": "NNfFeI4YNofP",
        "colab_type": "code",
        "colab": {}
      },
      "source": [
        "from keras.layers import Embedding"
      ],
      "execution_count": 0,
      "outputs": []
    },
    {
      "cell_type": "code",
      "metadata": {
        "id": "N39mPvEPNqYI",
        "colab_type": "code",
        "colab": {
          "base_uri": "https://localhost:8080/",
          "height": 71
        },
        "outputId": "7acfd4a6-4047-4f79-f4d5-61bdb411090d"
      },
      "source": [
        "#1000 possible tokens, 64dimensionality result embeddings\n",
        "embedding_layer = Embedding(1000, 64)"
      ],
      "execution_count": 23,
      "outputs": [
        {
          "output_type": "stream",
          "text": [
            "WARNING:tensorflow:From /usr/local/lib/python3.6/dist-packages/keras/backend/tensorflow_backend.py:66: The name tf.get_default_graph is deprecated. Please use tf.compat.v1.get_default_graph instead.\n",
            "\n"
          ],
          "name": "stdout"
        }
      ]
    },
    {
      "cell_type": "code",
      "metadata": {
        "id": "BofiOxNEvTzf",
        "colab_type": "code",
        "colab": {}
      },
      "source": [
        "# import imdb dataset which has positive and negative reviews\n",
        "from keras.datasets import imdb\n",
        "from keras import preprocessing"
      ],
      "execution_count": 0,
      "outputs": []
    },
    {
      "cell_type": "code",
      "metadata": {
        "id": "017mVJymNw5o",
        "colab_type": "code",
        "colab": {}
      },
      "source": [
        "#1000 possible tokens, 64dimensionality result embeddings\n",
        "embedding_layer = Embedding(1000, 64)"
      ],
      "execution_count": 0,
      "outputs": []
    },
    {
      "cell_type": "code",
      "metadata": {
        "id": "K1-FThFsNzvz",
        "colab_type": "code",
        "colab": {}
      },
      "source": [
        "# we are taking 10000 words and max length per review will be 20\n",
        "max_features = 10000\n",
        "maxlen = 20"
      ],
      "execution_count": 0,
      "outputs": []
    },
    {
      "cell_type": "code",
      "metadata": {
        "id": "cnhajgfJN5fZ",
        "colab_type": "code",
        "colab": {}
      },
      "source": [
        "(x_train, y_train), (x_test, y_test) = imdb.load_data(\n",
        "    num_words=max_features)"
      ],
      "execution_count": 0,
      "outputs": []
    },
    {
      "cell_type": "code",
      "metadata": {
        "id": "Zb15DZfqtTSW",
        "colab_type": "code",
        "colab": {}
      },
      "source": [
        "# we are padding the reviews with max length\n",
        "x_train = preprocessing.sequence.pad_sequences(x_train, maxlen=maxlen)"
      ],
      "execution_count": 0,
      "outputs": []
    },
    {
      "cell_type": "code",
      "metadata": {
        "id": "aLriSxHOW0_X",
        "colab_type": "code",
        "colab": {}
      },
      "source": [
        "x_test = preprocessing.sequence.pad_sequences(x_test, maxlen=maxlen)"
      ],
      "execution_count": 0,
      "outputs": []
    },
    {
      "cell_type": "code",
      "metadata": {
        "id": "U70YKS92Xb72",
        "colab_type": "code",
        "colab": {
          "base_uri": "https://localhost:8080/",
          "height": 462
        },
        "outputId": "c7d955f6-1d40-4169-e789-92b545b8b5d8"
      },
      "source": [
        "# we are converting each review with max length 20 to the new dimensionality 8.\n",
        "from keras.models import Sequential\n",
        "from keras.layers import Flatten, Dense\n",
        "model = Sequential()\n",
        "model.add(Embedding(10000, 8, input_length=maxlen))\n",
        "model.add(Flatten())\n",
        "model.add(Dense(1, activation='sigmoid'))\n",
        "model.compile(optimizer='rmsprop', loss='binary_crossentropy', metrics=['acc'])\n",
        "model.summary()"
      ],
      "execution_count": 30,
      "outputs": [
        {
          "output_type": "stream",
          "text": [
            "WARNING:tensorflow:From /usr/local/lib/python3.6/dist-packages/keras/backend/tensorflow_backend.py:541: The name tf.placeholder is deprecated. Please use tf.compat.v1.placeholder instead.\n",
            "\n",
            "WARNING:tensorflow:From /usr/local/lib/python3.6/dist-packages/keras/backend/tensorflow_backend.py:4432: The name tf.random_uniform is deprecated. Please use tf.random.uniform instead.\n",
            "\n",
            "WARNING:tensorflow:From /usr/local/lib/python3.6/dist-packages/keras/optimizers.py:793: The name tf.train.Optimizer is deprecated. Please use tf.compat.v1.train.Optimizer instead.\n",
            "\n",
            "WARNING:tensorflow:From /usr/local/lib/python3.6/dist-packages/keras/backend/tensorflow_backend.py:3657: The name tf.log is deprecated. Please use tf.math.log instead.\n",
            "\n",
            "WARNING:tensorflow:From /usr/local/lib/python3.6/dist-packages/tensorflow_core/python/ops/nn_impl.py:183: where (from tensorflow.python.ops.array_ops) is deprecated and will be removed in a future version.\n",
            "Instructions for updating:\n",
            "Use tf.where in 2.0, which has the same broadcast rule as np.where\n",
            "Model: \"sequential_1\"\n",
            "_________________________________________________________________\n",
            "Layer (type)                 Output Shape              Param #   \n",
            "=================================================================\n",
            "embedding_3 (Embedding)      (None, 20, 8)             80000     \n",
            "_________________________________________________________________\n",
            "flatten_1 (Flatten)          (None, 160)               0         \n",
            "_________________________________________________________________\n",
            "dense_1 (Dense)              (None, 1)                 161       \n",
            "=================================================================\n",
            "Total params: 80,161\n",
            "Trainable params: 80,161\n",
            "Non-trainable params: 0\n",
            "_________________________________________________________________\n"
          ],
          "name": "stdout"
        }
      ]
    },
    {
      "cell_type": "code",
      "metadata": {
        "id": "nmTSafNgXhPr",
        "colab_type": "code",
        "colab": {
          "base_uri": "https://localhost:8080/",
          "height": 666
        },
        "outputId": "ad7a2066-9be7-4c79-ce1a-7f5baaacc1f9"
      },
      "source": [
        "history = model.fit(x_train, y_train,\n",
        "                    epochs=10,\n",
        "                    batch_size=32,\n",
        "                    validation_split=0.2)"
      ],
      "execution_count": 31,
      "outputs": [
        {
          "output_type": "stream",
          "text": [
            "WARNING:tensorflow:From /usr/local/lib/python3.6/dist-packages/keras/backend/tensorflow_backend.py:1033: The name tf.assign_add is deprecated. Please use tf.compat.v1.assign_add instead.\n",
            "\n",
            "WARNING:tensorflow:From /usr/local/lib/python3.6/dist-packages/keras/backend/tensorflow_backend.py:1020: The name tf.assign is deprecated. Please use tf.compat.v1.assign instead.\n",
            "\n",
            "WARNING:tensorflow:From /usr/local/lib/python3.6/dist-packages/keras/backend/tensorflow_backend.py:3005: The name tf.Session is deprecated. Please use tf.compat.v1.Session instead.\n",
            "\n",
            "Train on 20000 samples, validate on 5000 samples\n",
            "Epoch 1/10\n",
            "WARNING:tensorflow:From /usr/local/lib/python3.6/dist-packages/keras/backend/tensorflow_backend.py:190: The name tf.get_default_session is deprecated. Please use tf.compat.v1.get_default_session instead.\n",
            "\n",
            "WARNING:tensorflow:From /usr/local/lib/python3.6/dist-packages/keras/backend/tensorflow_backend.py:197: The name tf.ConfigProto is deprecated. Please use tf.compat.v1.ConfigProto instead.\n",
            "\n",
            "WARNING:tensorflow:From /usr/local/lib/python3.6/dist-packages/keras/backend/tensorflow_backend.py:207: The name tf.global_variables is deprecated. Please use tf.compat.v1.global_variables instead.\n",
            "\n",
            "WARNING:tensorflow:From /usr/local/lib/python3.6/dist-packages/keras/backend/tensorflow_backend.py:216: The name tf.is_variable_initialized is deprecated. Please use tf.compat.v1.is_variable_initialized instead.\n",
            "\n",
            "WARNING:tensorflow:From /usr/local/lib/python3.6/dist-packages/keras/backend/tensorflow_backend.py:223: The name tf.variables_initializer is deprecated. Please use tf.compat.v1.variables_initializer instead.\n",
            "\n",
            "20000/20000 [==============================] - 3s 152us/step - loss: 0.6633 - acc: 0.6342 - val_loss: 0.6074 - val_acc: 0.7032\n",
            "Epoch 2/10\n",
            "20000/20000 [==============================] - 2s 96us/step - loss: 0.5325 - acc: 0.7535 - val_loss: 0.5208 - val_acc: 0.7314\n",
            "Epoch 3/10\n",
            "20000/20000 [==============================] - 2s 95us/step - loss: 0.4580 - acc: 0.7887 - val_loss: 0.4991 - val_acc: 0.7464\n",
            "Epoch 4/10\n",
            "20000/20000 [==============================] - 2s 95us/step - loss: 0.4207 - acc: 0.8083 - val_loss: 0.4926 - val_acc: 0.7530\n",
            "Epoch 5/10\n",
            "20000/20000 [==============================] - 2s 94us/step - loss: 0.3943 - acc: 0.8244 - val_loss: 0.4933 - val_acc: 0.7552\n",
            "Epoch 6/10\n",
            "20000/20000 [==============================] - 2s 95us/step - loss: 0.3725 - acc: 0.8357 - val_loss: 0.4979 - val_acc: 0.7562\n",
            "Epoch 7/10\n",
            "20000/20000 [==============================] - 2s 94us/step - loss: 0.3521 - acc: 0.8494 - val_loss: 0.5025 - val_acc: 0.7542\n",
            "Epoch 8/10\n",
            "20000/20000 [==============================] - 2s 95us/step - loss: 0.3336 - acc: 0.8583 - val_loss: 0.5095 - val_acc: 0.7542\n",
            "Epoch 9/10\n",
            "20000/20000 [==============================] - 2s 93us/step - loss: 0.3161 - acc: 0.8670 - val_loss: 0.5167 - val_acc: 0.7536\n",
            "Epoch 10/10\n",
            "20000/20000 [==============================] - 2s 96us/step - loss: 0.2990 - acc: 0.8770 - val_loss: 0.5248 - val_acc: 0.7512\n"
          ],
          "name": "stdout"
        }
      ]
    },
    {
      "cell_type": "markdown",
      "metadata": {
        "id": "fyVoIM00YdF8",
        "colab_type": "text"
      },
      "source": [
        "###Downloading the dataset and glove pre-trained embeddings and uploading to gdrive."
      ]
    },
    {
      "cell_type": "code",
      "metadata": {
        "id": "_vjwSNdXYoS6",
        "colab_type": "code",
        "colab": {}
      },
      "source": [
        "import os"
      ],
      "execution_count": 0,
      "outputs": []
    },
    {
      "cell_type": "code",
      "metadata": {
        "id": "T_vM62ElY-s9",
        "colab_type": "code",
        "colab": {
          "base_uri": "https://localhost:8080/",
          "height": 51
        },
        "outputId": "fdfc1ef3-f8ad-4a28-acc1-17419a900f48"
      },
      "source": [
        "!unzip -q \"/content/drive/My Drive/EVA_Proj/aclImdb.zip\""
      ],
      "execution_count": 33,
      "outputs": [
        {
          "output_type": "stream",
          "text": [
            "replace aclImdb/.DS_Store? [y]es, [n]o, [A]ll, [N]one, [r]ename: y\n",
            "replace __MACOSX/aclImdb/._.DS_Store? [y]es, [n]o, [A]ll, [N]one, [r]ename: All\n"
          ],
          "name": "stdout"
        }
      ]
    },
    {
      "cell_type": "code",
      "metadata": {
        "id": "3DtN3QWjb1Cw",
        "colab_type": "code",
        "colab": {}
      },
      "source": [
        "imdb_dir = '/content/aclImdb'"
      ],
      "execution_count": 0,
      "outputs": []
    },
    {
      "cell_type": "code",
      "metadata": {
        "id": "AryfqtaDb6nN",
        "colab_type": "code",
        "colab": {}
      },
      "source": [
        "train_dir = os.path.join(imdb_dir,'train')"
      ],
      "execution_count": 0,
      "outputs": []
    },
    {
      "cell_type": "code",
      "metadata": {
        "id": "-5zU5--Ib-ug",
        "colab_type": "code",
        "colab": {}
      },
      "source": [
        "labels = []\n",
        "texts = []"
      ],
      "execution_count": 0,
      "outputs": []
    },
    {
      "cell_type": "code",
      "metadata": {
        "id": "F6uh26v2cCDV",
        "colab_type": "code",
        "colab": {}
      },
      "source": [
        "# this part is for tagging the positive and negative labels to the dataset\n",
        "for label_type in ['neg', 'pos']:\n",
        "    dir_name = os.path.join(train_dir, label_type)\n",
        "    for fname in os.listdir(dir_name):\n",
        "      if fname[-4:] == '.txt':\n",
        "        f = open(os.path.join(dir_name, fname))\n",
        "        texts.append(f.read())\n",
        "        f.close()\n",
        "        if label_type == 'neg':\n",
        "          labels.append(0)\n",
        "        else:\n",
        "          labels.append(1)"
      ],
      "execution_count": 0,
      "outputs": []
    },
    {
      "cell_type": "code",
      "metadata": {
        "id": "cwizJpjrcOYU",
        "colab_type": "code",
        "colab": {}
      },
      "source": [
        "from keras.preprocessing.text import Tokenizer\n",
        "from keras.preprocessing.sequence import pad_sequences\n",
        "import numpy as np"
      ],
      "execution_count": 0,
      "outputs": []
    },
    {
      "cell_type": "code",
      "metadata": {
        "id": "RFKipumkcQKP",
        "colab_type": "code",
        "colab": {}
      },
      "source": [
        "# here max length is 100 and changed the training samples from 200 to 8000\n",
        "maxlen = 100\n",
        "training_samples = 8000"
      ],
      "execution_count": 0,
      "outputs": []
    },
    {
      "cell_type": "code",
      "metadata": {
        "id": "kb6yat9WcVnX",
        "colab_type": "code",
        "colab": {}
      },
      "source": [
        "# we are taking the max 10000 words from the trained 400k Glove words\n",
        "validation_samples = 10000\n",
        "max_words = 10000"
      ],
      "execution_count": 0,
      "outputs": []
    },
    {
      "cell_type": "code",
      "metadata": {
        "id": "dCD294oYca0L",
        "colab_type": "code",
        "colab": {}
      },
      "source": [
        "tokenizer = Tokenizer(num_words=max_words)\n",
        "tokenizer.fit_on_texts(texts)\n",
        "sequences = tokenizer.texts_to_sequences(texts)"
      ],
      "execution_count": 0,
      "outputs": []
    },
    {
      "cell_type": "code",
      "metadata": {
        "id": "TmrarTY2ce_E",
        "colab_type": "code",
        "colab": {
          "base_uri": "https://localhost:8080/",
          "height": 34
        },
        "outputId": "143c31e7-8b71-4581-ec8e-58728ef60516"
      },
      "source": [
        "word_index = tokenizer.word_index\n",
        "print('Found %s unique tokens.' % len(word_index))"
      ],
      "execution_count": 42,
      "outputs": [
        {
          "output_type": "stream",
          "text": [
            "Found 88582 unique tokens.\n"
          ],
          "name": "stdout"
        }
      ]
    },
    {
      "cell_type": "code",
      "metadata": {
        "id": "J_btDj28chqh",
        "colab_type": "code",
        "colab": {}
      },
      "source": [
        "data = pad_sequences(sequences, maxlen=maxlen)"
      ],
      "execution_count": 0,
      "outputs": []
    },
    {
      "cell_type": "code",
      "metadata": {
        "id": "Ndu4Vk9Gclfn",
        "colab_type": "code",
        "colab": {
          "base_uri": "https://localhost:8080/",
          "height": 51
        },
        "outputId": "242bded0-d291-44d9-aa39-cd975dc42453"
      },
      "source": [
        "# we will be shuffling the dataset since it has continous positive and negative reviews.\n",
        "# also we are splitting the dataset.\n",
        "\n",
        "labels = np.asarray(labels)\n",
        "print('Shape of data tensor:', data.shape)\n",
        "print('Shape of label tensor:', labels.shape)\n",
        "indices = np.arange(data.shape[0])\n",
        "np.random.shuffle(indices)\n",
        "data = data[indices]\n",
        "labels = labels[indices]\n",
        "x_train = data[:training_samples]\n",
        "y_train = labels[:training_samples]\n",
        "x_val = data[training_samples: training_samples + validation_samples]\n",
        "y_val = labels[training_samples: training_samples + validation_samples]"
      ],
      "execution_count": 44,
      "outputs": [
        {
          "output_type": "stream",
          "text": [
            "Shape of data tensor: (25000, 100)\n",
            "Shape of label tensor: (25000,)\n"
          ],
          "name": "stdout"
        }
      ]
    },
    {
      "cell_type": "code",
      "metadata": {
        "id": "wtuMXspscpXe",
        "colab_type": "code",
        "colab": {
          "base_uri": "https://localhost:8080/",
          "height": 34
        },
        "outputId": "bfd9966d-5d38-4d23-c5bd-ecb818a315ba"
      },
      "source": [
        "#unzipped the glove model and given directory path\n",
        "\n",
        "!unzip -q \"/content/drive/My Drive/EVA_Proj/glove.6B.zip\"\n",
        "glove_dir = '/content/'"
      ],
      "execution_count": 45,
      "outputs": [
        {
          "output_type": "stream",
          "text": [
            "replace glove.6B.50d.txt? [y]es, [n]o, [A]ll, [N]one, [r]ename: All\n"
          ],
          "name": "stdout"
        }
      ]
    },
    {
      "cell_type": "code",
      "metadata": {
        "id": "3aXM6_QugT56",
        "colab_type": "code",
        "colab": {
          "base_uri": "https://localhost:8080/",
          "height": 34
        },
        "outputId": "c8cd00a9-a836-4b87-d73b-abb3ccfbc5ad"
      },
      "source": [
        "#we are loading 100Dimensions text data and it will be 400k words\n",
        "embeddings_index = {}\n",
        "f = open(os.path.join(glove_dir, 'glove.6B.100d.txt'))\n",
        "for line in f:\n",
        "    values = line.split()\n",
        "    word = values[0]\n",
        "    coefs = np.asarray(values[1:], dtype='float32')\n",
        "    embeddings_index[word] = coefs\n",
        "f.close()\n",
        "print('Found %s word vectors.' % len(embeddings_index))"
      ],
      "execution_count": 46,
      "outputs": [
        {
          "output_type": "stream",
          "text": [
            "Found 400000 word vectors.\n"
          ],
          "name": "stdout"
        }
      ]
    },
    {
      "cell_type": "code",
      "metadata": {
        "id": "GT04z9megYTm",
        "colab_type": "code",
        "colab": {}
      },
      "source": [
        "# if the words are not in glove index, it will be assigned as zero vector\n",
        "\n",
        "embedding_dim = 100\n",
        "embedding_matrix = np.zeros((max_words, embedding_dim))\n",
        "for word, i in word_index.items():\n",
        "    if i < max_words:\n",
        "        embedding_vector = embeddings_index.get(word)\n",
        "        if embedding_vector is not None:\n",
        "            embedding_matrix[i] = embedding_vector"
      ],
      "execution_count": 0,
      "outputs": []
    },
    {
      "cell_type": "code",
      "metadata": {
        "id": "9o6xxR_Vgcd-",
        "colab_type": "code",
        "colab": {
          "base_uri": "https://localhost:8080/",
          "height": 289
        },
        "outputId": "1774ecee-dfa6-4451-8eff-91e36ce6ed75"
      },
      "source": [
        "#Each word in sample will be converted into 100dimension, so it will be 100*100\n",
        "\n",
        "from keras.models import Sequential\n",
        "from keras.layers import Embedding, Flatten, Dense\n",
        "model = Sequential()\n",
        "model.add(Embedding(max_words, embedding_dim, input_length=maxlen))\n",
        "model.add(Flatten())\n",
        "model.add(Dense(32, activation='relu'))\n",
        "model.add(Dense(1, activation='sigmoid'))\n",
        "model.summary()"
      ],
      "execution_count": 48,
      "outputs": [
        {
          "output_type": "stream",
          "text": [
            "Model: \"sequential_2\"\n",
            "_________________________________________________________________\n",
            "Layer (type)                 Output Shape              Param #   \n",
            "=================================================================\n",
            "embedding_4 (Embedding)      (None, 100, 100)          1000000   \n",
            "_________________________________________________________________\n",
            "flatten_2 (Flatten)          (None, 10000)             0         \n",
            "_________________________________________________________________\n",
            "dense_2 (Dense)              (None, 32)                320032    \n",
            "_________________________________________________________________\n",
            "dense_3 (Dense)              (None, 1)                 33        \n",
            "=================================================================\n",
            "Total params: 1,320,065\n",
            "Trainable params: 1,320,065\n",
            "Non-trainable params: 0\n",
            "_________________________________________________________________\n"
          ],
          "name": "stdout"
        }
      ]
    },
    {
      "cell_type": "code",
      "metadata": {
        "id": "6E8C-3vXgieg",
        "colab_type": "code",
        "colab": {}
      },
      "source": [
        "model.layers[0].set_weights([embedding_matrix])\n",
        "model.layers[0].trainable = False"
      ],
      "execution_count": 0,
      "outputs": []
    },
    {
      "cell_type": "code",
      "metadata": {
        "id": "QZUwonIkgmSV",
        "colab_type": "code",
        "colab": {
          "base_uri": "https://localhost:8080/",
          "height": 374
        },
        "outputId": "04d319f2-c05a-4492-b93e-727cc0ac0d68"
      },
      "source": [
        "model.compile(optimizer='rmsprop',\n",
        "              loss='binary_crossentropy',\n",
        "              metrics=['acc'])\n",
        "history = model.fit(x_train, y_train,\n",
        "                    epochs=10,\n",
        "                    batch_size=32,\n",
        "                    validation_data=(x_val, y_val))\n",
        "model.save_weights('pre_trained_glove_model.h5')"
      ],
      "execution_count": 50,
      "outputs": [
        {
          "output_type": "stream",
          "text": [
            "Train on 8000 samples, validate on 10000 samples\n",
            "Epoch 1/10\n",
            "8000/8000 [==============================] - 1s 175us/step - loss: 0.7023 - acc: 0.5621 - val_loss: 0.6331 - val_acc: 0.6581\n",
            "Epoch 2/10\n",
            "8000/8000 [==============================] - 1s 147us/step - loss: 0.5915 - acc: 0.6854 - val_loss: 0.5844 - val_acc: 0.6907\n",
            "Epoch 3/10\n",
            "8000/8000 [==============================] - 1s 148us/step - loss: 0.4934 - acc: 0.7628 - val_loss: 0.6146 - val_acc: 0.6731\n",
            "Epoch 4/10\n",
            "8000/8000 [==============================] - 1s 145us/step - loss: 0.4280 - acc: 0.8021 - val_loss: 0.5916 - val_acc: 0.6949\n",
            "Epoch 5/10\n",
            "8000/8000 [==============================] - 1s 145us/step - loss: 0.3587 - acc: 0.8375 - val_loss: 0.6958 - val_acc: 0.6729\n",
            "Epoch 6/10\n",
            "8000/8000 [==============================] - 1s 145us/step - loss: 0.3050 - acc: 0.8663 - val_loss: 0.6318 - val_acc: 0.6992\n",
            "Epoch 7/10\n",
            "8000/8000 [==============================] - 1s 148us/step - loss: 0.2520 - acc: 0.8908 - val_loss: 0.6635 - val_acc: 0.6913\n",
            "Epoch 8/10\n",
            "8000/8000 [==============================] - 1s 148us/step - loss: 0.1922 - acc: 0.9275 - val_loss: 1.1200 - val_acc: 0.6335\n",
            "Epoch 9/10\n",
            "8000/8000 [==============================] - 1s 149us/step - loss: 0.1486 - acc: 0.9454 - val_loss: 0.8248 - val_acc: 0.6879\n",
            "Epoch 10/10\n",
            "8000/8000 [==============================] - 1s 147us/step - loss: 0.1127 - acc: 0.9613 - val_loss: 1.1468 - val_acc: 0.6556\n"
          ],
          "name": "stdout"
        }
      ]
    },
    {
      "cell_type": "code",
      "metadata": {
        "id": "nzQbaxF0g-dx",
        "colab_type": "code",
        "colab": {
          "base_uri": "https://localhost:8080/",
          "height": 545
        },
        "outputId": "d75121c1-763d-4f0d-f249-c0f9707c3ec5"
      },
      "source": [
        "import matplotlib.pyplot as plt\n",
        "acc = history.history['acc']\n",
        "val_acc = history.history['val_acc']\n",
        "loss = history.history['loss']\n",
        "val_loss = history.history['val_loss']\n",
        "epochs = range(1, len(acc) + 1)\n",
        "plt.plot(epochs, acc, 'bo', label='Training acc')\n",
        "plt.plot(epochs, val_acc, 'b', label='Validation acc')\n",
        "plt.title('Training and validation accuracy')\n",
        "plt.legend()\n",
        "plt.figure()\n",
        "plt.plot(epochs, loss, 'bo', label='Training loss')\n",
        "plt.plot(epochs, val_loss, 'b', label='Validation loss')\n",
        "plt.title('Training and validation loss')\n",
        "plt.legend()\n",
        "plt.show()"
      ],
      "execution_count": 51,
      "outputs": [
        {
          "output_type": "display_data",
          "data": {
            "image/png": "[encoded data removed]",
            "text/plain": [
              "<Figure size 432x288 with 1 Axes>"
            ]
          },
          "metadata": {
            "tags": []
          }
        },
        {
          "output_type": "display_data",
          "data": {
            "image/png": "[encoded data removed]",
            "text/plain": [
              "<Figure size 432x288 with 1 Axes>"
            ]
          },
          "metadata": {
            "tags": []
          }
        }
      ]
    },
    {
      "cell_type": "code",
      "metadata": {
        "id": "nVuYNCtXhIP4",
        "colab_type": "code",
        "colab": {
          "base_uri": "https://localhost:8080/",
          "height": 646
        },
        "outputId": "49988a61-c570-40a5-e532-a9ae19333e17"
      },
      "source": [
        "from keras.models import Sequential\n",
        "from keras.layers import Embedding, Flatten, Dense\n",
        "model = Sequential()\n",
        "model.add(Embedding(max_words, embedding_dim, input_length=maxlen))\n",
        "model.add(Flatten())\n",
        "model.add(Dense(32, activation='relu'))\n",
        "model.add(Dense(1, activation='sigmoid'))\n",
        "model.summary()\n",
        "model.compile(optimizer='rmsprop',\n",
        "              loss='binary_crossentropy',\n",
        "              metrics=['acc'])\n",
        "history = model.fit(x_train, y_train,\n",
        "                    epochs=10,\n",
        "                    batch_size=32,\n",
        "                    validation_data=(x_val, y_val))"
      ],
      "execution_count": 52,
      "outputs": [
        {
          "output_type": "stream",
          "text": [
            "Model: \"sequential_3\"\n",
            "_________________________________________________________________\n",
            "Layer (type)                 Output Shape              Param #   \n",
            "=================================================================\n",
            "embedding_5 (Embedding)      (None, 100, 100)          1000000   \n",
            "_________________________________________________________________\n",
            "flatten_3 (Flatten)          (None, 10000)             0         \n",
            "_________________________________________________________________\n",
            "dense_4 (Dense)              (None, 32)                320032    \n",
            "_________________________________________________________________\n",
            "dense_5 (Dense)              (None, 1)                 33        \n",
            "=================================================================\n",
            "Total params: 1,320,065\n",
            "Trainable params: 1,320,065\n",
            "Non-trainable params: 0\n",
            "_________________________________________________________________\n",
            "Train on 8000 samples, validate on 10000 samples\n",
            "Epoch 1/10\n",
            "8000/8000 [==============================] - 2s 202us/step - loss: 0.5394 - acc: 0.7126 - val_loss: 0.3809 - val_acc: 0.8254\n",
            "Epoch 2/10\n",
            "8000/8000 [==============================] - 1s 170us/step - loss: 0.1428 - acc: 0.9501 - val_loss: 0.4187 - val_acc: 0.8214\n",
            "Epoch 3/10\n",
            "8000/8000 [==============================] - 1s 173us/step - loss: 0.0109 - acc: 0.9981 - val_loss: 0.5446 - val_acc: 0.8177\n",
            "Epoch 4/10\n",
            "8000/8000 [==============================] - 1s 175us/step - loss: 0.0010 - acc: 0.9998 - val_loss: 0.6878 - val_acc: 0.8192\n",
            "Epoch 5/10\n",
            "8000/8000 [==============================] - 1s 169us/step - loss: 2.7566e-05 - acc: 1.0000 - val_loss: 0.7984 - val_acc: 0.8217\n",
            "Epoch 6/10\n",
            "8000/8000 [==============================] - 1s 167us/step - loss: 3.0495e-07 - acc: 1.0000 - val_loss: 0.8976 - val_acc: 0.8193\n",
            "Epoch 7/10\n",
            "8000/8000 [==============================] - 1s 170us/step - loss: 1.1781e-07 - acc: 1.0000 - val_loss: 0.9229 - val_acc: 0.8195\n",
            "Epoch 8/10\n",
            "8000/8000 [==============================] - 1s 178us/step - loss: 1.1135e-07 - acc: 1.0000 - val_loss: 0.9351 - val_acc: 0.8207\n",
            "Epoch 9/10\n",
            "8000/8000 [==============================] - 1s 175us/step - loss: 1.1109e-07 - acc: 1.0000 - val_loss: 0.9436 - val_acc: 0.8200\n",
            "Epoch 10/10\n",
            "8000/8000 [==============================] - 1s 175us/step - loss: 1.1004e-07 - acc: 1.0000 - val_loss: 0.9508 - val_acc: 0.8199\n"
          ],
          "name": "stdout"
        }
      ]
    },
    {
      "cell_type": "code",
      "metadata": {
        "id": "QN3ZmBM1hSmG",
        "colab_type": "code",
        "colab": {}
      },
      "source": [
        "test_dir = os.path.join(imdb_dir, 'test')\n",
        "labels = []\n",
        "texts = []\n",
        "for label_type in ['neg', 'pos']:\n",
        "    dir_name = os.path.join(test_dir, label_type)\n",
        "    for fname in sorted(os.listdir(dir_name)):\n",
        "        if fname[-4:] == '.txt':\n",
        "            f = open(os.path.join(dir_name, fname))\n",
        "            texts.append(f.read())\n",
        "            f.close()\n",
        "            if label_type == 'neg':\n",
        "                labels.append(0)\n",
        "            else:\n",
        "                labels.append(1)"
      ],
      "execution_count": 0,
      "outputs": []
    },
    {
      "cell_type": "code",
      "metadata": {
        "id": "3B1HKIzUhWo8",
        "colab_type": "code",
        "colab": {}
      },
      "source": [
        "sequences = tokenizer.texts_to_sequences(texts)\n",
        "x_test = pad_sequences(sequences, maxlen=maxlen)\n",
        "y_test = np.asarray(labels)"
      ],
      "execution_count": 0,
      "outputs": []
    },
    {
      "cell_type": "code",
      "metadata": {
        "id": "EEFJjlGwhcHI",
        "colab_type": "code",
        "colab": {
          "base_uri": "https://localhost:8080/",
          "height": 51
        },
        "outputId": "6b829605-f08c-4ad9-bcfb-7bc5469ff41f"
      },
      "source": [
        "model.load_weights('pre_trained_glove_model.h5')\n",
        "model.evaluate(x_test, y_test)"
      ],
      "execution_count": 55,
      "outputs": [
        {
          "output_type": "stream",
          "text": [
            "25000/25000 [==============================] - 1s 41us/step\n"
          ],
          "name": "stdout"
        },
        {
          "output_type": "execute_result",
          "data": {
            "text/plain": [
              "[1.1438088365936279, 0.6578]"
            ]
          },
          "metadata": {
            "tags": []
          },
          "execution_count": 55
        }
      ]
    }
  ]
}