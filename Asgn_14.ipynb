{
  "nbformat": 4,
  "nbformat_minor": 0,
  "metadata": {
    "accelerator": "GPU",
    "colab": {
      "name": "Asgn_14.ipynb",
      "version": "0.3.2",
      "provenance": [],
      "collapsed_sections": [],
      "include_colab_link": true
    },
    "kernelspec": {
      "display_name": "Python 3",
      "language": "python",
      "name": "python3"
    },
    "language_info": {
      "codemirror_mode": {
        "name": "ipython",
        "version": 3
      },
      "file_extension": ".py",
      "mimetype": "text/x-python",
      "name": "python",
      "nbconvert_exporter": "python",
      "pygments_lexer": "ipython3",
      "version": "3.6.5"
    }
  },
  "cells": [
    {
      "cell_type": "markdown",
      "metadata": {
        "id": "view-in-github",
        "colab_type": "text"
      },
      "source": [
        "<a href=\"https://colab.research.google.com/github/reply2vikas/Project-1/blob/master/Asgn_14.ipynb\" target=\"_parent\"><img src=\"https://colab.research.google.com/assets/colab-badge.svg\" alt=\"Open In Colab\"/></a>"
      ]
    },
    {
      "cell_type": "markdown",
      "metadata": {
        "colab_type": "text",
        "id": "vscC8X_botst"
      },
      "source": [
        "# Assignment: 14\n",
        "\n",
        "## Submitters:\n",
        "\n",
        "Monimoy Deb Purkayatha (monimoyd@gmail.com)\n",
        "Kartheek Kanagala (kanagala.k@gmail.com)\n",
        "Krisna Gorrepati (krishnagorrepati@gmail.com)\n",
        "Chaitali Deb Purkayastha (chaitalidebp@gmail.com)\n",
        "Vikas Kumar Sharma(vikas.reply@gmail.com)\n",
        "\n",
        "## Objective:\n",
        "\n",
        "\n",
        "In this assignment:\n",
        "\n",
        "i. We have to run training on CIFAR-10 dataset and achieve accuracy of 94%\n",
        "ii. Training should be done in 100 seconds\n",
        "iii. Need to train on V100 machine\n",
        "\n",
        "\n",
        "## Implementaion\n",
        "\n",
        "- We have used shake Davidnet architecute, modified parameters\n",
        "- Added Shake and Drop regularization\n",
        "- Added the pregenerated cutout images\n",
        "\n",
        "\n",
        "\n",
        "\n",
        "\n"
      ]
    },
    {
      "cell_type": "markdown",
      "metadata": {
        "colab_type": "text",
        "id": "4VZnv6dQMpUT"
      },
      "source": [
        "## Import all the Keras libraries "
      ]
    },
    {
      "cell_type": "code",
      "metadata": {
        "colab_type": "code",
        "id": "fvsRzQl8oqs1",
        "colab": {}
      },
      "source": [
        "import tensorflow as tf\n",
        "import tensorflow.keras.backend as K\n",
        "import time\n",
        "import matplotlib.pyplot as plt\n",
        "import numpy as np\n",
        "%matplotlib inline\n",
        "np.random.seed(2017) \n",
        "\n",
        "from tensorflow.python.keras import utils\n",
        "from tensorflow.keras.regularizers import l2\n",
        "from tensorflow.keras import optimizers\n",
        "\n",
        "\n",
        "from tensorflow.keras import Model\n",
        "from tensorflow.keras.layers import MaxPooling2D, Conv2D, BatchNormalization, Layer,InputSpec, GlobalMaxPool2D,  Activation, Flatten, Dense, Dropout, Input, Concatenate, GlobalAveragePooling2D, SeparableConv2D, Lambda, Add, SpatialDropout2D\n",
        "from tensorflow.keras import initializers, regularizers, constraints\n",
        "from tensorflow.keras.initializers import Initializer\n",
        "from tensorflow.python.keras.backend import _regular_normalize_batch_in_training\n",
        "\n",
        "\n",
        "\n"
      ],
      "execution_count": 0,
      "outputs": []
    },
    {
      "cell_type": "code",
      "metadata": {
        "colab_type": "code",
        "id": "pxSudXU5G4oI",
        "colab": {}
      },
      "source": [
        "\n",
        "# Don't pre-allocate memory; allocate as-needed\n",
        "config = tf.ConfigProto()\n",
        "config.gpu_options.allow_growth = True"
      ],
      "execution_count": 0,
      "outputs": []
    },
    {
      "cell_type": "markdown",
      "metadata": {
        "colab_type": "text",
        "id": "sxGsz0eWNcOO"
      },
      "source": [
        "## Load the  train features, train labels, test features, train labels from CIFAR10 dataset "
      ]
    },
    {
      "cell_type": "code",
      "metadata": {
        "colab_type": "code",
        "id": "NHpnoCHZfO8g",
        "outputId": "cbd9bb8c-b1ba-43a2-8b34-0e2b504411ce",
        "colab": {
          "base_uri": "https://localhost:8080/",
          "height": 71
        }
      },
      "source": [
        "from keras.datasets import cifar10\n",
        "(train_features, train_labels), (test_features, test_labels) = cifar10.load_data()\n",
        "num_train, img_channels, img_rows, img_cols =  train_features.shape\n",
        "num_test, _, _, _ =  test_features.shape\n",
        "num_classes = len(np.unique(train_labels))"
      ],
      "execution_count": 0,
      "outputs": [
        {
          "output_type": "stream",
          "text": [
            "Using TensorFlow backend.\n"
          ],
          "name": "stderr"
        }
      ]
    },
    {
      "cell_type": "markdown",
      "metadata": {
        "colab_type": "text",
        "id": "ue2rg7cnOO3X"
      },
      "source": [
        "## Define class names and display\n",
        "* Define the 10 classes as airplane, automobile, bird, cat, deer, dog, frog, horse, ship, truck\n",
        "* Display one element from each class"
      ]
    },
    {
      "cell_type": "code",
      "metadata": {
        "colab_type": "code",
        "id": "14HyBUXdfS6G",
        "outputId": "a743db5f-947a-42fc-a45a-6db9f7c3379f",
        "colab": {
          "base_uri": "https://localhost:8080/",
          "height": 213
        }
      },
      "source": [
        "class_names = ['airplane','automobile','bird','cat','deer',\n",
        "               'dog','frog','horse','ship','truck']\n",
        "fig = plt.figure(figsize=(8,3))\n",
        "for i in range(num_classes):\n",
        "    ax = fig.add_subplot(2, 5, 1 + i, xticks=[], yticks=[])\n",
        "    idx = np.where(train_labels[:]==i)[0]\n",
        "    features_idx = train_features[idx,::]\n",
        "    img_num = np.random.randint(features_idx.shape[0])\n",
        "    im = features_idx[img_num]\n",
        "    ax.set_title(class_names[i])\n",
        "    plt.imshow(im)\n",
        "plt.show()"
      ],
      "execution_count": 0,
      "outputs": [
        {
          "output_type": "display_data",
          "data": {
            "image/png": "[encoded data removed]",
            "text/plain": [
              "<Figure size 576x216 with 10 Axes>"
            ]
          },
          "metadata": {
            "tags": []
          }
        }
      ]
    },
    {
      "cell_type": "markdown",
      "metadata": {
        "colab_type": "text",
        "id": "iGiZ3cPmPXk1"
      },
      "source": [
        "## Define a method for diplaying model history\n",
        "Define a method plot_model_history for displaying model history which will do the following\n",
        "* Plot Model accuracy (both the training and validation accuracy) vs number of epochs. \n",
        "* Model loss ((both the training and validation accuracy) vs number of epoch\n"
      ]
    },
    {
      "cell_type": "code",
      "metadata": {
        "colab_type": "code",
        "id": "bmfsk76-fadV",
        "colab": {}
      },
      "source": [
        "def plot_model_history(model_history):\n",
        "    fig, axs = plt.subplots(1,2,figsize=(15,5))\n",
        "    # summarize history for accuracy\n",
        "    axs[0].plot(range(1,len(model_history.history['acc'])+1),model_history.history['acc'])\n",
        "    axs[0].plot(range(1,len(model_history.history['val_acc'])+1),model_history.history['val_acc'])\n",
        "    axs[0].set_title('Model Accuracy')\n",
        "    axs[0].set_ylabel('Accuracy')\n",
        "    axs[0].set_xlabel('Epoch')\n",
        "    axs[0].set_xticks(np.arange(1,len(model_history.history['acc'])+1),len(model_history.history['acc'])/10)\n",
        "    axs[0].legend(['train', 'val'], loc='best')\n",
        "    # summarize history for loss\n",
        "    axs[1].plot(range(1,len(model_history.history['loss'])+1),model_history.history['loss'])\n",
        "    axs[1].plot(range(1,len(model_history.history['val_loss'])+1),model_history.history['val_loss'])\n",
        "    axs[1].set_title('Model Loss')\n",
        "    axs[1].set_ylabel('Loss')\n",
        "    axs[1].set_xlabel('Epoch')\n",
        "    axs[1].set_xticks(np.arange(1,len(model_history.history['loss'])+1),len(model_history.history['loss'])/10)\n",
        "    axs[1].legend(['train', 'val'], loc='best')\n",
        "    plt.show()"
      ],
      "execution_count": 0,
      "outputs": []
    },
    {
      "cell_type": "markdown",
      "metadata": {
        "colab_type": "text",
        "id": "Jl9_fp3zRo6q"
      },
      "source": [
        "## Define a method for calculate accuracy\n",
        "\n",
        "Define a mehod accuracy which will calculate accuracy from model\n",
        "* Get True class\n",
        "* Get Predicted class\n",
        "* Get numbe of correc predictions\n",
        "* Divide number of correct predictions by total number of elements to get the accuracy\n"
      ]
    },
    {
      "cell_type": "code",
      "metadata": {
        "colab_type": "code",
        "id": "YJMT4rjgfdZz",
        "colab": {}
      },
      "source": [
        "def accuracy(test_x, test_y, model):\n",
        "    result = model.predict(test_x)\n",
        "    predicted_class = np.argmax(result, axis=1)\n",
        "    true_class = np.argmax(test_y, axis=1)\n",
        "    num_correct = np.sum(predicted_class == true_class) \n",
        "    accuracy = float(num_correct)/result.shape[0]\n",
        "    return (accuracy * 100)"
      ],
      "execution_count": 0,
      "outputs": []
    },
    {
      "cell_type": "markdown",
      "metadata": {
        "colab_type": "text",
        "id": "DMqqorLbTNSz"
      },
      "source": [
        "## Perform pixel normalization of features and one hot encoding of train and test\n",
        "\n",
        "* Perform pixel normalization by dividing train and test features by 255\n",
        "* Use to_categorical method of np_utils to use one hot encoding to Convert the train_labels, test_labels to 10 dimensional categorical matrix"
      ]
    },
    {
      "cell_type": "code",
      "metadata": {
        "colab_type": "code",
        "id": "T5c5nDvxm6zR",
        "outputId": "82e7eb30-3f9c-4c85-d623-e8c53615ad97",
        "colab": {
          "base_uri": "https://localhost:8080/",
          "height": 71
        }
      },
      "source": [
        "#train_features = train_features.astype('float32')/255\n",
        "#test_features = test_features.astype('float32')/255\n",
        "# convert class labels to binary class labels\n",
        "#train_labels = np_utils.to_categorical(train_labels, num_classes)\n",
        "#test_labels = np_utils.to_categorical(test_labels, num_classes)\n",
        "\n",
        "\n",
        "#(x_train, y_train), (x_test, y_test) = tf.keras.datasets.cifar10.load_data()\n",
        "import random\n",
        "x_train, y_train, x_test, y_test = train_features, train_labels, test_features, test_labels\n",
        "\n",
        "index_list_aug1 = random.sample(range(len(x_train)), 25000)\n",
        "print(\"index_list_aug1 len=\", len(index_list_aug1))\n",
        "x_train_aug1,y_train_aug1 = np.copy(x_train[index_list_aug1]), np.copy(y_train[index_list_aug1])\n",
        "print(\"x_train_aug1.shape=\", x_train_aug1.shape)\n",
        "print(\"y_train_aug1.shape=\", y_train_aug1.shape)\n",
        "\n",
        "index_list_aug2 = random.sample(range(len(x_train)), 25000)\n",
        "x_train_aug2,y_train_aug2 = np.copy(x_train[index_list_aug2]), np.copy(y_train[index_list_aug2])\n",
        "\n",
        "x_test_aug1, y_test_aug1 = np.copy(x_test), np.copy(y_test)\n",
        "x_test_aug2, y_test_aug2 = np.copy(x_test), np.copy(y_test)\n",
        "\n",
        "\n",
        "len_train, len_test = len(x_train), len(x_test)\n",
        "y_train = utils.to_categorical(y_train, num_classes)\n",
        "y_test = utils.to_categorical(y_test, num_classes)\n",
        "\n",
        "train_mean = np.mean(x_train, axis=(0,1,2))\n",
        "train_std = np.std(x_train, axis=(0,1,2))\n",
        "\n",
        "normalize = lambda x: ((x - train_mean) / train_std).astype('float32') # todo: check here\n",
        "#pad4 = lambda x: np.pad(x, [(0, 0), (4, 4), (4, 4), (0, 0)], mode='reflect')\n",
        "\n",
        "#x_train = normalize(pad4(x_train))\n",
        "x_train = normalize(x_train)\n",
        "x_test = normalize(x_test)"
      ],
      "execution_count": 0,
      "outputs": [
        {
          "output_type": "stream",
          "text": [
            "index_list_aug1 len= 25000\n",
            "x_train_aug1.shape= (25000, 32, 32, 3)\n",
            "y_train_aug1.shape= (25000, 1)\n"
          ],
          "name": "stdout"
        }
      ]
    },
    {
      "cell_type": "code",
      "metadata": {
        "colab_type": "code",
        "id": "37OiiDOq1SXv",
        "colab": {}
      },
      "source": [
        "!cp '/floyd/input/imageaug/img_aug_cutout_x.npy' .\n",
        "!cp '/floyd/input/imageaug/lables_cutout.npy' ."
      ],
      "execution_count": 0,
      "outputs": []
    },
    {
      "cell_type": "code",
      "metadata": {
        "colab_type": "code",
        "id": "dE46WK5m4HTf",
        "colab": {}
      },
      "source": [
        "cutout_x = np.load('img_aug_cutout_x.npy',encoding='latin1')\n",
        "cutout_y = np.load('lables_cutout.npy',encoding='latin1')\n",
        "cutout_y = cutout_y.reshape(cutout_y.shape[0], 1)"
      ],
      "execution_count": 0,
      "outputs": []
    },
    {
      "cell_type": "code",
      "metadata": {
        "colab_type": "code",
        "id": "KqWYjM-AHz9F",
        "outputId": "d0917673-c206-4d85-8a79-16f605ee8531",
        "colab": {
          "base_uri": "https://localhost:8080/",
          "height": 35
        }
      },
      "source": [
        "print(len(index_list_aug1))"
      ],
      "execution_count": 0,
      "outputs": [
        {
          "output_type": "stream",
          "text": [
            "25000\n"
          ],
          "name": "stdout"
        }
      ]
    },
    {
      "cell_type": "code",
      "metadata": {
        "colab_type": "code",
        "id": "euarYGaR4kfs",
        "outputId": "7b7300b3-1148-4fb8-e467-192990f01e9a",
        "colab": {
          "base_uri": "https://localhost:8080/",
          "height": 71
        }
      },
      "source": [
        "index_list_aug1 = random.sample(range(len(cutout_x)), 25000)\n",
        "x_aug1 = cutout_x[index_list_aug1]\n",
        "y_aug1 = cutout_y[index_list_aug1]\n",
        "\n",
        "print(\"x_train_aug1.shape= \", x_train_aug1.shape)\n",
        "print(\"x_aug1.shape= \", x_aug1.shape)\n",
        "print(\"y_aug1.shape= \", y_aug1.shape)\n",
        "\n",
        "x_train_aug1=np.append(x_train_aug1, x_aug1, axis=0)\n",
        "y_train_aug1=np.append(y_train_aug1, y_aug1, axis=0)\n",
        "\n",
        "len_train_aug1, len_test_aug1 = len(x_train_aug1), len(x_test_aug1)\n",
        "y_train_aug1 = utils.to_categorical(y_train_aug1, num_classes)\n",
        "y_test_aug1 = utils.to_categorical(y_test_aug1, num_classes)\n",
        "\n",
        "train_aug1_mean = np.mean(x_train_aug1, axis=(0,1,2))\n",
        "train_aug1_std = np.std(x_train_aug1, axis=(0,1,2))\n",
        "\n",
        "normalize = lambda x: ((x - train_aug1_mean) / train_aug1_std).astype('float32') # todo: check here\n",
        "#pad4 = lambda x: np.pad(x, [(0, 0), (4, 4), (4, 4), (0, 0)], mode='reflect')\n",
        "\n",
        "#x_train = normalize(pad4(x_train))\n",
        "x_train_aug1 = normalize(x_train_aug1)\n",
        "x_test_aug1 = normalize(x_test_aug1)"
      ],
      "execution_count": 0,
      "outputs": [
        {
          "output_type": "stream",
          "text": [
            "x_train_aug1.shape=  (25000, 32, 32, 3)\n",
            "x_aug1.shape=  (25000, 32, 32, 3)\n",
            "y_aug1.shape=  (25000, 1)\n"
          ],
          "name": "stdout"
        }
      ]
    },
    {
      "cell_type": "code",
      "metadata": {
        "colab_type": "code",
        "id": "6X6HRIge584P",
        "colab": {}
      },
      "source": [
        "index_list_aug2 = random.sample(range(len(cutout_x)), 25000)\n",
        "x_aug2 = cutout_x[index_list_aug2]\n",
        "y_aug2 = cutout_y[index_list_aug2]\n",
        "\n",
        "x_train_aug2 = np.append(x_train_aug2, x_aug2, axis=0)\n",
        "y_train_aug2 = np.append(y_train_aug2, y_aug2, axis=0)\n",
        "\n",
        "len_train_aug2, len_test_aug2 = len(x_train_aug2), len(x_test_aug2)\n",
        "y_train_aug2 = utils.to_categorical(y_train_aug2, num_classes)\n",
        "y_test_aug2 = utils.to_categorical(y_test_aug2, num_classes)\n",
        "\n",
        "train_aug2_mean = np.mean(x_train_aug2, axis=(0,1,2))\n",
        "train_aug2_std = np.std(x_train_aug2, axis=(0,1,2))\n",
        "\n",
        "normalize = lambda x: ((x - train_aug2_mean) / train_aug2_std).astype('float32') # todo: check here\n",
        "#pad4 = lambda x: np.pad(x, [(0, 0), (4, 4), (4, 4), (0, 0)], mode='reflect')\n",
        "\n",
        "#x_train = normalize(pad4(x_train))\n",
        "x_train_aug2 = normalize(x_train_aug2)\n",
        "x_test_aug2 = normalize(x_test_aug2)"
      ],
      "execution_count": 0,
      "outputs": []
    },
    {
      "cell_type": "code",
      "metadata": {
        "colab_type": "code",
        "id": "zUJ4R0zY-oyf",
        "colab": {}
      },
      "source": [
        "import scipy\n",
        "import scipy.misc\n",
        "import skimage.transform\n",
        "new_shape_16 = (16,16,3)\n",
        "new_shape_24 = (24,24,3)\n",
        "x_train_16 = np.empty(shape=(x_train.shape[0],)+new_shape_16)\n",
        "x_train_24 = np.empty(shape=(x_train.shape[0],)+new_shape_24)\n",
        "for idx in range(x_train.shape[0]):\n",
        "    x_train_16[idx] = skimage.transform.resize(x_train[idx], new_shape_16)\n",
        "    x_train_24[idx] = skimage.transform.resize(x_train[idx], new_shape_24)\n"
      ],
      "execution_count": 0,
      "outputs": []
    },
    {
      "cell_type": "code",
      "metadata": {
        "colab_type": "code",
        "id": "WxUB00ryvOqH",
        "colab": {}
      },
      "source": [
        "#TODO : Chnage for V100\n",
        "NUM_PARALLEL_CALLS=2\n",
        "\n",
        "def _bytes_feature(value):\n",
        "    return tf.train.Feature(bytes_list=tf.train.BytesList(value=[value]))\n",
        " \n",
        " \n",
        "def save_tf_records(x_train, y_train, path, file_prefix):\n",
        "    \n",
        "    chunk_size = 10000\n",
        "    num_chunks = int(x_train.shape[0] / chunk_size )\n",
        "    if int(x_train.shape[0] % chunk_size) > 0:\n",
        "        num_chunks += 1\n",
        "    current_pointer = 0\n",
        "    write = None\n",
        "    for chunk in range(num_chunks):\n",
        "        writer = tf.python_io.TFRecordWriter(path + '/' + file_prefix + \"_\" + str(chunk+1) + \".tfrecord\")\n",
        "        \n",
        "        x_chunk = x_train[current_pointer: current_pointer + chunk_size]\n",
        "        y_chunk = y_train[current_pointer: current_pointer + chunk_size]\n",
        "        current_pointer += chunk_size\n",
        "        for i in range(chunk_size):\n",
        "            example = tf.train.Example(features=tf.train.Features(\n",
        "                feature={'image': _bytes_feature(x_train[i].tostring()),\n",
        "                         'label': _bytes_feature(\n",
        "                             y_train[i].tostring())\n",
        "                         }))\n",
        " \n",
        "        writer.write(example.SerializeToString())\n",
        "        if writer is not None:\n",
        "            writer.close()\n",
        "  \n",
        "def load_tf_records(filenames, dimension=()): \n",
        "   \n",
        " \n",
        "    def parse_fn(record):\n",
        "       \n",
        "        featdef = {\n",
        "            'image': tf.FixedLenFeature(shape=[], dtype=tf.string),\n",
        "            'labels': tf.FixedLenFeature(shape=[], dtype=tf.string),\n",
        "        }\n",
        " \n",
        "        example = tf.parse_single_example(record, featdef)\n",
        "        im = tf.decode_raw(example['image'], tf.float32)\n",
        "        im = tf.reshape(im, dimension)\n",
        "        lbl = tf.decode_raw(example['labels'], tf.int64)\n",
        "        return im, lbl\n",
        "       \n",
        "      \n",
        "    files = tf.data.Dataset.list_files(filenames)\n",
        "    #dataset = files.interleave(tf.data.TFRecordDataset)\n",
        "    dataset = files.apply(tf.contrib.data.parallel_interleave(tf.data.TFRecordDataset, cycle_length=2))\n",
        "    dataset = dataset.shuffle(buffer_size=100000)\n",
        "    #dataset = dataset.apply(tf.contrib.data.map_and_batch(\n",
        "    #map_func=parse_fn, batch_size=FLAGS))\n",
        "    dataset = dataset.map(map_func=parse_fn, num_parallel_calls=NUM_PARALLEL_CALLS)\n",
        "    dataset = dataset.batch(batch_size=BATCH_SIZE)\n",
        "    dataset = dataset.prefetch(buffer_size=BATCH_SIZE)\n",
        "    #iterator = dataset.make_one_shot_iterator()\n",
        "    dataset = dataset.repeat(24)\n",
        "    iterator = dataset.make_one_shot_iterator()\n",
        "    features, labels = iterator.get_next()\n",
        " \n",
        "    return features, labels\n",
        "    #return iterator\n",
        "    \n",
        "    #dataset = tf.data.TFRecordDataset(filenames)\n",
        "     \n",
        "    #dataset = dataset.map(parser)\n",
        "    #dataset = dataset.shuffle(buffer_size=50000)\n",
        "    #dataset = dataset.batch(50000)\n",
        "    #dataset = dataset.repeat(1)\n",
        "    \n",
        "    #return iterator.get_next()\n"
      ],
      "execution_count": 0,
      "outputs": []
    },
    {
      "cell_type": "code",
      "metadata": {
        "colab_type": "code",
        "id": "XqUWKudc-cfs",
        "colab": {}
      },
      "source": [
        "save_tf_records(x_train, y_train, '.', 'train_32')"
      ],
      "execution_count": 0,
      "outputs": []
    },
    {
      "cell_type": "code",
      "metadata": {
        "colab_type": "code",
        "id": "mlfuwypwA8ur",
        "outputId": "0f4173cf-8a62-4281-9a07-044a7d6b2bb7",
        "colab": {
          "base_uri": "https://localhost:8080/",
          "height": 196
        }
      },
      "source": [
        "!ls -l"
      ],
      "execution_count": 0,
      "outputs": [
        {
          "output_type": "stream",
          "text": [
            "total 151972\n",
            "-rw-r--r-- 1 root root    177221 Aug 25 17:29 Copy_of_DN_best2_lr_changed.ipynb\n",
            "-rw-r--r-- 1 root root    194893 Aug 25 17:29 DN.ipynb\n",
            "-rw-r--r-- 1 root root    195874 Aug 25 17:29 DN_best2_lr_changed (1).ipynb\n",
            "-rw-r--r-- 1 root root     29800 Aug 25 17:29 FullDN_image_aug (2).ipynb\n",
            "-rw-r--r-- 1 root root     46954 Aug 25 17:29 FullDN_image_aug.ipynb\n",
            "-rw-r--r-- 1 root root     49829 Aug 25 17:29 LatestDN_image_aug.ipynb\n",
            "-rw-r--r-- 1 root root    195381 Aug 25 17:29 MDP_91_11_454_latestBest (1).ipynb\n",
            "-rw-r--r-- 1 root root    195381 Aug 25 17:29 MDP_91_11_454_latestBest.ipynb\n",
            "-rw-r--r-- 1 root root        18 Aug 25 17:29 README.md\n",
            "-rw-r--r-- 1 root root      8735 Aug 25 17:29 get_started_workspace.ipynb\n",
            "-rw-r--r-- 1 root root 153600128 Aug 25 17:47 img_aug_cutout_x.npy\n",
            "-rw-r--r-- 1 root root    400128 Aug 25 17:47 lables_cutout.npy\n",
            "-rw-r--r-- 1 root root    120993 Aug 25 17:43 model.png\n",
            "-rw-r--r-- 1 root root    288170 Aug 25 17:48 shake_drop_tf_combined_assignment14_3_best_3.ipynb\n",
            "-rw-r--r-- 1 root root     12381 Aug 25 17:49 train_32_1.tfrecord\n",
            "-rw-r--r-- 1 root root     12381 Aug 25 17:49 train_32_2.tfrecord\n",
            "-rw-r--r-- 1 root root     12381 Aug 25 17:49 train_32_3.tfrecord\n",
            "-rw-r--r-- 1 root root     12381 Aug 25 17:49 train_32_4.tfrecord\n",
            "-rw-r--r-- 1 root root     12381 Aug 25 17:49 train_32_5.tfrecord\n"
          ],
          "name": "stdout"
        }
      ]
    },
    {
      "cell_type": "code",
      "metadata": {
        "colab_type": "code",
        "id": "mlw1uMwcxaIf",
        "outputId": "b5576063-38a9-4236-9985-3160432330d3",
        "colab": {
          "base_uri": "https://localhost:8080/",
          "height": 466
        }
      },
      "source": [
        "!lscpu"
      ],
      "execution_count": 0,
      "outputs": [
        {
          "output_type": "stream",
          "text": [
            "Architecture:          x86_64\n",
            "CPU op-mode(s):        32-bit, 64-bit\n",
            "Byte Order:            Little Endian\n",
            "CPU(s):                8\n",
            "On-line CPU(s) list:   0-7\n",
            "Thread(s) per core:    2\n",
            "Core(s) per socket:    4\n",
            "Socket(s):             1\n",
            "NUMA node(s):          1\n",
            "Vendor ID:             GenuineIntel\n",
            "CPU family:            6\n",
            "Model:                 79\n",
            "Model name:            Intel(R) Xeon(R) CPU E5-2686 v4 @ 2.30GHz\n",
            "Stepping:              1\n",
            "CPU MHz:               2700.076\n",
            "CPU max MHz:           3000.0000\n",
            "CPU min MHz:           1200.0000\n",
            "BogoMIPS:              4600.12\n",
            "Hypervisor vendor:     Xen\n",
            "Virtualization type:   full\n",
            "L1d cache:             32K\n",
            "L1i cache:             32K\n",
            "L2 cache:              256K\n",
            "L3 cache:              46080K\n",
            "NUMA node0 CPU(s):     0-7\n",
            "Flags:                 fpu vme de pse tsc msr pae mce cx8 apic sep mtrr pge mca cmov pat pse36 clflush mmx fxsr sse sse2 ht syscall nx pdpe1gb rdtscp lm constant_tsc rep_good nopl xtopology nonstop_tsc cpuid aperfmperf pni pclmulqdq ssse3 fma cx16 pcid sse4_1 sse4_2 x2apic movbe popcnt tsc_deadline_timer aes xsave avx f16c rdrand hypervisor lahf_lm abm 3dnowprefetch cpuid_fault invpcid_single pti fsgsbase bmi1 hle avx2 smep bmi2 erms invpcid rtm rdseed adx xsaveopt\n"
          ],
          "name": "stdout"
        }
      ]
    },
    {
      "cell_type": "markdown",
      "metadata": {
        "colab_type": "text",
        "id": "59-XyxQmIspb"
      },
      "source": [
        "## Define Methods used for generating  model\n"
      ]
    },
    {
      "cell_type": "code",
      "metadata": {
        "colab_type": "code",
        "id": "3RY6GVu4Hs1e",
        "colab": {}
      },
      "source": [
        "class ShakeDrop(Layer):\n",
        "\n",
        "    def __init__(self,**kwargs):\n",
        "        \n",
        "        super(ShakeDrop, self).__init__(**kwargs)\n",
        "\n",
        "    def build(self, input_shape):\n",
        "       \n",
        "        super(ShakeDrop, self).build(input_shape)  # Be sure to call this at the end\n",
        "\n",
        "    def call(self, x):\n",
        "        print(x.shape)\n",
        "        #assert isinstance(x, list)\n",
        "        batch_size = K.shape(x)[0]\n",
        "        print(\"batch\",batch_size)\n",
        "        alpha = K.random_uniform((batch_size, 1, 1, 1))\n",
        "        beta = K.random_uniform((batch_size, 1, 1, 1))\n",
        "        \n",
        "        #prob = tf.ones(shape=[batch_size, 1, 1, 1])*0.5\n",
        "        bernoulli_dis = tf.distributions.Bernoulli(probs=0.5,dtype=tf.float32)\n",
        "        brv = bernoulli_dis.sample(sample_shape=(batch_size, 1, 1, 1))\n",
        "        \n",
        "        def x_shake():\n",
        "            x1 = x*(brv + beta - brv*beta ) + K.stop_gradient(x*(brv + alpha - brv*alpha ) - x*(brv + beta - brv*beta ))\n",
        "            print(x1.shape)\n",
        "            return x1\n",
        "        # even-even during testing phase\n",
        "        def x_even():\n",
        "            return 0.5 * x\n",
        "        return K.in_train_phase(x_shake, x_even)\n",
        "        \n",
        "        return K.dot(x, self.kernel)\n",
        "\n",
        "    def compute_output_shape(self, input_shape):\n",
        "        print(input_shape[3])\n",
        "        return input_shape\n",
        "      \n",
        "\n",
        " "
      ],
      "execution_count": 0,
      "outputs": []
    },
    {
      "cell_type": "code",
      "metadata": {
        "colab_type": "code",
        "id": "Q7QQn1UWrnmu",
        "colab": {}
      },
      "source": [
        "import tensorflow as tf\n",
        "def init_pytorch(shape, dtype=tf.float32, partition_info=None):\n",
        "  fan = np.prod(shape[:-1])\n",
        "  bound = 1 / math.sqrt(fan)\n",
        "  return tf.random.uniform(shape, minval=-bound, maxval=bound, dtype=dtype)\n",
        "\n",
        "def init_pytorch_reduced(shape, dtype=tf.float32, partition_info=None):\n",
        "  fan = np.prod(shape[:-1])\n",
        "  bound = 1 / math.sqrt(fan)\n",
        "  return 0.125*tf.random.uniform(shape, minval=-bound, maxval=bound, dtype=dtype)"
      ],
      "execution_count": 0,
      "outputs": []
    },
    {
      "cell_type": "code",
      "metadata": {
        "colab_type": "code",
        "id": "I2jfubSZD2pw",
        "colab": {}
      },
      "source": [
        "from __future__ import absolute_import\n",
        "from __future__ import division\n",
        "from __future__ import print_function\n",
        "\n",
        "import os\n",
        "import warnings\n",
        "\n",
        "\n",
        "\n",
        "def space_to_depth_2(x):\n",
        "    return tf.space_to_depth(x, block_size=2)\n",
        "\n",
        "\n",
        "def space_to_depth_4(x):\n",
        "    return tf.space_to_depth(x, block_size=4)\n",
        "\n",
        "def space_to_depth_8(x):\n",
        "    return tf.space_to_depth(x, block_size=8) \n",
        "  \n",
        "\n",
        "def conv_bn_block(input_tensor, kernel_size, l2_reg, use_separable=False ,activation_late = False):\n",
        "    if use_separable==False:\n",
        "        x = Conv2D(kernel_size, 3,\n",
        "                          padding=\"SAME\",\n",
        "                          kernel_initializer=init_pytorch_reduced,\n",
        "                          kernel_regularizer=l2_reg\n",
        "                         )(input_tensor)\n",
        "    else:\n",
        "        x = SeparableConvolution2D(kernel_size,3,\n",
        "                          border_mode='same',\n",
        "                          kernel_initializer=init_pytorch_reduced,\n",
        "                          kernel_regularizer=l2_reg\n",
        "                         )(input_tensor)\n",
        "    \n",
        "    #x = BatchNormalization(momentum=0.9, epsilon=1e-5)(x)\n",
        "    #x = SpatialDropout2D(0.2)(x)\n",
        "    #x = SpatialDropout2D(0.1)(x)\n",
        "    x = BatchNormalization(momentum=0.9, epsilon=1e-5)(x)\n",
        "    if activation_late:\n",
        "      return x\n",
        "    x = Activation('relu')(x)\n",
        "    #x = Activation('selu')(x)\n",
        "    return x\n",
        "  \n",
        "  \n",
        "def res_block(input_tensor, kernel_size, l2_reg, res=False, use_separable=False,activation_late=False):\n",
        "    \"\"\"This method is used for generating a convolution block for ENAS. This block will perform convolution operation on last layer,\n",
        "    followed by concatenation of skip connections. Finally concatenated blocks are convolved using 1x1 kernel to get the final output \n",
        "    # Arguments\n",
        "        input_tensor: input tensor\n",
        "        kernel_size:  the kernel size of convolution operation performed on input_tensor, which is the output from last layer\n",
        "        output_kerner_size: The size of kernels for output of the block. This is used in the final 1x1 layer\n",
        "        filters: a tuple of integers \n",
        "        layer_id: id of layer\n",
        "        use_separable: True if you want to use separable convolution, False otherwise\n",
        "        dropout_rate: Dropout rate\n",
        "    # Returns\n",
        "        Output tensor for the block.\n",
        "   \n",
        "    \"\"\"         \n",
        "    #print(\"S1: input_tensor shape= \" + str(tf.shape(input_tensor.shape)))\n",
        "     \n",
        "    x1 = conv_bn_block(input_tensor, kernel_size, l2_reg, use_separable,activation_late)\n",
        "    \n",
        "      \n",
        "    x1 = MaxPooling2D(pool_size=(2, 2))(x1)\n",
        "    if activation_late:\n",
        "      x1 = Activation('relu')(x1)\n",
        "      #x1 = Activation('selu')(x1)\n",
        "    if res:\n",
        "        x2 = conv_bn_block(x1, kernel_size, l2_reg, use_separable,False)\n",
        "        x2 = conv_bn_block(x2, kernel_size, l2_reg, use_separable,False)\n",
        "        x2 = ShakeDrop()(x2)\n",
        "        #x1 = Add()([x1, x2])\n",
        "        x1 = Concatenate(axis=-1)([x1, x2])\n",
        "                \n",
        "                \n",
        "\n",
        "    \n",
        "    return x1  \n",
        "    \n",
        "\n",
        "    \n",
        "  \n",
        "     \n",
        " "
      ],
      "execution_count": 0,
      "outputs": []
    },
    {
      "cell_type": "code",
      "metadata": {
        "colab_type": "code",
        "id": "bD5wJkyuqw9i",
        "colab": {}
      },
      "source": [
        ""
      ],
      "execution_count": 0,
      "outputs": []
    },
    {
      "cell_type": "markdown",
      "metadata": {
        "colab_type": "text",
        "id": "aH5_puiFU6fC"
      },
      "source": [
        "## Define the model\n",
        "\n",
        "- Define the model using the ENAS convolution and transition blocks\n",
        "- Use 1x1 convolution to reduce number of channels to number of classes\n",
        "- Use Global Average Pooling\n",
        "- Use softmax for prediction"
      ]
    },
    {
      "cell_type": "code",
      "metadata": {
        "colab_type": "code",
        "id": "GraGY_clp-wa",
        "outputId": "d104321c-77cf-4f76-c7a2-d3357339ea6e",
        "colab": {
          "base_uri": "https://localhost:8080/",
          "height": 269
        }
      },
      "source": [
        "# Define the model\n",
        "import math\n",
        "\n",
        "\n",
        "c=32\n",
        "weight=0.125\n",
        "l2_reg = l2(0.0005)\n",
        "# Define the input dimensions 32x32x3\n",
        "input = Input(shape=(None, None, 3))\n",
        "\n",
        "pre_layer = conv_bn_block(input, c, l2_reg)\n",
        "\n",
        "# Define layer1: Perform separable 5x5 convolution on the last layer\n",
        "res_layer1 = res_block(pre_layer, c*2, l2_reg, True, use_separable=False,activation_late=True) \n",
        "res_layer2 = res_block(res_layer1, c*4, l2_reg, False, use_separable=False,activation_late=True)\n",
        "res_layer3 = res_block(res_layer2, c*8, l2_reg, True, use_separable=False,activation_late=True) \n",
        "\n",
        "conv_1 = Conv2D(10, 1, padding=\"SAME\",  kernel_initializer=init_pytorch_reduced,  kernel_regularizer=l2_reg)(res_layer3)\n",
        "\n",
        "# layer16: Perform Global Average pooling on layer15\n",
        "pool_layer = GlobalMaxPool2D()(conv_1)\n",
        "#linear = Flatten()(pool_layer)\n",
        "#linear = Dense(10, kernel_initializer=init_pytorch, use_bias=False)(pool_layer)\n",
        "#linear = np.multiply(linear,weight)\n",
        "\n",
        "\n",
        "# Apply softmax activation on the model\n",
        "outputs = Activation('softmax')(pool_layer)"
      ],
      "execution_count": 0,
      "outputs": [
        {
          "output_type": "stream",
          "text": [
            "(?, ?, ?, 64)\n",
            "batch Tensor(\"shake_drop_2/strided_slice:0\", shape=(), dtype=int32)\n",
            "(?, ?, ?, 64)\n",
            "(?, ?, ?, 256)\n",
            "batch Tensor(\"shake_drop_3/strided_slice:0\", shape=(), dtype=int32)\n",
            "(?, ?, ?, 256)\n"
          ],
          "name": "stdout"
        }
      ]
    },
    {
      "cell_type": "markdown",
      "metadata": {
        "colab_type": "text",
        "id": "WUzP5RrXduZf"
      },
      "source": [
        "## Get and Summarize the Model"
      ]
    },
    {
      "cell_type": "markdown",
      "metadata": {
        "colab_type": "text",
        "id": "5KvHg0uyU3UK"
      },
      "source": [
        ""
      ]
    },
    {
      "cell_type": "code",
      "metadata": {
        "colab_type": "code",
        "id": "_-1DTXjI9AWt",
        "outputId": "4620153b-5c62-4560-be95-1049f7a24431",
        "colab": {
          "base_uri": "https://localhost:8080/",
          "height": 1000
        }
      },
      "source": [
        "model = Model(inputs=[input], outputs=[outputs])\n",
        "model.summary()"
      ],
      "execution_count": 0,
      "outputs": [
        {
          "output_type": "stream",
          "text": [
            "__________________________________________________________________________________________________\n",
            "Layer (type)                    Output Shape         Param #     Connected to                     \n",
            "==================================================================================================\n",
            "input_2 (InputLayer)            (None, None, None, 3 0                                            \n",
            "__________________________________________________________________________________________________\n",
            "conv2d_9 (Conv2D)               (None, None, None, 3 896         input_2[0][0]                    \n",
            "__________________________________________________________________________________________________\n",
            "batch_normalization_v1_8 (Batch (None, None, None, 3 128         conv2d_9[0][0]                   \n",
            "__________________________________________________________________________________________________\n",
            "activation_9 (Activation)       (None, None, None, 3 0           batch_normalization_v1_8[0][0]   \n",
            "__________________________________________________________________________________________________\n",
            "conv2d_10 (Conv2D)              (None, None, None, 6 18496       activation_9[0][0]               \n",
            "__________________________________________________________________________________________________\n",
            "batch_normalization_v1_9 (Batch (None, None, None, 6 256         conv2d_10[0][0]                  \n",
            "__________________________________________________________________________________________________\n",
            "max_pooling2d_3 (MaxPooling2D)  (None, None, None, 6 0           batch_normalization_v1_9[0][0]   \n",
            "__________________________________________________________________________________________________\n",
            "activation_10 (Activation)      (None, None, None, 6 0           max_pooling2d_3[0][0]            \n",
            "__________________________________________________________________________________________________\n",
            "conv2d_11 (Conv2D)              (None, None, None, 6 36928       activation_10[0][0]              \n",
            "__________________________________________________________________________________________________\n",
            "batch_normalization_v1_10 (Batc (None, None, None, 6 256         conv2d_11[0][0]                  \n",
            "__________________________________________________________________________________________________\n",
            "activation_11 (Activation)      (None, None, None, 6 0           batch_normalization_v1_10[0][0]  \n",
            "__________________________________________________________________________________________________\n",
            "conv2d_12 (Conv2D)              (None, None, None, 6 36928       activation_11[0][0]              \n",
            "__________________________________________________________________________________________________\n",
            "batch_normalization_v1_11 (Batc (None, None, None, 6 256         conv2d_12[0][0]                  \n",
            "__________________________________________________________________________________________________\n",
            "activation_12 (Activation)      (None, None, None, 6 0           batch_normalization_v1_11[0][0]  \n",
            "__________________________________________________________________________________________________\n",
            "shake_drop_2 (ShakeDrop)        (None, None, None, 6 0           activation_12[0][0]              \n",
            "__________________________________________________________________________________________________\n",
            "concatenate_2 (Concatenate)     (None, None, None, 1 0           activation_10[0][0]              \n",
            "                                                                 shake_drop_2[0][0]               \n",
            "__________________________________________________________________________________________________\n",
            "conv2d_13 (Conv2D)              (None, None, None, 1 147584      concatenate_2[0][0]              \n",
            "__________________________________________________________________________________________________\n",
            "batch_normalization_v1_12 (Batc (None, None, None, 1 512         conv2d_13[0][0]                  \n",
            "__________________________________________________________________________________________________\n",
            "max_pooling2d_4 (MaxPooling2D)  (None, None, None, 1 0           batch_normalization_v1_12[0][0]  \n",
            "__________________________________________________________________________________________________\n",
            "activation_13 (Activation)      (None, None, None, 1 0           max_pooling2d_4[0][0]            \n",
            "__________________________________________________________________________________________________\n",
            "conv2d_14 (Conv2D)              (None, None, None, 2 295168      activation_13[0][0]              \n",
            "__________________________________________________________________________________________________\n",
            "batch_normalization_v1_13 (Batc (None, None, None, 2 1024        conv2d_14[0][0]                  \n",
            "__________________________________________________________________________________________________\n",
            "max_pooling2d_5 (MaxPooling2D)  (None, None, None, 2 0           batch_normalization_v1_13[0][0]  \n",
            "__________________________________________________________________________________________________\n",
            "activation_14 (Activation)      (None, None, None, 2 0           max_pooling2d_5[0][0]            \n",
            "__________________________________________________________________________________________________\n",
            "conv2d_15 (Conv2D)              (None, None, None, 2 590080      activation_14[0][0]              \n",
            "__________________________________________________________________________________________________\n",
            "batch_normalization_v1_14 (Batc (None, None, None, 2 1024        conv2d_15[0][0]                  \n",
            "__________________________________________________________________________________________________\n",
            "activation_15 (Activation)      (None, None, None, 2 0           batch_normalization_v1_14[0][0]  \n",
            "__________________________________________________________________________________________________\n",
            "conv2d_16 (Conv2D)              (None, None, None, 2 590080      activation_15[0][0]              \n",
            "__________________________________________________________________________________________________\n",
            "batch_normalization_v1_15 (Batc (None, None, None, 2 1024        conv2d_16[0][0]                  \n",
            "__________________________________________________________________________________________________\n",
            "activation_16 (Activation)      (None, None, None, 2 0           batch_normalization_v1_15[0][0]  \n",
            "__________________________________________________________________________________________________\n",
            "shake_drop_3 (ShakeDrop)        (None, None, None, 2 0           activation_16[0][0]              \n",
            "__________________________________________________________________________________________________\n",
            "concatenate_3 (Concatenate)     (None, None, None, 5 0           activation_14[0][0]              \n",
            "                                                                 shake_drop_3[0][0]               \n",
            "__________________________________________________________________________________________________\n",
            "conv2d_17 (Conv2D)              (None, None, None, 1 5130        concatenate_3[0][0]              \n",
            "__________________________________________________________________________________________________\n",
            "global_max_pooling2d_1 (GlobalM (None, 10)           0           conv2d_17[0][0]                  \n",
            "__________________________________________________________________________________________________\n",
            "activation_17 (Activation)      (None, 10)           0           global_max_pooling2d_1[0][0]     \n",
            "==================================================================================================\n",
            "Total params: 1,725,770\n",
            "Trainable params: 1,723,530\n",
            "Non-trainable params: 2,240\n",
            "__________________________________________________________________________________________________\n"
          ],
          "name": "stdout"
        }
      ]
    },
    {
      "cell_type": "markdown",
      "metadata": {
        "colab_type": "text",
        "id": "OlCZiJ1WeGFW"
      },
      "source": [
        "## Visually Display the model"
      ]
    },
    {
      "cell_type": "code",
      "metadata": {
        "colab_type": "code",
        "id": "qw4Xm-YHoOJ_",
        "outputId": "d24aa8c5-3258-4801-c91f-747434f877c4",
        "colab": {
          "base_uri": "https://localhost:8080/",
          "height": 1000
        }
      },
      "source": [
        "from tensorflow.keras.utils import plot_model\n",
        "from IPython.display import Image\n",
        "\n",
        "plot_model(model, to_file='model.png')\n",
        "Image(filename='model.png') "
      ],
      "execution_count": 0,
      "outputs": [
        {
          "output_type": "execute_result",
          "data": {
            "image/png": "[encoded data removed]",
            "text/plain": [
              "<IPython.core.display.Image object>"
            ]
          },
          "metadata": {
            "tags": []
          },
          "execution_count": 24
        }
      ]
    },
    {
      "cell_type": "markdown",
      "metadata": {
        "colab_type": "text",
        "id": "9hyYItePeR8M"
      },
      "source": [
        "## Compile the Model"
      ]
    },
    {
      "cell_type": "code",
      "metadata": {
        "colab_type": "code",
        "id": "uoteIUqkGQ2k",
        "colab": {}
      },
      "source": [
        "# Compile the model\n",
        "\n",
        "sgd = optimizers.SGD(lr=0.01, decay=1e-5, momentum=0.9, nesterov=True)\n",
        "\n",
        "model.compile(optimizer=sgd, loss='categorical_crossentropy', metrics=['accuracy'])\n"
      ],
      "execution_count": 0,
      "outputs": []
    },
    {
      "cell_type": "code",
      "metadata": {
        "colab_type": "code",
        "id": "Jp-jxayFe8h6",
        "colab": {}
      },
      "source": [
        "def get_random_eraser(p=0.5, s_l=0.02, s_h=0.4, r_1=0.3, r_2=1/0.3, v_l=0, v_h=255, pixel_level=False):\n",
        "    def eraser(input_img):\n",
        "        img_h, img_w, img_c = input_img.shape\n",
        "        p_1 = np.random.rand()\n",
        "\n",
        "        if p_1 > p:\n",
        "            return input_img\n",
        "\n",
        "        while True:\n",
        "            s = np.random.uniform(s_l, s_h) * img_h * img_w\n",
        "            r = np.random.uniform(r_1, r_2)\n",
        "            w = int(np.sqrt(s / r))\n",
        "            h = int(np.sqrt(s * r))\n",
        "            left = np.random.randint(0, img_w)\n",
        "            top = np.random.randint(0, img_h)\n",
        "\n",
        "            if left + w <= img_w and top + h <= img_h:\n",
        "                break\n",
        "\n",
        "        if pixel_level:\n",
        "            c = np.random.uniform(v_l, v_h, (h, w, img_c))\n",
        "        else:\n",
        "            c = np.random.uniform(v_l, v_h)\n",
        "\n",
        "        input_img[top:top + h, left:left + w, :] = c\n",
        "\n",
        "        return input_img\n",
        "\n",
        "    return eraser"
      ],
      "execution_count": 0,
      "outputs": []
    },
    {
      "cell_type": "markdown",
      "metadata": {
        "colab_type": "text",
        "id": "6pUulK7DedEx"
      },
      "source": [
        "## Train the Model and get the Metrics (Accuracy, Loss) and Plot the model history\n",
        "\n",
        "* Define callback to save the best model in each epoch\n",
        "* Train the model using fit_generator method\n",
        "* Plot the model history\n",
        "* Load the best model and get the accuracy on test data"
      ]
    },
    {
      "cell_type": "code",
      "metadata": {
        "colab_type": "code",
        "id": "9eXJ5FWW2Pz-",
        "colab": {}
      },
      "source": [
        "def get_class_prediction_count(model, x_test, test_labels):\n",
        "    predict_class = model.predict(x_test)\n",
        "    class_prediction_count = {0:0,1:0,2:0,3:0,4:0,5:0,6:0,7:0,8:0,9:0}\n",
        "    test_labels_list = test_labels.reshape(test_labels.shape[0]).tolist() \n",
        "    for i,label in enumerate(test_labels_list):\n",
        "        if np.argmax(predict_class[i]) == label:\n",
        "            class_prediction_count[label] += 1\n",
        "    return class_prediction_count\n",
        "\n",
        "def get_class_weights(dict_labels_vs_samples, balanced=True):\n",
        "  # param dict_labels_vs_samples: dict of 'label' vs. 'number of correct predictions'\n",
        "  # param balanced: if True, will produce class weights considering max samples count - % of augmented images per class will be proportional to max count of samples \n",
        "  # param balanced: if False, will produce class weights considering average samples count - % of aumented images per class will be proportional to avg samples of classes\n",
        "  \n",
        "  if not len(dict_labels_vs_samples) == 0:\n",
        "    print('WARNING: dict passed is NOT of length 200 - meaning not all 200 classes are included in the dict')\n",
        "    \n",
        "  keys = dict_labels_vs_samples.keys()\n",
        "  values = list(dict_labels_vs_samples.values())\n",
        "  total_samples = sum(values)\n",
        "  num_classes = len(values)\n",
        "  max_of_all_classes = max(values)\n",
        "  average_of_all_classes = total_samples / num_classes\n",
        "  multiplying_factor = 1\n",
        "  \n",
        "  if balanced:\n",
        "    multiplying_factor = max_of_all_classes / average_of_all_classes\n",
        "  \n",
        "  print('total_samples: ', total_samples)\n",
        "  print('num_classes: ', num_classes)\n",
        "  print('max_of_all_classes: ', max_of_all_classes)\n",
        "  print('multiplying_factor: ', multiplying_factor)\n",
        "  \n",
        "  class_weight = dict()\n",
        "\n",
        "  for key in keys:\n",
        "        num_correct_pred = int(dict_labels_vs_samples.get(key))\n",
        "        if num_correct_pred == 0:\n",
        "          num_correct_pred = 1 # this is to avoid divide by zero error, if a class has no correct predictions\n",
        "        score_for_class = (total_samples / (num_classes * num_correct_pred)) * multiplying_factor\n",
        "        class_weight[key] = score_for_class\n",
        "        \n",
        "  return class_weight\n",
        "            "
      ],
      "execution_count": 0,
      "outputs": []
    },
    {
      "cell_type": "code",
      "metadata": {
        "colab_type": "code",
        "id": "7Gc9NPxd9SXu",
        "colab": {}
      },
      "source": [
        "from tensorflow.keras.preprocessing.image import ImageDataGenerator\n",
        "from tensorflow.keras.callbacks import ModelCheckpoint\n",
        "from tensorflow.keras.callbacks import LearningRateScheduler\n",
        "from tensorflow.keras.callbacks import Callback\n",
        "\n",
        "EPOCHS=24\n",
        "LEARNING_RATE=0.4\n",
        "BATCH_SIZE=512\n",
        "iteration = 1\n",
        "lr_schedule = lambda t: np.interp([t], [0, 5, EPOCHS-7, EPOCHS], [0, LEARNING_RATE, 0.12, 0])[0]\n",
        "#lr_func = lambda: lr_schedule(global_step/batches_per_epoch)/BATCH_SIZE\n",
        "lr_func = lambda it: lr_schedule(it * BATCH_SIZE/50176)\n",
        "\n",
        "class OneCycleLR(Callback):\n",
        "    \n",
        "    def __init__(self):\n",
        "        global iteration          \n",
        "        super(OneCycleLR, self).__init__()\n",
        "        self.initial_lr = lr_func(iteration)\n",
        "        self.current_lr = self.initial_lr          \n",
        "        \n",
        "    def on_train_begin(self, logs={}):\n",
        "        global iteration\n",
        "        logs = logs or {}\n",
        "        self.current_lr = lr_func(iteration)     \n",
        "        K.set_value(self.model.optimizer.lr, self.current_lr)\n",
        "        \n",
        "    def on_epoch_begin(self, epoch, logs={}):\n",
        "        global iteration\n",
        "        logs = logs or {}\n",
        "        self.current_lr = lr_func(iteration)     \n",
        "        K.set_value(self.model.optimizer.lr, self.current_lr)\n",
        "        #print('For epoch: {},  iteration: {}, lr: {}'.format(epoch, iteration, self.current_lr ))\n",
        "        K.set_value(self.model.optimizer.lr, self.current_lr)\n",
        "        \n",
        "        \n",
        "    def on_batch_begin(self, epoch, logs={}):\n",
        "        global iteration\n",
        "        logs = logs or {}\n",
        "        self.current_lr = lr_func(iteration)     \n",
        "        K.set_value(self.model.optimizer.lr, self.current_lr)\n",
        "        #print('For iteration: {}, lr: {}'.format(iteration, self.current_lr ))\n",
        "           \n",
        "            \n",
        "    def on_batch_end(self, epoch, logs=None): \n",
        "        global iteration\n",
        "        logs = logs or {}\n",
        "        iteration += 1\n",
        "         \n",
        "\n",
        "\n",
        "\n",
        "def scheduler(epoch, lr):\n",
        "  return lr_schedule(epoch+1)\n",
        "\n",
        "callbacks_list=[]\n",
        "\n",
        "\n",
        "datagen = ImageDataGenerator(zoom_range=0.0, \n",
        "                             horizontal_flip=False)\n",
        "\n",
        "\n",
        "\n",
        "\n",
        "callbacks_list=[]\n",
        "callbacks_list.append(OneCycleLR())\n",
        "\n",
        "\n",
        "\n",
        "\n"
      ],
      "execution_count": 0,
      "outputs": []
    },
    {
      "cell_type": "code",
      "metadata": {
        "colab_type": "code",
        "id": "VJqnSqKDC6Uf",
        "outputId": "b848d8ab-42d4-47ee-876d-125465a33606",
        "colab": {
          "base_uri": "https://localhost:8080/",
          "height": 1000
        }
      },
      "source": [
        "# train the model\n",
        "start = time.time()\n",
        "\n",
        "model_info = model.fit_generator(datagen.flow(x_train_16, y_train, batch_size = 512, shuffle=True, seed=72 ),\n",
        "                                steps_per_epoch = 98, epochs = 2, \n",
        "                                 verbose=1, callbacks=callbacks_list)\n",
        "\n",
        "\n",
        "\n",
        "model_info = model.fit_generator(datagen.flow(x_train_24, y_train, batch_size = 512, shuffle=True, seed=85 ),\n",
        "                                steps_per_epoch = 98, epochs = 6, \n",
        "                                 verbose=1, callbacks=callbacks_list)\n",
        "\n",
        "model_info = model.fit_generator(datagen.flow(x_train_aug1, y_train_aug1, batch_size = 512, shuffle=True, seed=6 ),\n",
        "                                steps_per_epoch = 98, epochs = 3, \n",
        "                                verbose=1, callbacks=callbacks_list)\n",
        "\n",
        "\n",
        "\n",
        "model_info = model.fit_generator(datagen.flow(x_train_aug2, y_train_aug2, batch_size = 512, shuffle=True, seed=95 ),\n",
        "                                steps_per_epoch = 98, epochs = 3, \n",
        "                                 verbose=1, callbacks=callbacks_list)\n",
        "\n",
        "class_prediction_count = get_class_prediction_count(model, x_test, test_labels)\n",
        "class_weights = get_class_weights(class_prediction_count)\n",
        "\n",
        "model_info = model.fit_generator(datagen.flow(x_train, y_train, batch_size = 512, shuffle=True, seed=55 ),\n",
        "                                steps_per_epoch = 98, epochs = 3,  \n",
        "                                verbose=1, callbacks=callbacks_list, class_weight=class_weights)\n",
        "\n",
        "class_prediction_count = get_class_prediction_count(model, x_test, test_labels)\n",
        "class_weights = get_class_weights(class_prediction_count)\n",
        "\n",
        "model_info = model.fit_generator(datagen.flow(x_train, y_train, batch_size = 512, shuffle=True, seed=47 ),\n",
        "                                steps_per_epoch = 98, epochs = 3,  \n",
        "                                 verbose=1, callbacks=callbacks_list, class_weight=class_weights)\n",
        "\n",
        "\n",
        "model_info = model.fit_generator(datagen.flow(x_train, y_train, batch_size = 512, shuffle=True, seed=59 ),\n",
        "                                steps_per_epoch = 98, epochs = 4,  \n",
        "                                validation_data = (x_test, y_test), verbose=1, callbacks=callbacks_list, class_weight=class_weights)\n",
        "\n",
        "\n",
        "\n",
        "\n",
        "end = time.time()\n",
        "print (\"Model took %0.2f seconds to train\"%(end - start))\n",
        "# plot model history\n",
        "#plot_model_history(model_info)\n",
        "\n"
      ],
      "execution_count": 0,
      "outputs": [
        {
          "output_type": "stream",
          "text": [
            "WARNING:tensorflow:From /usr/local/lib/python3.6/site-packages/tensorflow/python/ops/math_ops.py:3066: to_int32 (from tensorflow.python.ops.math_ops) is deprecated and will be removed in a future version.\n",
            "Instructions for updating:\n",
            "Use tf.cast instead.\n",
            "WARNING:tensorflow:From /usr/local/lib/python3.6/site-packages/tensorflow/python/ops/math_grad.py:102: div (from tensorflow.python.ops.math_ops) is deprecated and will be removed in a future version.\n",
            "Instructions for updating:\n",
            "Deprecated in favor of operator or tf.math.divide.\n",
            "Epoch 1/2\n",
            "98/98 [==============================] - 5s 51ms/step - loss: 1.6793 - acc: 0.3950\n",
            "Epoch 2/2\n",
            "98/98 [==============================] - 2s 20ms/step - loss: 1.2140 - acc: 0.5855\n",
            "Epoch 1/6\n",
            "98/98 [==============================] - 4s 37ms/step - loss: 1.0972 - acc: 0.6599\n",
            "Epoch 2/6\n",
            "98/98 [==============================] - 3s 32ms/step - loss: 0.9546 - acc: 0.7365\n",
            "Epoch 3/6\n",
            "98/98 [==============================] - 3s 31ms/step - loss: 0.9551 - acc: 0.7626\n",
            "Epoch 4/6\n",
            "98/98 [==============================] - 3s 31ms/step - loss: 0.9619 - acc: 0.7849\n",
            "Epoch 5/6\n",
            "98/98 [==============================] - 3s 32ms/step - loss: 0.9092 - acc: 0.8132\n",
            "Epoch 6/6\n",
            "98/98 [==============================] - 3s 32ms/step - loss: 0.8866 - acc: 0.8275\n",
            "Epoch 1/3\n",
            "98/98 [==============================] - 5s 50ms/step - loss: 1.2315 - acc: 0.7246\n",
            "Epoch 2/3\n",
            "98/98 [==============================] - 4s 42ms/step - loss: 1.0374 - acc: 0.7927\n",
            "Epoch 3/3\n",
            "98/98 [==============================] - 4s 41ms/step - loss: 0.9722 - acc: 0.8159\n",
            "Epoch 1/3\n",
            "98/98 [==============================] - 4s 42ms/step - loss: 0.9958 - acc: 0.8136\n",
            "Epoch 2/3\n",
            "98/98 [==============================] - 4s 41ms/step - loss: 0.9071 - acc: 0.8426\n",
            "Epoch 3/3\n",
            "98/98 [==============================] - 4s 42ms/step - loss: 0.8514 - acc: 0.8636\n",
            "WARNING: dict passed is NOT of length 200 - meaning not all 200 classes are included in the dict\n",
            "total_samples:  7887\n",
            "num_classes:  10\n",
            "max_of_all_classes:  943\n",
            "multiplying_factor:  1.1956383922911118\n",
            "Epoch 1/3\n",
            "98/98 [==============================] - 5s 52ms/step - loss: 0.8219 - acc: 0.8782\n",
            "Epoch 2/3\n",
            "98/98 [==============================] - 4s 43ms/step - loss: 0.7195 - acc: 0.9040\n",
            "Epoch 3/3\n",
            "98/98 [==============================] - 4s 43ms/step - loss: 0.6558 - acc: 0.9211\n",
            "WARNING: dict passed is NOT of length 200 - meaning not all 200 classes are included in the dict\n",
            "total_samples:  8202\n",
            "num_classes:  10\n",
            "max_of_all_classes:  968\n",
            "multiplying_factor:  1.180199951231407\n",
            "Epoch 1/3\n",
            "98/98 [==============================] - 4s 42ms/step - loss: 0.5992 - acc: 0.9350\n",
            "Epoch 2/3\n",
            "98/98 [==============================] - 4s 43ms/step - loss: 0.5582 - acc: 0.9464\n",
            "Epoch 3/3\n",
            "98/98 [==============================] - 4s 43ms/step - loss: 0.4884 - acc: 0.9638\n",
            "Epoch 1/4\n",
            "10000/10000 [==============================] - 1s 71us/sample - loss: 0.7954 - acc: 0.8669\n",
            "98/98 [==============================] - 5s 49ms/step - loss: 0.4493 - acc: 0.9719 - val_loss: 0.7966 - val_acc: 0.8669\n",
            "Epoch 2/4\n",
            "10000/10000 [==============================] - 0s 34us/sample - loss: 0.7934 - acc: 0.8726\n",
            "98/98 [==============================] - 4s 46ms/step - loss: 0.3982 - acc: 0.9830 - val_loss: 0.7957 - val_acc: 0.8726\n",
            "Epoch 3/4\n",
            "10000/10000 [==============================] - 0s 36us/sample - loss: 0.7664 - acc: 0.8815\n",
            "98/98 [==============================] - 5s 46ms/step - loss: 0.3558 - acc: 0.9918 - val_loss: 0.7668 - val_acc: 0.8815\n",
            "Epoch 4/4\n",
            "10000/10000 [==============================] - 0s 37us/sample - loss: 0.7509 - acc: 0.8870\n",
            "98/98 [==============================] - 5s 46ms/step - loss: 0.3334 - acc: 0.9964 - val_loss: 0.7514 - val_acc: 0.8870\n",
            "Model took 101.49 seconds to train\n"
          ],
          "name": "stdout"
        }
      ]
    },
    {
      "cell_type": "markdown",
      "metadata": {
        "colab_type": "text",
        "id": "EJJNcBevhZIT"
      },
      "source": [
        "## Observation:\n",
        "\n",
        " "
      ]
    }
  ]
}