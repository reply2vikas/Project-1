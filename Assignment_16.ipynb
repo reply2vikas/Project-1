{
  "nbformat": 4,
  "nbformat_minor": 0,
  "metadata": {
    "colab": {
      "name": "Assignment_16.ipynb",
      "provenance": [],
      "include_colab_link": true
    },
    "kernelspec": {
      "name": "python3",
      "display_name": "Python 3"
    },
    "accelerator": "GPU"
  },
  "cells": [
    {
      "cell_type": "markdown",
      "metadata": {
        "id": "view-in-github",
        "colab_type": "text"
      },
      "source": [
        "<a href=\"https://colab.research.google.com/github/reply2vikas/Project-1/blob/master/Assignment_16.ipynb\" target=\"_parent\"><img src=\"https://colab.research.google.com/assets/colab-badge.svg\" alt=\"Open In Colab\"/></a>"
      ]
    },
    {
      "cell_type": "code",
      "metadata": {
        "id": "KvRaBi3criJy",
        "colab_type": "code",
        "outputId": "7426f6e4-52de-49d2-de22-8eb6860ee313",
        "colab": {
          "base_uri": "https://localhost:8080/",
          "height": 34
        }
      },
      "source": [
        "%tensorflow_version 1.x\n",
        "import tensorflow as tf\n",
        "print(tf.__version__)"
      ],
      "execution_count": 0,
      "outputs": [
        {
          "output_type": "stream",
          "text": [
            "1.15.0\n"
          ],
          "name": "stdout"
        }
      ]
    },
    {
      "cell_type": "code",
      "metadata": {
        "id": "Chk65VJltM28",
        "colab_type": "code",
        "colab": {}
      },
      "source": [
        "from tensorflow.keras.datasets import cifar10\n",
        "import sys\n",
        "from tensorflow.keras import layers"
      ],
      "execution_count": 0,
      "outputs": []
    },
    {
      "cell_type": "code",
      "metadata": {
        "id": "kveorVzvtPgq",
        "colab_type": "code",
        "colab": {}
      },
      "source": [
        "(x_train, y_train), (x_test, y_test) = cifar10.load_data()"
      ],
      "execution_count": 0,
      "outputs": []
    },
    {
      "cell_type": "code",
      "metadata": {
        "id": "_s9afruMtbiK",
        "colab_type": "code",
        "colab": {}
      },
      "source": [
        "img_height, img_width, channel = x_train.shape[1],x_train.shape[2],x_train.shape[3]"
      ],
      "execution_count": 0,
      "outputs": []
    },
    {
      "cell_type": "code",
      "metadata": {
        "id": "KAPjmMUQtiuD",
        "colab_type": "code",
        "colab": {}
      },
      "source": [
        "class TFRecords:   \n",
        "#   def __init__(self, out_filename, images, labels):\n",
        "#     self.out_filename = out_filename\n",
        "#     self.images = images\n",
        "#     self.labels = labels\n",
        "\n",
        "  def _int64_feature(self, value):\n",
        "    return tf.train.Feature(int64_list=tf.train.Int64List(value=[value]))\n",
        "\n",
        "  def _bytes_feature(self, value):\n",
        "    return tf.train.Feature(bytes_list=tf.train.BytesList(value=[value]))\n",
        "    \n",
        "  def createDataRecord(self, out_filename, images, labels):\n",
        "\n",
        "    writer = tf.io.TFRecordWriter(out_filename)\n",
        "\n",
        "    for i in range(len(images)):\n",
        "      feature = {\n",
        "          'image_raw': self._bytes_feature(images[i].tostring()),\n",
        "          'label': self._int64_feature(labels[i])\n",
        "      }\n",
        "\n",
        "      example = tf.train.Example(features=tf.train.Features(feature=feature))\n",
        "\n",
        "      writer.write(example.SerializeToString())\n",
        "\n",
        "    writer.close()\n",
        "    sys.stdout.flush()"
      ],
      "execution_count": 0,
      "outputs": []
    },
    {
      "cell_type": "code",
      "metadata": {
        "id": "qrOEJHOUtlTY",
        "colab_type": "code",
        "colab": {}
      },
      "source": [
        "# Instantite the class\n",
        "tfRecords = TFRecords()"
      ],
      "execution_count": 0,
      "outputs": []
    },
    {
      "cell_type": "code",
      "metadata": {
        "id": "M2sa0h_3tq0I",
        "colab_type": "code",
        "colab": {}
      },
      "source": [
        "tfRecords.createDataRecord('train.tfrecords', x_train, y_train)"
      ],
      "execution_count": 0,
      "outputs": []
    },
    {
      "cell_type": "code",
      "metadata": {
        "id": "ksNOnvN-ttpX",
        "colab_type": "code",
        "colab": {}
      },
      "source": [
        "tfRecords.createDataRecord('test.tfrecords', x_test, y_test)"
      ],
      "execution_count": 0,
      "outputs": []
    },
    {
      "cell_type": "code",
      "metadata": {
        "id": "s14ctqHutww_",
        "colab_type": "code",
        "outputId": "e8131098-7493-4605-fb39-5211f6ea5baa",
        "colab": {
          "base_uri": "https://localhost:8080/",
          "height": 34
        }
      },
      "source": [
        "!ls"
      ],
      "execution_count": 0,
      "outputs": [
        {
          "output_type": "stream",
          "text": [
            "sample_data  test.tfrecords  train.tfrecords\n"
          ],
          "name": "stdout"
        }
      ]
    },
    {
      "cell_type": "code",
      "metadata": {
        "id": "htf5p66Vt0lS",
        "colab_type": "code",
        "colab": {}
      },
      "source": [
        "# Hyperparameters\n",
        "batch_size = 128\n",
        "num_classes = 10\n",
        "epochs = 50\n",
        "l = 5\n",
        "num_filter = 22\n",
        "compression = 0.5\n",
        "dropout_rate = 0.2"
      ],
      "execution_count": 0,
      "outputs": []
    },
    {
      "cell_type": "code",
      "metadata": {
        "id": "PqIGZ5fgt3wX",
        "colab_type": "code",
        "colab": {}
      },
      "source": [
        "# Dense Block\n",
        "def add_denseblock(input, num_filter = 22, dropout_rate = 0.2):\n",
        "    global compression\n",
        "    temp = input\n",
        "    for _ in range(5):\n",
        "        BatchNorm = layers.BatchNormalization()(temp)\n",
        "        relu = layers.Activation('relu')(BatchNorm)\n",
        "        Conv2D_3_3 = layers.Conv2D(int(num_filter), (3,3), use_bias=False ,padding='same')(relu)\n",
        "        if dropout_rate>0:\n",
        "          Conv2D_3_3 = layers.Dropout(dropout_rate)(Conv2D_3_3)\n",
        "        concat = layers.Concatenate(axis=-1)([temp,Conv2D_3_3])\n",
        "        \n",
        "        temp = concat\n",
        "        \n",
        "    return temp"
      ],
      "execution_count": 0,
      "outputs": []
    },
    {
      "cell_type": "code",
      "metadata": {
        "id": "hNSl9E3pt7As",
        "colab_type": "code",
        "colab": {}
      },
      "source": [
        "def add_transition(input, num_filter = 22, dropout_rate = 0.2):\n",
        "    global compression\n",
        "    BatchNorm = layers.BatchNormalization()(input)\n",
        "    relu = layers.Activation('relu')(BatchNorm)\n",
        "    Conv2D_BottleNeck = layers.Conv2D(int(num_filter*compression), (1,1), use_bias=False ,padding='same')(relu)\n",
        "    if dropout_rate>0:\n",
        "      Conv2D_BottleNeck = layers.Dropout(dropout_rate)(Conv2D_BottleNeck)\n",
        "    avg = layers.AveragePooling2D(pool_size=(2,2))(Conv2D_BottleNeck)\n",
        "    \n",
        "    return avg"
      ],
      "execution_count": 0,
      "outputs": []
    },
    {
      "cell_type": "code",
      "metadata": {
        "id": "VfGTQD1At-C_",
        "colab_type": "code",
        "colab": {}
      },
      "source": [
        "def output_layer(input):\n",
        "    global compression\n",
        "    BatchNorm = layers.BatchNormalization()(input)\n",
        "    relu = layers.Activation('relu')(BatchNorm)\n",
        "    AvgPooling = layers.AveragePooling2D(pool_size=(2,2))(relu)\n",
        "    flat = layers.Flatten()(AvgPooling)\n",
        "    output = layers.Dense(num_classes, activation='softmax')(flat)\n",
        "    \n",
        "    return output"
      ],
      "execution_count": 0,
      "outputs": []
    },
    {
      "cell_type": "code",
      "metadata": {
        "id": "fNg7kjjMuA_f",
        "colab_type": "code",
        "outputId": "54dd0780-7826-42dc-8f53-37986991aad7",
        "colab": {
          "base_uri": "https://localhost:8080/",
          "height": 88
        }
      },
      "source": [
        "num_filter = 22\n",
        "dropout_rate = 0.2\n",
        "l = 5\n",
        "input = layers.Input(shape=(img_height, img_width, channel,))\n",
        "First_Conv2D = layers.Conv2D(num_filter, (3,3), use_bias=False ,padding='same')(input)\n",
        "\n",
        "First_Block = add_denseblock(First_Conv2D, num_filter, dropout_rate)\n",
        "First_Transition = add_transition(First_Block, num_filter, dropout_rate)\n",
        "\n",
        "Second_Block = add_denseblock(First_Transition, num_filter, dropout_rate)\n",
        "Second_Transition = add_transition(Second_Block, num_filter, dropout_rate)\n",
        "\n",
        "Third_Block = add_denseblock(Second_Transition, num_filter, dropout_rate)\n",
        "Third_Transition = add_transition(Third_Block, num_filter, dropout_rate)\n",
        "\n",
        "Last_Block = add_denseblock(Third_Transition,  num_filter, dropout_rate)\n",
        "output = output_layer(Last_Block)"
      ],
      "execution_count": 0,
      "outputs": [
        {
          "output_type": "stream",
          "text": [
            "WARNING:tensorflow:From /usr/local/lib/python3.6/dist-packages/tensorflow_core/python/ops/resource_variable_ops.py:1630: calling BaseResourceVariable.__init__ (from tensorflow.python.ops.resource_variable_ops) with constraint is deprecated and will be removed in a future version.\n",
            "Instructions for updating:\n",
            "If using Keras pass *_constraint arguments to layers.\n"
          ],
          "name": "stdout"
        }
      ]
    },
    {
      "cell_type": "code",
      "metadata": {
        "id": "1Pc5bNVcuE9o",
        "colab_type": "code",
        "colab": {}
      },
      "source": [
        "model = tf.keras.Model(inputs=[input], outputs=[output])"
      ],
      "execution_count": 0,
      "outputs": []
    },
    {
      "cell_type": "code",
      "metadata": {
        "id": "MglFDd1quNWi",
        "colab_type": "code",
        "colab": {}
      },
      "source": [
        "model.compile(optimizer=tf.train.AdamOptimizer(0.001),\n",
        "              loss='categorical_crossentropy',\n",
        "              metrics=['accuracy'])"
      ],
      "execution_count": 0,
      "outputs": []
    },
    {
      "cell_type": "code",
      "metadata": {
        "id": "ilarHDiQuxZ7",
        "colab_type": "code",
        "outputId": "a25eb35d-bc48-4d49-e1c2-8567902f2065",
        "colab": {
          "base_uri": "https://localhost:8080/",
          "height": 1000
        }
      },
      "source": [
        "model.summary()"
      ],
      "execution_count": 0,
      "outputs": [
        {
          "output_type": "stream",
          "text": [
            "Model: \"model\"\n",
            "__________________________________________________________________________________________________\n",
            "Layer (type)                    Output Shape         Param #     Connected to                     \n",
            "==================================================================================================\n",
            "input_1 (InputLayer)            [(None, 32, 32, 3)]  0                                            \n",
            "__________________________________________________________________________________________________\n",
            "conv2d (Conv2D)                 (None, 32, 32, 22)   594         input_1[0][0]                    \n",
            "__________________________________________________________________________________________________\n",
            "batch_normalization (BatchNorma (None, 32, 32, 22)   88          conv2d[0][0]                     \n",
            "__________________________________________________________________________________________________\n",
            "activation (Activation)         (None, 32, 32, 22)   0           batch_normalization[0][0]        \n",
            "__________________________________________________________________________________________________\n",
            "conv2d_1 (Conv2D)               (None, 32, 32, 22)   4356        activation[0][0]                 \n",
            "__________________________________________________________________________________________________\n",
            "dropout (Dropout)               (None, 32, 32, 22)   0           conv2d_1[0][0]                   \n",
            "__________________________________________________________________________________________________\n",
            "concatenate (Concatenate)       (None, 32, 32, 44)   0           conv2d[0][0]                     \n",
            "                                                                 dropout[0][0]                    \n",
            "__________________________________________________________________________________________________\n",
            "batch_normalization_1 (BatchNor (None, 32, 32, 44)   176         concatenate[0][0]                \n",
            "__________________________________________________________________________________________________\n",
            "activation_1 (Activation)       (None, 32, 32, 44)   0           batch_normalization_1[0][0]      \n",
            "__________________________________________________________________________________________________\n",
            "conv2d_2 (Conv2D)               (None, 32, 32, 22)   8712        activation_1[0][0]               \n",
            "__________________________________________________________________________________________________\n",
            "dropout_1 (Dropout)             (None, 32, 32, 22)   0           conv2d_2[0][0]                   \n",
            "__________________________________________________________________________________________________\n",
            "concatenate_1 (Concatenate)     (None, 32, 32, 66)   0           concatenate[0][0]                \n",
            "                                                                 dropout_1[0][0]                  \n",
            "__________________________________________________________________________________________________\n",
            "batch_normalization_2 (BatchNor (None, 32, 32, 66)   264         concatenate_1[0][0]              \n",
            "__________________________________________________________________________________________________\n",
            "activation_2 (Activation)       (None, 32, 32, 66)   0           batch_normalization_2[0][0]      \n",
            "__________________________________________________________________________________________________\n",
            "conv2d_3 (Conv2D)               (None, 32, 32, 22)   13068       activation_2[0][0]               \n",
            "__________________________________________________________________________________________________\n",
            "dropout_2 (Dropout)             (None, 32, 32, 22)   0           conv2d_3[0][0]                   \n",
            "__________________________________________________________________________________________________\n",
            "concatenate_2 (Concatenate)     (None, 32, 32, 88)   0           concatenate_1[0][0]              \n",
            "                                                                 dropout_2[0][0]                  \n",
            "__________________________________________________________________________________________________\n",
            "batch_normalization_3 (BatchNor (None, 32, 32, 88)   352         concatenate_2[0][0]              \n",
            "__________________________________________________________________________________________________\n",
            "activation_3 (Activation)       (None, 32, 32, 88)   0           batch_normalization_3[0][0]      \n",
            "__________________________________________________________________________________________________\n",
            "conv2d_4 (Conv2D)               (None, 32, 32, 22)   17424       activation_3[0][0]               \n",
            "__________________________________________________________________________________________________\n",
            "dropout_3 (Dropout)             (None, 32, 32, 22)   0           conv2d_4[0][0]                   \n",
            "__________________________________________________________________________________________________\n",
            "concatenate_3 (Concatenate)     (None, 32, 32, 110)  0           concatenate_2[0][0]              \n",
            "                                                                 dropout_3[0][0]                  \n",
            "__________________________________________________________________________________________________\n",
            "batch_normalization_4 (BatchNor (None, 32, 32, 110)  440         concatenate_3[0][0]              \n",
            "__________________________________________________________________________________________________\n",
            "activation_4 (Activation)       (None, 32, 32, 110)  0           batch_normalization_4[0][0]      \n",
            "__________________________________________________________________________________________________\n",
            "conv2d_5 (Conv2D)               (None, 32, 32, 22)   21780       activation_4[0][0]               \n",
            "__________________________________________________________________________________________________\n",
            "dropout_4 (Dropout)             (None, 32, 32, 22)   0           conv2d_5[0][0]                   \n",
            "__________________________________________________________________________________________________\n",
            "concatenate_4 (Concatenate)     (None, 32, 32, 132)  0           concatenate_3[0][0]              \n",
            "                                                                 dropout_4[0][0]                  \n",
            "__________________________________________________________________________________________________\n",
            "batch_normalization_5 (BatchNor (None, 32, 32, 132)  528         concatenate_4[0][0]              \n",
            "__________________________________________________________________________________________________\n",
            "activation_5 (Activation)       (None, 32, 32, 132)  0           batch_normalization_5[0][0]      \n",
            "__________________________________________________________________________________________________\n",
            "conv2d_6 (Conv2D)               (None, 32, 32, 11)   1452        activation_5[0][0]               \n",
            "__________________________________________________________________________________________________\n",
            "dropout_5 (Dropout)             (None, 32, 32, 11)   0           conv2d_6[0][0]                   \n",
            "__________________________________________________________________________________________________\n",
            "average_pooling2d (AveragePooli (None, 16, 16, 11)   0           dropout_5[0][0]                  \n",
            "__________________________________________________________________________________________________\n",
            "batch_normalization_6 (BatchNor (None, 16, 16, 11)   44          average_pooling2d[0][0]          \n",
            "__________________________________________________________________________________________________\n",
            "activation_6 (Activation)       (None, 16, 16, 11)   0           batch_normalization_6[0][0]      \n",
            "__________________________________________________________________________________________________\n",
            "conv2d_7 (Conv2D)               (None, 16, 16, 22)   2178        activation_6[0][0]               \n",
            "__________________________________________________________________________________________________\n",
            "dropout_6 (Dropout)             (None, 16, 16, 22)   0           conv2d_7[0][0]                   \n",
            "__________________________________________________________________________________________________\n",
            "concatenate_5 (Concatenate)     (None, 16, 16, 33)   0           average_pooling2d[0][0]          \n",
            "                                                                 dropout_6[0][0]                  \n",
            "__________________________________________________________________________________________________\n",
            "batch_normalization_7 (BatchNor (None, 16, 16, 33)   132         concatenate_5[0][0]              \n",
            "__________________________________________________________________________________________________\n",
            "activation_7 (Activation)       (None, 16, 16, 33)   0           batch_normalization_7[0][0]      \n",
            "__________________________________________________________________________________________________\n",
            "conv2d_8 (Conv2D)               (None, 16, 16, 22)   6534        activation_7[0][0]               \n",
            "__________________________________________________________________________________________________\n",
            "dropout_7 (Dropout)             (None, 16, 16, 22)   0           conv2d_8[0][0]                   \n",
            "__________________________________________________________________________________________________\n",
            "concatenate_6 (Concatenate)     (None, 16, 16, 55)   0           concatenate_5[0][0]              \n",
            "                                                                 dropout_7[0][0]                  \n",
            "__________________________________________________________________________________________________\n",
            "batch_normalization_8 (BatchNor (None, 16, 16, 55)   220         concatenate_6[0][0]              \n",
            "__________________________________________________________________________________________________\n",
            "activation_8 (Activation)       (None, 16, 16, 55)   0           batch_normalization_8[0][0]      \n",
            "__________________________________________________________________________________________________\n",
            "conv2d_9 (Conv2D)               (None, 16, 16, 22)   10890       activation_8[0][0]               \n",
            "__________________________________________________________________________________________________\n",
            "dropout_8 (Dropout)             (None, 16, 16, 22)   0           conv2d_9[0][0]                   \n",
            "__________________________________________________________________________________________________\n",
            "concatenate_7 (Concatenate)     (None, 16, 16, 77)   0           concatenate_6[0][0]              \n",
            "                                                                 dropout_8[0][0]                  \n",
            "__________________________________________________________________________________________________\n",
            "batch_normalization_9 (BatchNor (None, 16, 16, 77)   308         concatenate_7[0][0]              \n",
            "__________________________________________________________________________________________________\n",
            "activation_9 (Activation)       (None, 16, 16, 77)   0           batch_normalization_9[0][0]      \n",
            "__________________________________________________________________________________________________\n",
            "conv2d_10 (Conv2D)              (None, 16, 16, 22)   15246       activation_9[0][0]               \n",
            "__________________________________________________________________________________________________\n",
            "dropout_9 (Dropout)             (None, 16, 16, 22)   0           conv2d_10[0][0]                  \n",
            "__________________________________________________________________________________________________\n",
            "concatenate_8 (Concatenate)     (None, 16, 16, 99)   0           concatenate_7[0][0]              \n",
            "                                                                 dropout_9[0][0]                  \n",
            "__________________________________________________________________________________________________\n",
            "batch_normalization_10 (BatchNo (None, 16, 16, 99)   396         concatenate_8[0][0]              \n",
            "__________________________________________________________________________________________________\n",
            "activation_10 (Activation)      (None, 16, 16, 99)   0           batch_normalization_10[0][0]     \n",
            "__________________________________________________________________________________________________\n",
            "conv2d_11 (Conv2D)              (None, 16, 16, 22)   19602       activation_10[0][0]              \n",
            "__________________________________________________________________________________________________\n",
            "dropout_10 (Dropout)            (None, 16, 16, 22)   0           conv2d_11[0][0]                  \n",
            "__________________________________________________________________________________________________\n",
            "concatenate_9 (Concatenate)     (None, 16, 16, 121)  0           concatenate_8[0][0]              \n",
            "                                                                 dropout_10[0][0]                 \n",
            "__________________________________________________________________________________________________\n",
            "batch_normalization_11 (BatchNo (None, 16, 16, 121)  484         concatenate_9[0][0]              \n",
            "__________________________________________________________________________________________________\n",
            "activation_11 (Activation)      (None, 16, 16, 121)  0           batch_normalization_11[0][0]     \n",
            "__________________________________________________________________________________________________\n",
            "conv2d_12 (Conv2D)              (None, 16, 16, 11)   1331        activation_11[0][0]              \n",
            "__________________________________________________________________________________________________\n",
            "dropout_11 (Dropout)            (None, 16, 16, 11)   0           conv2d_12[0][0]                  \n",
            "__________________________________________________________________________________________________\n",
            "average_pooling2d_1 (AveragePoo (None, 8, 8, 11)     0           dropout_11[0][0]                 \n",
            "__________________________________________________________________________________________________\n",
            "batch_normalization_12 (BatchNo (None, 8, 8, 11)     44          average_pooling2d_1[0][0]        \n",
            "__________________________________________________________________________________________________\n",
            "activation_12 (Activation)      (None, 8, 8, 11)     0           batch_normalization_12[0][0]     \n",
            "__________________________________________________________________________________________________\n",
            "conv2d_13 (Conv2D)              (None, 8, 8, 22)     2178        activation_12[0][0]              \n",
            "__________________________________________________________________________________________________\n",
            "dropout_12 (Dropout)            (None, 8, 8, 22)     0           conv2d_13[0][0]                  \n",
            "__________________________________________________________________________________________________\n",
            "concatenate_10 (Concatenate)    (None, 8, 8, 33)     0           average_pooling2d_1[0][0]        \n",
            "                                                                 dropout_12[0][0]                 \n",
            "__________________________________________________________________________________________________\n",
            "batch_normalization_13 (BatchNo (None, 8, 8, 33)     132         concatenate_10[0][0]             \n",
            "__________________________________________________________________________________________________\n",
            "activation_13 (Activation)      (None, 8, 8, 33)     0           batch_normalization_13[0][0]     \n",
            "__________________________________________________________________________________________________\n",
            "conv2d_14 (Conv2D)              (None, 8, 8, 22)     6534        activation_13[0][0]              \n",
            "__________________________________________________________________________________________________\n",
            "dropout_13 (Dropout)            (None, 8, 8, 22)     0           conv2d_14[0][0]                  \n",
            "__________________________________________________________________________________________________\n",
            "concatenate_11 (Concatenate)    (None, 8, 8, 55)     0           concatenate_10[0][0]             \n",
            "                                                                 dropout_13[0][0]                 \n",
            "__________________________________________________________________________________________________\n",
            "batch_normalization_14 (BatchNo (None, 8, 8, 55)     220         concatenate_11[0][0]             \n",
            "__________________________________________________________________________________________________\n",
            "activation_14 (Activation)      (None, 8, 8, 55)     0           batch_normalization_14[0][0]     \n",
            "__________________________________________________________________________________________________\n",
            "conv2d_15 (Conv2D)              (None, 8, 8, 22)     10890       activation_14[0][0]              \n",
            "__________________________________________________________________________________________________\n",
            "dropout_14 (Dropout)            (None, 8, 8, 22)     0           conv2d_15[0][0]                  \n",
            "__________________________________________________________________________________________________\n",
            "concatenate_12 (Concatenate)    (None, 8, 8, 77)     0           concatenate_11[0][0]             \n",
            "                                                                 dropout_14[0][0]                 \n",
            "__________________________________________________________________________________________________\n",
            "batch_normalization_15 (BatchNo (None, 8, 8, 77)     308         concatenate_12[0][0]             \n",
            "__________________________________________________________________________________________________\n",
            "activation_15 (Activation)      (None, 8, 8, 77)     0           batch_normalization_15[0][0]     \n",
            "__________________________________________________________________________________________________\n",
            "conv2d_16 (Conv2D)              (None, 8, 8, 22)     15246       activation_15[0][0]              \n",
            "__________________________________________________________________________________________________\n",
            "dropout_15 (Dropout)            (None, 8, 8, 22)     0           conv2d_16[0][0]                  \n",
            "__________________________________________________________________________________________________\n",
            "concatenate_13 (Concatenate)    (None, 8, 8, 99)     0           concatenate_12[0][0]             \n",
            "                                                                 dropout_15[0][0]                 \n",
            "__________________________________________________________________________________________________\n",
            "batch_normalization_16 (BatchNo (None, 8, 8, 99)     396         concatenate_13[0][0]             \n",
            "__________________________________________________________________________________________________\n",
            "activation_16 (Activation)      (None, 8, 8, 99)     0           batch_normalization_16[0][0]     \n",
            "__________________________________________________________________________________________________\n",
            "conv2d_17 (Conv2D)              (None, 8, 8, 22)     19602       activation_16[0][0]              \n",
            "__________________________________________________________________________________________________\n",
            "dropout_16 (Dropout)            (None, 8, 8, 22)     0           conv2d_17[0][0]                  \n",
            "__________________________________________________________________________________________________\n",
            "concatenate_14 (Concatenate)    (None, 8, 8, 121)    0           concatenate_13[0][0]             \n",
            "                                                                 dropout_16[0][0]                 \n",
            "__________________________________________________________________________________________________\n",
            "batch_normalization_17 (BatchNo (None, 8, 8, 121)    484         concatenate_14[0][0]             \n",
            "__________________________________________________________________________________________________\n",
            "activation_17 (Activation)      (None, 8, 8, 121)    0           batch_normalization_17[0][0]     \n",
            "__________________________________________________________________________________________________\n",
            "conv2d_18 (Conv2D)              (None, 8, 8, 11)     1331        activation_17[0][0]              \n",
            "__________________________________________________________________________________________________\n",
            "dropout_17 (Dropout)            (None, 8, 8, 11)     0           conv2d_18[0][0]                  \n",
            "__________________________________________________________________________________________________\n",
            "average_pooling2d_2 (AveragePoo (None, 4, 4, 11)     0           dropout_17[0][0]                 \n",
            "__________________________________________________________________________________________________\n",
            "batch_normalization_18 (BatchNo (None, 4, 4, 11)     44          average_pooling2d_2[0][0]        \n",
            "__________________________________________________________________________________________________\n",
            "activation_18 (Activation)      (None, 4, 4, 11)     0           batch_normalization_18[0][0]     \n",
            "__________________________________________________________________________________________________\n",
            "conv2d_19 (Conv2D)              (None, 4, 4, 22)     2178        activation_18[0][0]              \n",
            "__________________________________________________________________________________________________\n",
            "dropout_18 (Dropout)            (None, 4, 4, 22)     0           conv2d_19[0][0]                  \n",
            "__________________________________________________________________________________________________\n",
            "concatenate_15 (Concatenate)    (None, 4, 4, 33)     0           average_pooling2d_2[0][0]        \n",
            "                                                                 dropout_18[0][0]                 \n",
            "__________________________________________________________________________________________________\n",
            "batch_normalization_19 (BatchNo (None, 4, 4, 33)     132         concatenate_15[0][0]             \n",
            "__________________________________________________________________________________________________\n",
            "activation_19 (Activation)      (None, 4, 4, 33)     0           batch_normalization_19[0][0]     \n",
            "__________________________________________________________________________________________________\n",
            "conv2d_20 (Conv2D)              (None, 4, 4, 22)     6534        activation_19[0][0]              \n",
            "__________________________________________________________________________________________________\n",
            "dropout_19 (Dropout)            (None, 4, 4, 22)     0           conv2d_20[0][0]                  \n",
            "__________________________________________________________________________________________________\n",
            "concatenate_16 (Concatenate)    (None, 4, 4, 55)     0           concatenate_15[0][0]             \n",
            "                                                                 dropout_19[0][0]                 \n",
            "__________________________________________________________________________________________________\n",
            "batch_normalization_20 (BatchNo (None, 4, 4, 55)     220         concatenate_16[0][0]             \n",
            "__________________________________________________________________________________________________\n",
            "activation_20 (Activation)      (None, 4, 4, 55)     0           batch_normalization_20[0][0]     \n",
            "__________________________________________________________________________________________________\n",
            "conv2d_21 (Conv2D)              (None, 4, 4, 22)     10890       activation_20[0][0]              \n",
            "__________________________________________________________________________________________________\n",
            "dropout_20 (Dropout)            (None, 4, 4, 22)     0           conv2d_21[0][0]                  \n",
            "__________________________________________________________________________________________________\n",
            "concatenate_17 (Concatenate)    (None, 4, 4, 77)     0           concatenate_16[0][0]             \n",
            "                                                                 dropout_20[0][0]                 \n",
            "__________________________________________________________________________________________________\n",
            "batch_normalization_21 (BatchNo (None, 4, 4, 77)     308         concatenate_17[0][0]             \n",
            "__________________________________________________________________________________________________\n",
            "activation_21 (Activation)      (None, 4, 4, 77)     0           batch_normalization_21[0][0]     \n",
            "__________________________________________________________________________________________________\n",
            "conv2d_22 (Conv2D)              (None, 4, 4, 22)     15246       activation_21[0][0]              \n",
            "__________________________________________________________________________________________________\n",
            "dropout_21 (Dropout)            (None, 4, 4, 22)     0           conv2d_22[0][0]                  \n",
            "__________________________________________________________________________________________________\n",
            "concatenate_18 (Concatenate)    (None, 4, 4, 99)     0           concatenate_17[0][0]             \n",
            "                                                                 dropout_21[0][0]                 \n",
            "__________________________________________________________________________________________________\n",
            "batch_normalization_22 (BatchNo (None, 4, 4, 99)     396         concatenate_18[0][0]             \n",
            "__________________________________________________________________________________________________\n",
            "activation_22 (Activation)      (None, 4, 4, 99)     0           batch_normalization_22[0][0]     \n",
            "__________________________________________________________________________________________________\n",
            "conv2d_23 (Conv2D)              (None, 4, 4, 22)     19602       activation_22[0][0]              \n",
            "__________________________________________________________________________________________________\n",
            "dropout_22 (Dropout)            (None, 4, 4, 22)     0           conv2d_23[0][0]                  \n",
            "__________________________________________________________________________________________________\n",
            "concatenate_19 (Concatenate)    (None, 4, 4, 121)    0           concatenate_18[0][0]             \n",
            "                                                                 dropout_22[0][0]                 \n",
            "__________________________________________________________________________________________________\n",
            "batch_normalization_23 (BatchNo (None, 4, 4, 121)    484         concatenate_19[0][0]             \n",
            "__________________________________________________________________________________________________\n",
            "activation_23 (Activation)      (None, 4, 4, 121)    0           batch_normalization_23[0][0]     \n",
            "__________________________________________________________________________________________________\n",
            "average_pooling2d_3 (AveragePoo (None, 2, 2, 121)    0           activation_23[0][0]              \n",
            "__________________________________________________________________________________________________\n",
            "flatten (Flatten)               (None, 484)          0           average_pooling2d_3[0][0]        \n",
            "__________________________________________________________________________________________________\n",
            "dense (Dense)                   (None, 10)           4850        flatten[0][0]                    \n",
            "==================================================================================================\n",
            "Total params: 244,848\n",
            "Trainable params: 241,548\n",
            "Non-trainable params: 3,300\n",
            "__________________________________________________________________________________________________\n"
          ],
          "name": "stdout"
        }
      ]
    },
    {
      "cell_type": "code",
      "metadata": {
        "id": "jhZZWwdMu2kP",
        "colab_type": "code",
        "colab": {}
      },
      "source": [
        "def parser(record):\n",
        "  keys_to_features = {\n",
        "      'image_raw': tf.FixedLenFeature((), tf.string),\n",
        "      'label': tf.FixedLenFeature((), tf.int64)\n",
        "  }\n",
        "  parsed = tf.parse_single_example(record, keys_to_features)\n",
        "  image = tf.decode_raw(parsed['image_raw'], tf.uint8)\n",
        "  image = tf.cast(image, tf.int32)\n",
        "  image = tf.reshape(image, [32,32,3])\n",
        "  label = tf.cast(parsed[\"label\"], tf.int32)\n",
        "  label = tf.one_hot(label, 10)\n",
        "  return image, label"
      ],
      "execution_count": 0,
      "outputs": []
    },
    {
      "cell_type": "code",
      "metadata": {
        "id": "iH9_gLbmu7cV",
        "colab_type": "code",
        "colab": {}
      },
      "source": [
        "def get_dataset_from_TFRecord(filename):\n",
        "  dataset = tf.data.TFRecordDataset(filenames='train.tfrecords')\n",
        "  dataset = dataset.map(parser)\n",
        "  return dataset"
      ],
      "execution_count": 0,
      "outputs": []
    },
    {
      "cell_type": "code",
      "metadata": {
        "id": "rW2fmxM_u8-d",
        "colab_type": "code",
        "outputId": "ff0d007f-cecd-4dfe-d226-aa6bf300c2f2",
        "colab": {
          "base_uri": "https://localhost:8080/",
          "height": 105
        }
      },
      "source": [
        "dataset = get_dataset_from_TFRecord('train.tfrecords')\n",
        "dataset = dataset.batch(512)\n",
        "dataset = dataset.repeat()"
      ],
      "execution_count": 0,
      "outputs": [
        {
          "output_type": "stream",
          "text": [
            "WARNING:tensorflow:From /usr/local/lib/python3.6/dist-packages/tensorflow_core/python/autograph/converters/directives.py:119: The name tf.FixedLenFeature is deprecated. Please use tf.io.FixedLenFeature instead.\n",
            "\n",
            "WARNING:tensorflow:From /usr/local/lib/python3.6/dist-packages/tensorflow_core/python/autograph/converters/directives.py:119: The name tf.parse_single_example is deprecated. Please use tf.io.parse_single_example instead.\n",
            "\n"
          ],
          "name": "stdout"
        }
      ]
    },
    {
      "cell_type": "code",
      "metadata": {
        "id": "verzirL5vCIN",
        "colab_type": "code",
        "colab": {}
      },
      "source": [
        "val_dataset = get_dataset_from_TFRecord('test.tfrecords')"
      ],
      "execution_count": 0,
      "outputs": []
    },
    {
      "cell_type": "code",
      "metadata": {
        "id": "TJgwIs0xvGZl",
        "colab_type": "code",
        "colab": {}
      },
      "source": [
        "val_dataset = val_dataset.batch(512).repeat()"
      ],
      "execution_count": 0,
      "outputs": []
    },
    {
      "cell_type": "code",
      "metadata": {
        "id": "_wVOSqv4vJSk",
        "colab_type": "code",
        "outputId": "110caa16-d798-4cdd-b2b6-751355ba5669",
        "colab": {
          "base_uri": "https://localhost:8080/",
          "height": 1000
        }
      },
      "source": [
        "model.fit(dataset, epochs=50, steps_per_epoch=30,\n",
        "          validation_data=val_dataset,validation_steps=3)"
      ],
      "execution_count": 0,
      "outputs": [
        {
          "output_type": "stream",
          "text": [
            "WARNING:tensorflow:Expected a shuffled dataset but input dataset `x` is not shuffled. Please invoke `shuffle()` on input dataset.\n",
            "Train on 30 steps, validate on 3 steps\n",
            "Epoch 1/50\n",
            "30/30 [==============================] - 10s 342ms/step - loss: 1.9979 - acc: 0.2608 - val_loss: 3.2760 - val_acc: 0.1126\n",
            "Epoch 2/50\n",
            "30/30 [==============================] - 5s 165ms/step - loss: 1.6540 - acc: 0.3780 - val_loss: 2.0018 - val_acc: 0.2611\n",
            "Epoch 3/50\n",
            "30/30 [==============================] - 5s 164ms/step - loss: 1.5494 - acc: 0.4188 - val_loss: 1.6731 - val_acc: 0.3822\n",
            "Epoch 4/50\n",
            "30/30 [==============================] - 6s 187ms/step - loss: 1.4246 - acc: 0.4730 - val_loss: 1.7556 - val_acc: 0.3698\n",
            "Epoch 5/50\n",
            "30/30 [==============================] - 5s 164ms/step - loss: 1.3467 - acc: 0.5029 - val_loss: 1.5330 - val_acc: 0.4277\n",
            "Epoch 6/50\n",
            "30/30 [==============================] - 5s 164ms/step - loss: 1.3066 - acc: 0.5232 - val_loss: 1.6811 - val_acc: 0.4043\n",
            "Epoch 7/50\n",
            "30/30 [==============================] - 5s 164ms/step - loss: 1.2457 - acc: 0.5504 - val_loss: 1.9126 - val_acc: 0.3366\n",
            "Epoch 8/50\n",
            "30/30 [==============================] - 5s 165ms/step - loss: 1.2024 - acc: 0.5593 - val_loss: 1.9069 - val_acc: 0.3952\n",
            "Epoch 9/50\n",
            "30/30 [==============================] - 5s 165ms/step - loss: 1.1548 - acc: 0.5839 - val_loss: 1.9838 - val_acc: 0.3789\n",
            "Epoch 10/50\n",
            "30/30 [==============================] - 5s 164ms/step - loss: 1.1229 - acc: 0.5931 - val_loss: 1.5215 - val_acc: 0.4870\n",
            "Epoch 11/50\n",
            "30/30 [==============================] - 5s 165ms/step - loss: 1.0992 - acc: 0.6003 - val_loss: 1.5037 - val_acc: 0.4837\n",
            "Epoch 12/50\n",
            "30/30 [==============================] - 5s 164ms/step - loss: 1.0542 - acc: 0.6215 - val_loss: 1.7064 - val_acc: 0.4785\n",
            "Epoch 13/50\n",
            "30/30 [==============================] - 5s 164ms/step - loss: 1.0248 - acc: 0.6281 - val_loss: 1.1131 - val_acc: 0.5951\n",
            "Epoch 14/50\n",
            "30/30 [==============================] - 5s 163ms/step - loss: 1.0039 - acc: 0.6355 - val_loss: 1.1466 - val_acc: 0.6016\n",
            "Epoch 15/50\n",
            "30/30 [==============================] - 5s 165ms/step - loss: 0.9731 - acc: 0.6544 - val_loss: 1.5326 - val_acc: 0.4922\n",
            "Epoch 16/50\n",
            "30/30 [==============================] - 5s 165ms/step - loss: 0.9656 - acc: 0.6516 - val_loss: 1.3144 - val_acc: 0.5697\n",
            "Epoch 17/50\n",
            "30/30 [==============================] - 5s 163ms/step - loss: 0.9227 - acc: 0.6661 - val_loss: 1.0130 - val_acc: 0.6478\n",
            "Epoch 18/50\n",
            "30/30 [==============================] - 5s 164ms/step - loss: 0.9138 - acc: 0.6712 - val_loss: 1.0839 - val_acc: 0.6504\n",
            "Epoch 19/50\n",
            "30/30 [==============================] - 5s 164ms/step - loss: 0.8997 - acc: 0.6770 - val_loss: 1.1627 - val_acc: 0.6172\n",
            "Epoch 20/50\n",
            "30/30 [==============================] - 5s 164ms/step - loss: 0.8634 - acc: 0.6853 - val_loss: 1.0343 - val_acc: 0.6348\n",
            "Epoch 21/50\n",
            "30/30 [==============================] - 5s 165ms/step - loss: 0.8698 - acc: 0.6861 - val_loss: 1.0036 - val_acc: 0.6621\n",
            "Epoch 22/50\n",
            "30/30 [==============================] - 5s 165ms/step - loss: 0.8492 - acc: 0.6964 - val_loss: 0.8822 - val_acc: 0.6790\n",
            "Epoch 23/50\n",
            "30/30 [==============================] - 5s 164ms/step - loss: 0.8310 - acc: 0.7036 - val_loss: 0.8712 - val_acc: 0.7051\n",
            "Epoch 24/50\n",
            "30/30 [==============================] - 5s 164ms/step - loss: 0.8262 - acc: 0.6989 - val_loss: 0.8053 - val_acc: 0.7129\n",
            "Epoch 25/50\n",
            "30/30 [==============================] - 5s 165ms/step - loss: 0.7970 - acc: 0.7157 - val_loss: 0.8303 - val_acc: 0.7025\n",
            "Epoch 26/50\n",
            "30/30 [==============================] - 5s 164ms/step - loss: 0.8086 - acc: 0.7109 - val_loss: 1.8464 - val_acc: 0.4935\n",
            "Epoch 27/50\n",
            "30/30 [==============================] - 5s 165ms/step - loss: 0.7691 - acc: 0.7271 - val_loss: 0.9724 - val_acc: 0.6810\n",
            "Epoch 28/50\n",
            "30/30 [==============================] - 5s 165ms/step - loss: 0.7542 - acc: 0.7345 - val_loss: 0.8271 - val_acc: 0.7064\n",
            "Epoch 29/50\n",
            "30/30 [==============================] - 5s 165ms/step - loss: 0.7661 - acc: 0.7279 - val_loss: 0.9887 - val_acc: 0.6680\n",
            "Epoch 30/50\n",
            "30/30 [==============================] - 5s 164ms/step - loss: 0.7483 - acc: 0.7327 - val_loss: 0.8251 - val_acc: 0.7161\n",
            "Epoch 31/50\n",
            "30/30 [==============================] - 5s 164ms/step - loss: 0.7434 - acc: 0.7371 - val_loss: 0.7717 - val_acc: 0.7201\n",
            "Epoch 32/50\n",
            "30/30 [==============================] - 5s 164ms/step - loss: 0.7351 - acc: 0.7382 - val_loss: 0.7147 - val_acc: 0.7611\n",
            "Epoch 33/50\n",
            "30/30 [==============================] - 5s 163ms/step - loss: 0.7115 - acc: 0.7482 - val_loss: 0.7856 - val_acc: 0.7259\n",
            "Epoch 34/50\n",
            "30/30 [==============================] - 5s 165ms/step - loss: 0.7095 - acc: 0.7445 - val_loss: 0.8681 - val_acc: 0.7064\n",
            "Epoch 35/50\n",
            "30/30 [==============================] - 5s 164ms/step - loss: 0.6937 - acc: 0.7562 - val_loss: 0.8754 - val_acc: 0.7057\n",
            "Epoch 36/50\n",
            "30/30 [==============================] - 5s 164ms/step - loss: 0.6883 - acc: 0.7570 - val_loss: 0.7789 - val_acc: 0.7337\n",
            "Epoch 37/50\n",
            "30/30 [==============================] - 5s 164ms/step - loss: 0.6824 - acc: 0.7582 - val_loss: 1.1127 - val_acc: 0.6530\n",
            "Epoch 38/50\n",
            "30/30 [==============================] - 5s 164ms/step - loss: 0.6741 - acc: 0.7636 - val_loss: 0.7612 - val_acc: 0.7396\n",
            "Epoch 39/50\n",
            "30/30 [==============================] - 5s 164ms/step - loss: 0.6766 - acc: 0.7604 - val_loss: 1.1265 - val_acc: 0.6445\n",
            "Epoch 40/50\n",
            "30/30 [==============================] - 5s 164ms/step - loss: 0.6540 - acc: 0.7675 - val_loss: 0.6428 - val_acc: 0.7747\n",
            "Epoch 41/50\n",
            "30/30 [==============================] - 5s 165ms/step - loss: 0.6599 - acc: 0.7644 - val_loss: 0.8166 - val_acc: 0.7318\n",
            "Epoch 42/50\n",
            "30/30 [==============================] - 5s 165ms/step - loss: 0.6501 - acc: 0.7697 - val_loss: 0.7165 - val_acc: 0.7552\n",
            "Epoch 43/50\n",
            "30/30 [==============================] - 5s 164ms/step - loss: 0.6448 - acc: 0.7725 - val_loss: 0.6863 - val_acc: 0.7520\n",
            "Epoch 44/50\n",
            "30/30 [==============================] - 5s 164ms/step - loss: 0.6423 - acc: 0.7728 - val_loss: 0.5903 - val_acc: 0.8008\n",
            "Epoch 45/50\n",
            "30/30 [==============================] - 5s 164ms/step - loss: 0.6277 - acc: 0.7795 - val_loss: 0.7051 - val_acc: 0.7624\n",
            "Epoch 46/50\n",
            "30/30 [==============================] - 5s 164ms/step - loss: 0.6162 - acc: 0.7820 - val_loss: 0.6146 - val_acc: 0.7852\n",
            "Epoch 47/50\n",
            "30/30 [==============================] - 5s 165ms/step - loss: 0.6228 - acc: 0.7790 - val_loss: 0.6483 - val_acc: 0.7780\n",
            "Epoch 48/50\n",
            "30/30 [==============================] - 5s 165ms/step - loss: 0.6051 - acc: 0.7904 - val_loss: 0.6927 - val_acc: 0.7682\n",
            "Epoch 49/50\n",
            "30/30 [==============================] - 5s 162ms/step - loss: 0.6050 - acc: 0.7871 - val_loss: 1.0103 - val_acc: 0.6868\n",
            "Epoch 50/50\n",
            "30/30 [==============================] - 5s 165ms/step - loss: 0.6025 - acc: 0.7867 - val_loss: 0.7571 - val_acc: 0.7513\n"
          ],
          "name": "stdout"
        },
        {
          "output_type": "execute_result",
          "data": {
            "text/plain": [
              "<tensorflow.python.keras.callbacks.History at 0x7fa3c84e2668>"
            ]
          },
          "metadata": {
            "tags": []
          },
          "execution_count": 23
        }
      ]
    },
    {
      "cell_type": "code",
      "metadata": {
        "id": "skG5kruGwyEB",
        "colab_type": "code",
        "outputId": "545c66b6-c5a4-40ae-c864-c083fc4bb9fb",
        "colab": {
          "base_uri": "https://localhost:8080/",
          "height": 1000
        }
      },
      "source": [
        "model.fit(dataset, epochs=50, steps_per_epoch=30,\n",
        "          validation_data=val_dataset,validation_steps=3)"
      ],
      "execution_count": 0,
      "outputs": [
        {
          "output_type": "stream",
          "text": [
            "WARNING:tensorflow:Expected a shuffled dataset but input dataset `x` is not shuffled. Please invoke `shuffle()` on input dataset.\n",
            "Train on 30 steps, validate on 3 steps\n",
            "Epoch 1/50\n",
            "30/30 [==============================] - 8s 264ms/step - loss: 0.5804 - acc: 0.7927 - val_loss: 0.6088 - val_acc: 0.8008\n",
            "Epoch 2/50\n",
            "30/30 [==============================] - 5s 164ms/step - loss: 0.5950 - acc: 0.7878 - val_loss: 0.8040 - val_acc: 0.7376\n",
            "Epoch 3/50\n",
            "30/30 [==============================] - 5s 165ms/step - loss: 0.6057 - acc: 0.7872 - val_loss: 0.7518 - val_acc: 0.7507\n",
            "Epoch 4/50\n",
            "30/30 [==============================] - 5s 163ms/step - loss: 0.5744 - acc: 0.7976 - val_loss: 0.5425 - val_acc: 0.8151\n",
            "Epoch 5/50\n",
            "30/30 [==============================] - 5s 165ms/step - loss: 0.5789 - acc: 0.7948 - val_loss: 0.6092 - val_acc: 0.7917\n",
            "Epoch 6/50\n",
            "30/30 [==============================] - 5s 164ms/step - loss: 0.5813 - acc: 0.7920 - val_loss: 0.8197 - val_acc: 0.7467\n",
            "Epoch 7/50\n",
            "30/30 [==============================] - 5s 164ms/step - loss: 0.5606 - acc: 0.7992 - val_loss: 0.5442 - val_acc: 0.8145\n",
            "Epoch 8/50\n",
            "30/30 [==============================] - 5s 165ms/step - loss: 0.5621 - acc: 0.8038 - val_loss: 0.7779 - val_acc: 0.7598\n",
            "Epoch 9/50\n",
            "30/30 [==============================] - 5s 165ms/step - loss: 0.5656 - acc: 0.8021 - val_loss: 0.6317 - val_acc: 0.7904\n",
            "Epoch 10/50\n",
            "30/30 [==============================] - 5s 164ms/step - loss: 0.5487 - acc: 0.8021 - val_loss: 0.6611 - val_acc: 0.7845\n",
            "Epoch 11/50\n",
            "30/30 [==============================] - 5s 165ms/step - loss: 0.5426 - acc: 0.8106 - val_loss: 0.6530 - val_acc: 0.7845\n",
            "Epoch 12/50\n",
            "30/30 [==============================] - 5s 165ms/step - loss: 0.5542 - acc: 0.8039 - val_loss: 0.6320 - val_acc: 0.7982\n",
            "Epoch 13/50\n",
            "30/30 [==============================] - 5s 164ms/step - loss: 0.5443 - acc: 0.8089 - val_loss: 0.6738 - val_acc: 0.7734\n",
            "Epoch 14/50\n",
            "30/30 [==============================] - 5s 164ms/step - loss: 0.5341 - acc: 0.8099 - val_loss: 0.5530 - val_acc: 0.8138\n",
            "Epoch 15/50\n",
            "30/30 [==============================] - 5s 165ms/step - loss: 0.5387 - acc: 0.8111 - val_loss: 0.6493 - val_acc: 0.7767\n",
            "Epoch 16/50\n",
            "30/30 [==============================] - 5s 164ms/step - loss: 0.5409 - acc: 0.8083 - val_loss: 0.7408 - val_acc: 0.7682\n",
            "Epoch 17/50\n",
            "30/30 [==============================] - 5s 164ms/step - loss: 0.5197 - acc: 0.8149 - val_loss: 0.5830 - val_acc: 0.8027\n",
            "Epoch 18/50\n",
            "30/30 [==============================] - 5s 165ms/step - loss: 0.5230 - acc: 0.8168 - val_loss: 0.6512 - val_acc: 0.7956\n",
            "Epoch 19/50\n",
            "30/30 [==============================] - 5s 164ms/step - loss: 0.5287 - acc: 0.8150 - val_loss: 0.8351 - val_acc: 0.7389\n",
            "Epoch 20/50\n",
            "30/30 [==============================] - 5s 164ms/step - loss: 0.5066 - acc: 0.8217 - val_loss: 0.5550 - val_acc: 0.8158\n",
            "Epoch 21/50\n",
            "30/30 [==============================] - 5s 164ms/step - loss: 0.5173 - acc: 0.8186 - val_loss: 0.5195 - val_acc: 0.8242\n",
            "Epoch 22/50\n",
            "30/30 [==============================] - 5s 165ms/step - loss: 0.5095 - acc: 0.8189 - val_loss: 0.6077 - val_acc: 0.7962\n",
            "Epoch 23/50\n",
            "30/30 [==============================] - 5s 164ms/step - loss: 0.5072 - acc: 0.8176 - val_loss: 0.5561 - val_acc: 0.8158\n",
            "Epoch 24/50\n",
            "30/30 [==============================] - 5s 164ms/step - loss: 0.4929 - acc: 0.8270 - val_loss: 0.4712 - val_acc: 0.8353\n",
            "Epoch 25/50\n",
            "30/30 [==============================] - 5s 164ms/step - loss: 0.4967 - acc: 0.8275 - val_loss: 0.5805 - val_acc: 0.8079\n",
            "Epoch 26/50\n",
            "30/30 [==============================] - 5s 165ms/step - loss: 0.5186 - acc: 0.8150 - val_loss: 0.7947 - val_acc: 0.7565\n",
            "Epoch 27/50\n",
            "30/30 [==============================] - 5s 164ms/step - loss: 0.4932 - acc: 0.8248 - val_loss: 0.5745 - val_acc: 0.8171\n",
            "Epoch 28/50\n",
            "30/30 [==============================] - 5s 164ms/step - loss: 0.4912 - acc: 0.8276 - val_loss: 0.6049 - val_acc: 0.8008\n",
            "Epoch 29/50\n",
            "30/30 [==============================] - 5s 164ms/step - loss: 0.5041 - acc: 0.8240 - val_loss: 0.6315 - val_acc: 0.7852\n",
            "Epoch 30/50\n",
            "30/30 [==============================] - 5s 164ms/step - loss: 0.4900 - acc: 0.8282 - val_loss: 0.4937 - val_acc: 0.8288\n",
            "Epoch 31/50\n",
            "30/30 [==============================] - 5s 165ms/step - loss: 0.4874 - acc: 0.8321 - val_loss: 0.4901 - val_acc: 0.8314\n",
            "Epoch 32/50\n",
            "30/30 [==============================] - 5s 165ms/step - loss: 0.4907 - acc: 0.8277 - val_loss: 0.6891 - val_acc: 0.7806\n",
            "Epoch 33/50\n",
            "30/30 [==============================] - 5s 164ms/step - loss: 0.4883 - acc: 0.8253 - val_loss: 0.4473 - val_acc: 0.8424\n",
            "Epoch 34/50\n",
            "30/30 [==============================] - 5s 165ms/step - loss: 0.4815 - acc: 0.8301 - val_loss: 0.6243 - val_acc: 0.8021\n",
            "Epoch 35/50\n",
            "30/30 [==============================] - 5s 165ms/step - loss: 0.4806 - acc: 0.8326 - val_loss: 0.5115 - val_acc: 0.8242\n",
            "Epoch 36/50\n",
            "30/30 [==============================] - 5s 164ms/step - loss: 0.4686 - acc: 0.8344 - val_loss: 0.6528 - val_acc: 0.7852\n",
            "Epoch 37/50\n",
            "30/30 [==============================] - 5s 164ms/step - loss: 0.4733 - acc: 0.8326 - val_loss: 0.4661 - val_acc: 0.8418\n",
            "Epoch 38/50\n",
            "30/30 [==============================] - 5s 164ms/step - loss: 0.4667 - acc: 0.8363 - val_loss: 0.4581 - val_acc: 0.8483\n",
            "Epoch 39/50\n",
            "30/30 [==============================] - 5s 165ms/step - loss: 0.4753 - acc: 0.8346 - val_loss: 0.9132 - val_acc: 0.7305\n",
            "Epoch 40/50\n",
            "30/30 [==============================] - 5s 164ms/step - loss: 0.4507 - acc: 0.8425 - val_loss: 0.7707 - val_acc: 0.7565\n",
            "Epoch 41/50\n",
            "30/30 [==============================] - 5s 165ms/step - loss: 0.4650 - acc: 0.8349 - val_loss: 0.5399 - val_acc: 0.8223\n",
            "Epoch 42/50\n",
            "30/30 [==============================] - 5s 164ms/step - loss: 0.4627 - acc: 0.8385 - val_loss: 0.5859 - val_acc: 0.8099\n",
            "Epoch 43/50\n",
            "30/30 [==============================] - 5s 164ms/step - loss: 0.4583 - acc: 0.8374 - val_loss: 0.4917 - val_acc: 0.8418\n",
            "Epoch 44/50\n",
            "30/30 [==============================] - 5s 165ms/step - loss: 0.4600 - acc: 0.8386 - val_loss: 0.4685 - val_acc: 0.8405\n",
            "Epoch 45/50\n",
            "30/30 [==============================] - 5s 164ms/step - loss: 0.4574 - acc: 0.8365 - val_loss: 0.8852 - val_acc: 0.7305\n",
            "Epoch 46/50\n",
            "30/30 [==============================] - 5s 164ms/step - loss: 0.4510 - acc: 0.8382 - val_loss: 0.6317 - val_acc: 0.7930\n",
            "Epoch 47/50\n",
            "30/30 [==============================] - 5s 165ms/step - loss: 0.4510 - acc: 0.8413 - val_loss: 0.5156 - val_acc: 0.8190\n",
            "Epoch 48/50\n",
            "30/30 [==============================] - 5s 164ms/step - loss: 0.4531 - acc: 0.8410 - val_loss: 0.5772 - val_acc: 0.8125\n",
            "Epoch 49/50\n",
            "30/30 [==============================] - 5s 163ms/step - loss: 0.4358 - acc: 0.8473 - val_loss: 0.6933 - val_acc: 0.7832\n",
            "Epoch 50/50\n",
            "30/30 [==============================] - 5s 165ms/step - loss: 0.4345 - acc: 0.8448 - val_loss: 0.4974 - val_acc: 0.8268\n"
          ],
          "name": "stdout"
        },
        {
          "output_type": "execute_result",
          "data": {
            "text/plain": [
              "<tensorflow.python.keras.callbacks.History at 0x7fa3566f1710>"
            ]
          },
          "metadata": {
            "tags": []
          },
          "execution_count": 24
        }
      ]
    }
  ]
}